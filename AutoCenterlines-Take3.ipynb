{
 "cells": [
  {
   "cell_type": "markdown",
   "metadata": {},
   "source": [
    "\n",
    "## Compute the associated average outward flux\n",
    "\n",
    "To have a good quality gradient of the distance map, perform a light smooth over it. Define convolution kernels in each direction and use them recursively. "
   ]
  },
  {
   "cell_type": "code",
   "execution_count": 1,
   "metadata": {},
   "outputs": [],
   "source": [
    "%matplotlib ipympl\n",
    "import matplotlib.pyplot as plt\n",
    "from vmtk import vmtkscripts\n",
    "from vmtk import vtkvmtk\n",
    "import timeit\n",
    "import os\n",
    "import sys\n",
    "import numpy as np\n",
    "from vtk.numpy_interface import dataset_adapter as dsa\n",
    "import random\n",
    "import networkx as nx\n",
    "import vtk\n",
    "from joblib import Parallel, delayed\n",
    "import math"
   ]
  },
  {
   "cell_type": "markdown",
   "metadata": {},
   "source": [
    "from vtkdatawidgets.vtk_binding import VtkJupyterBridge"
   ]
  },
  {
   "cell_type": "markdown",
   "metadata": {},
   "source": [
    "bridge = VtkJupyterBridge()\n",
    "sphere = vtk.vtkSphereSource()\n",
    "bridge.SetInputConnection(sphere.GetOutputPort())\n",
    "bridge.Update()"
   ]
  },
  {
   "cell_type": "markdown",
   "metadata": {},
   "source": [
    "imgr = vmtkscripts.vmtkImageReader()\n",
    "imgr.InputFileName = os.path.join(os.getcwd(), 'test-surf-normal-hole.mha')\n",
    "imgr.Execute()\n",
    "\n",
    "mc = vmtkscripts.vmtkMarchingCubes()\n",
    "mc.Image = imgr.Image\n",
    "mc.Level = 1000.0\n",
    "mc.Execute()"
   ]
  },
  {
   "cell_type": "code",
   "execution_count": 2,
   "metadata": {},
   "outputs": [],
   "source": [
    "polyData = vtk.vtkPolyData()"
   ]
  },
  {
   "cell_type": "code",
   "execution_count": 5,
   "metadata": {},
   "outputs": [
    {
     "name": "stdout",
     "output_type": "stream",
     "text": [
      "Reading STL surface file.\n"
     ]
    }
   ],
   "source": [
    "surfr = vmtkscripts.vmtkSurfaceReader()\n",
    "surfr.InputFileName = os.path.join(os.getcwd(), 'test-surf-no-hole.stl')\n",
    "surfr.Execute()\n",
    "\n",
    "surf = surfr.Surface"
   ]
  },
  {
   "cell_type": "code",
   "execution_count": 3,
   "metadata": {},
   "outputs": [
    {
     "name": "stdout",
     "output_type": "stream",
     "text": [
      "Quit renderer\n"
     ]
    }
   ],
   "source": [
    "view = vmtkscripts.vmtkSurfaceViewer()\n",
    "view.Surface = surf\n",
    "view.Execute()"
   ]
  },
  {
   "cell_type": "code",
   "execution_count": 6,
   "metadata": {},
   "outputs": [
    {
     "name": "stdout",
     "output_type": "stream",
     "text": [
      "Progress: 100%Progress: 100%\n",
      "Cleaning surface.\n",
      "Triangulating surface.\n",
      "Computing Centerlines ...\n",
      "Cleaning PolyData\n",
      "Stripping PolyData\n"
     ]
    }
   ],
   "source": [
    "cl = vmtkscripts.vmtkCenterlinesNetwork()\n",
    "cl.Surface = surf\n",
    "cl.Execute()"
   ]
  },
  {
   "cell_type": "code",
   "execution_count": 4,
   "metadata": {},
   "outputs": [
    {
     "name": "stdout",
     "output_type": "stream",
     "text": [
      "Cleaning surface.\n",
      "Triangulating surface.\n",
      "Capping surface.\n",
      "Please position the mouse and press space to add source points, 'u' to undo\n",
      "Quit renderer\n",
      "Please position the mouse and press space to add target points, 'u' to undo\n",
      "Quit renderer\n",
      "Computing centerlines.\n",
      "Computing centerlines..."
     ]
    }
   ],
   "source": [
    "cl = vmtkscripts.vmtkCenterlines()\n",
    "cl.Surface = surf\n",
    "cl.Execute()"
   ]
  },
  {
   "cell_type": "code",
   "execution_count": 8,
   "metadata": {},
   "outputs": [
    {
     "name": "stdout",
     "output_type": "stream",
     "text": [
      "Writing VTK XML surface file.\n"
     ]
    }
   ],
   "source": [
    "write = vmtkscripts.vmtkSurfaceWriter()\n",
    "write.Surface = cl.Centerlines\n",
    "write.OutputFileName = os.path.join(os.getcwd(), 'cldata', 'centerlines.vtp')\n",
    "write.Execute()"
   ]
  },
  {
   "cell_type": "code",
   "execution_count": 5,
   "metadata": {},
   "outputs": [
    {
     "name": "stdout",
     "output_type": "stream",
     "text": [
      "vtkPolyData (0x7ff24441bbe0)\n",
      "  Debug: Off\n",
      "  Modified Time: 12751199\n",
      "  Reference Count: 1\n",
      "  Registered Events: (none)\n",
      "  Information: 0x7ff24441bd50\n",
      "  Data Released: False\n",
      "  Global Release Data: Off\n",
      "  UpdateTime: 12751365\n",
      "  Field Data:\n",
      "    Debug: Off\n",
      "    Modified Time: 12751106\n",
      "    Reference Count: 1\n",
      "    Registered Events: (none)\n",
      "    Number Of Arrays: 0\n",
      "    Number Of Components: 0\n",
      "    Number Of Tuples: 0\n",
      "  Number Of Points: 2265\n",
      "  Number Of Cells: 8\n",
      "  Cell Data:\n",
      "    Debug: Off\n",
      "    Modified Time: 12751114\n",
      "    Reference Count: 1\n",
      "    Registered Events: \n",
      "      Registered Observers:\n",
      "        vtkObserver (0x7ff24441c2a0)\n",
      "          Event: 33\n",
      "          EventName: ModifiedEvent\n",
      "          Command: 0x7ff24441bfd0\n",
      "          Priority: 0\n",
      "          Tag: 1\n",
      "    Number Of Arrays: 0\n",
      "    Number Of Components: 0\n",
      "    Number Of Tuples: 0\n",
      "    Copy Tuple Flags: ( 1 1 1 1 1 0 1 1 )\n",
      "    Interpolate Flags: ( 1 1 1 1 1 0 0 1 )\n",
      "    Pass Through Flags: ( 1 1 1 1 1 1 1 1 )\n",
      "    Scalars: (none)\n",
      "    Vectors: (none)\n",
      "    Normals: (none)\n",
      "    TCoords: (none)\n",
      "    Tensors: (none)\n",
      "    GlobalIds: (none)\n",
      "    PedigreeIds: (none)\n",
      "    EdgeFlag: (none)\n",
      "  Point Data:\n",
      "    Debug: Off\n",
      "    Modified Time: 12751197\n",
      "    Reference Count: 1\n",
      "    Registered Events: \n",
      "      Registered Observers:\n",
      "        vtkObserver (0x7ff24441c140)\n",
      "          Event: 33\n",
      "          EventName: ModifiedEvent\n",
      "          Command: 0x7ff24441bfd0\n",
      "          Priority: 0\n",
      "          Tag: 1\n",
      "    Number Of Arrays: 3\n",
      "    Array 0 name = MaximumInscribedSphereRadius\n",
      "    Array 1 name = EdgeArray\n",
      "    Array 2 name = EdgePCoordArray\n",
      "    Number Of Components: 4\n",
      "    Number Of Tuples: 2265\n",
      "    Copy Tuple Flags: ( 1 1 1 1 1 0 1 1 )\n",
      "    Interpolate Flags: ( 1 1 1 1 1 0 0 1 )\n",
      "    Pass Through Flags: ( 1 1 1 1 1 1 1 1 )\n",
      "    Scalars: (none)\n",
      "    Vectors: (none)\n",
      "    Normals: (none)\n",
      "    TCoords: (none)\n",
      "    Tensors: (none)\n",
      "    GlobalIds: (none)\n",
      "    PedigreeIds: (none)\n",
      "    EdgeFlag: (none)\n",
      "  Bounds: \n",
      "    Xmin,Xmax: (8.55617, 30.8605)\n",
      "    Ymin,Ymax: (7.94019, 33.1834)\n",
      "    Zmin,Zmax: (-7.61012, 31.0061)\n",
      "  Compute Time: 12751408\n",
      "  Number Of Points: 2265\n",
      "  Point Coordinates: 0x7ff24441da90\n",
      "  Locator: 0x0\n",
      "  Number Of Vertices: 0\n",
      "  Number Of Lines: 8\n",
      "  Number Of Polygons: 0\n",
      "  Number Of Triangle Strips: 0\n",
      "  Number Of Pieces: 1\n",
      "  Piece: 0\n",
      "  Ghost Level: 0\n",
      "\n",
      "\n"
     ]
    }
   ],
   "source": [
    "print(cl.OrigCenterlines)"
   ]
  },
  {
   "cell_type": "code",
   "execution_count": 5,
   "metadata": {},
   "outputs": [
    {
     "name": "stdout",
     "output_type": "stream",
     "text": [
      "Quit renderer\n"
     ]
    }
   ],
   "source": [
    "view2 = vmtkscripts.vmtkCenterlineViewer()\n",
    "view2.Centerlines = cl.Centerlines\n",
    "view2.PointDataArrayName = 'MaximumInscribedSphereRadius'\n",
    "view2.Execute()"
   ]
  },
  {
   "cell_type": "code",
   "execution_count": 5,
   "metadata": {},
   "outputs": [
    {
     "name": "stdout",
     "output_type": "stream",
     "text": [
      "wrapping vtkPolyData object\n",
      "converting cell data: \n",
      "converting points\n",
      "converting point data: \n",
      "MaximumInscribedSphereRadius\n",
      "EdgeArray\n",
      "EdgePCoordArray\n",
      "converting cell connectivity list\n"
     ]
    }
   ],
   "source": [
    "conv = vmtkscripts.vmtkCenterlinesToNumpy()\n",
    "conv.Centerlines = cl.Centerlines\n",
    "conv.Execute()"
   ]
  },
  {
   "cell_type": "code",
   "execution_count": 6,
   "metadata": {},
   "outputs": [],
   "source": [
    "ad = conv.ArrayDict"
   ]
  },
  {
   "cell_type": "code",
   "execution_count": 7,
   "metadata": {},
   "outputs": [
    {
     "data": {
      "text/plain": [
       "{'Points': array([[ 14.98812103,   5.29034901,  21.58057594],\n",
       "        [ 14.96139908,   5.31326914,  21.5819149 ],\n",
       "        [ 14.90267467,   5.35814762,  21.59190941],\n",
       "        ..., \n",
       "        [ 28.92583656,   8.2573843 ,  -7.74222136],\n",
       "        [ 28.92563057,   8.25743008,  -7.74235201],\n",
       "        [ 28.90869904,   8.26122189,  -7.75310802]], dtype=float32),\n",
       " 'PointData': {'MaximumInscribedSphereRadius': array([ 0.61773737,  0.61816763,  0.61757536, ...,  1.10918818,\n",
       "          1.10905313,  1.09793406]), 'EdgeArray': array([[ 56332,  56332],\n",
       "         [ 56384,  56385],\n",
       "         [ 56378,  56378],\n",
       "         ..., \n",
       "         [175339, 175339],\n",
       "         [173452, 175339],\n",
       "         [173452, 173452]], dtype=int32), 'EdgePCoordArray': array([ 0.   ,  0.02 ,  0.   , ...,  0.   ,  0.988,  0.   ])},\n",
       " 'CellData': {'CellPointIds': [array([1501, 1500, 1499, ...,    2,    1,    0], dtype=int32),\n",
       "   array([2651, 2650, 2649, ..., 1504, 1503, 1502], dtype=int32),\n",
       "   array([3656, 3655, 3654, ..., 2654, 2653, 2652], dtype=int32)]}}"
      ]
     },
     "execution_count": 7,
     "metadata": {},
     "output_type": "execute_result"
    }
   ],
   "source": [
    "ad"
   ]
  },
  {
   "cell_type": "code",
   "execution_count": 8,
   "metadata": {},
   "outputs": [],
   "source": [
    "pd = vtk.vtkPolyData()\n",
    "nppd = dsa.WrapDataObject(pd)"
   ]
  },
  {
   "cell_type": "code",
   "execution_count": 9,
   "metadata": {},
   "outputs": [],
   "source": [
    "points = ad['Points']\n",
    "vtkPoints = dsa.numpyTovtkDataArray(points, 'Points')"
   ]
  },
  {
   "cell_type": "code",
   "execution_count": 12,
   "metadata": {},
   "outputs": [],
   "source": [
    "nppd.Points = vtkPoints"
   ]
  },
  {
   "cell_type": "code",
   "execution_count": 14,
   "metadata": {},
   "outputs": [],
   "source": [
    "for pointDataKeys in ad['PointData'].keys():\n",
    "    pointDataItem = ad['PointData'][pointDataKeys]\n",
    "    nppd.PointData.append(pointDataItem, name=pointDataKeys)"
   ]
  },
  {
   "cell_type": "code",
   "execution_count": 16,
   "metadata": {},
   "outputs": [],
   "source": [
    "for cellKey in ad['CellData'].keys():\n",
    "    \n",
    "    if cellKey == 'CellPointIds':\n",
    "        cellDataArray = vtk.vtkCellArray()\n",
    "        for cellId in ad['CellData']['CellPointIds']:\n",
    "            numberOfCellPoints = cellId.size\n",
    "            cellDataArray.InsertNextCell(numberOfCellPoints)\n",
    "            for cellPoint in cellId:\n",
    "                cellDataArray.InsertCellPoint(cellPoint)\n",
    "\n",
    "        nppd.VTKObject.SetLines(cellDataArray)\n",
    "    else:\n",
    "        cellDataItem = ad['CellData'][cellKey]\n",
    "        nppd.CellData.append(cellDataItem, name='cellKey')"
   ]
  },
  {
   "cell_type": "code",
   "execution_count": 19,
   "metadata": {},
   "outputs": [],
   "source": [
    "outarry = nppd.VTKObject"
   ]
  },
  {
   "cell_type": "code",
   "execution_count": 22,
   "metadata": {},
   "outputs": [
    {
     "name": "stdout",
     "output_type": "stream",
     "text": [
      "Quit renderer\n"
     ]
    }
   ],
   "source": [
    "viewer = vmtkscripts.vmtkCenterlineViewer()\n",
    "viewer.Centerlines = outarry\n",
    "viewer.PointDataArrayName = 'EdgeArray'\n",
    "viewer.Execute()"
   ]
  },
  {
   "cell_type": "code",
   "execution_count": null,
   "metadata": {},
   "outputs": [],
   "source": [
    "pd = vtk.vtkPolyDa"
   ]
  },
  {
   "cell_type": "code",
   "execution_count": 11,
   "metadata": {},
   "outputs": [],
   "source": [
    "rand = np.zeros(shape=npcl.PointData['EdgeArray'].shape)"
   ]
  },
  {
   "cell_type": "code",
   "execution_count": 12,
   "metadata": {},
   "outputs": [],
   "source": [
    "pdar = vtk.vtkPointData()"
   ]
  },
  {
   "cell_type": "code",
   "execution_count": 16,
   "metadata": {},
   "outputs": [],
   "source": [
    "vtrands = dsa.numpyTovtkDataArray(rand, name='RandEdgeArray')"
   ]
  },
  {
   "cell_type": "code",
   "execution_count": 19,
   "metadata": {},
   "outputs": [
    {
     "name": "stdout",
     "output_type": "stream",
     "text": [
      "vtkDoubleArray (0x7fb4df60c8a0)\n",
      "  Debug: Off\n",
      "  Modified Time: 16079109\n",
      "  Reference Count: 1\n",
      "  Registered Events: (none)\n",
      "  Name: RandEdgeArray\n",
      "  Data type: double\n",
      "  Size: 7424\n",
      "  MaxId: 7423\n",
      "  NumberOfComponents: 2\n",
      "  Information: 0x7fb4df606c20\n",
      "    Debug: Off\n",
      "    Modified Time: 16079108\n",
      "    Reference Count: 1\n",
      "    Registered Events: (none)\n",
      "  Name: RandEdgeArray\n",
      "  Number Of Components: 2\n",
      "  Number Of Tuples: 3712\n",
      "  Size: 7424\n",
      "  MaxId: 7423\n",
      "  LookupTable: (none)\n",
      "\n",
      "\n"
     ]
    }
   ],
   "source": [
    "print(vtrands)"
   ]
  },
  {
   "cell_type": "code",
   "execution_count": 21,
   "metadata": {},
   "outputs": [],
   "source": [
    "npcl.PointData.append(rand, name='RandEdgeArray')"
   ]
  },
  {
   "cell_type": "code",
   "execution_count": 23,
   "metadata": {},
   "outputs": [
    {
     "data": {
      "text/plain": [
       "['MaximumInscribedSphereRadius',\n",
       " 'EdgeArray',\n",
       " 'EdgePCoordArray',\n",
       " 'RandEdgeArray']"
      ]
     },
     "execution_count": 23,
     "metadata": {},
     "output_type": "execute_result"
    }
   ],
   "source": [
    "npcl.PointData.keys()"
   ]
  },
  {
   "cell_type": "code",
   "execution_count": null,
   "metadata": {},
   "outputs": [],
   "source": [
    "cent.get"
   ]
  },
  {
   "cell_type": "code",
   "execution_count": null,
   "metadata": {},
   "outputs": [],
   "source": []
  },
  {
   "cell_type": "code",
   "execution_count": null,
   "metadata": {},
   "outputs": [],
   "source": []
  },
  {
   "cell_type": "code",
   "execution_count": null,
   "metadata": {},
   "outputs": [],
   "source": [
    "a = dsa.WrapDataObject(cent)"
   ]
  },
  {
   "cell_type": "code",
   "execution_count": null,
   "metadata": {},
   "outputs": [],
   "source": [
    "a.PointData['EdgeArray']"
   ]
  },
  {
   "cell_type": "code",
   "execution_count": null,
   "metadata": {},
   "outputs": [],
   "source": [
    "fedges = vtk.vtkFeatureEdges()\n",
    "fedges.BoundaryEdgesOn()\n",
    "fedges.FeatureEdgesOff()\n",
    "fedges.ManifoldEdgesOff()\n",
    "fedges.SetInputData(surf)\n",
    "fedges.Update()\n",
    "\n",
    "ofedges = fedges.GetOutput()\n",
    "\n",
    "numEdges = ofedges.GetNumberOfPoints()"
   ]
  },
  {
   "cell_type": "code",
   "execution_count": null,
   "metadata": {},
   "outputs": [],
   "source": [
    "if numEdges != 0:\n",
    "    tempcapper = vmtkscripts.vmtkSurfaceCapper()\n",
    "    tempcapper.Surface = surf\n",
    "    tempcapper.Interactive = 0\n",
    "    tempcapper.Execute()\n",
    "    \n",
    "    networkSurface = tempcapper.Surface\n",
    "else:\n",
    "    networkSurface = surf"
   ]
  },
  {
   "cell_type": "code",
   "execution_count": null,
   "metadata": {},
   "outputs": [],
   "source": [
    "numCells = surf.GetNumberOfCells()\n",
    "cellToDelete = random.randrange(0, numCells-1)\n",
    "\n",
    "networkSurface.BuildLinks()\n",
    "networkSurface.DeleteCell(cellToDelete)\n",
    "networkSurface.RemoveDeletedCells()\n",
    "\n",
    "net = vmtkscripts.vmtkNetworkExtraction()\n",
    "net.Surface = networkSurface\n",
    "net.AdvancementRatio = 1.001\n",
    "net.Execute()\n",
    "\n",
    "network = net.Network"
   ]
  },
  {
   "cell_type": "code",
   "execution_count": null,
   "metadata": {},
   "outputs": [],
   "source": [
    "convert = vmtkscripts.vmtkCenterlinesToNumpy()\n",
    "convert.Centerlines = network\n",
    "convert.Execute()\n",
    "ad = convert.ArrayDict"
   ]
  },
  {
   "cell_type": "code",
   "execution_count": null,
   "metadata": {},
   "outputs": [],
   "source": [
    "cellDataTopology = ad['CellData']['Topology']\n",
    "\n",
    "nodeIndexToIgnore = np.where(cellDataTopology[:,0] == 0)[0][0]\n",
    "\n",
    "keepCellConnectivityList = []\n",
    "pointIdxToKeep = np.array([])\n",
    "for loopIdx, cellConnectivityList in enumerate(ad['CellData']['CellPointIds']):\n",
    "    if loopIdx == nodeIndexToIgnore:\n",
    "        removeCellStartIdx = cellConnectivityList[0]\n",
    "        removeCellEndIdx = cellConnectivityList[-1]\n",
    "        removeCellLength = cellConnectivityList.size\n",
    "        if (removeCellEndIdx + 1) - removeCellStartIdx != removeCellLength:\n",
    "            raise(ValueError)\n",
    "        continue\n",
    "    else:\n",
    "        rescaledCellConnectivity = np.subtract(cellConnectivityList, removeCellLength, where=cellConnectivityList >= removeCellLength)\n",
    "        keepCellConnectivityList.append(rescaledCellConnectivity)\n",
    "        pointIdxToKeep = np.concatenate((pointIdxToKeep, cellConnectivityList)).astype(np.int)\n",
    "        \n",
    "\n",
    "newPoints = ad['Points'][pointIdxToKeep]\n",
    "\n",
    "newRadius = ad['PointData']['Radius'][pointIdxToKeep]"
   ]
  },
  {
   "cell_type": "code",
   "execution_count": null,
   "metadata": {},
   "outputs": [],
   "source": [
    "def compute_centerlines(surfaceAddress, delaunayAddress, cell, points):\n",
    "    '''a method to compute centerlines which can be called in parallel\n",
    "    \n",
    "    Arguments:\n",
    "        surface (obj:`vtkPolyData`): the input surface to calculate centerlines of\n",
    "        delaunay (obj:`vtkUnstructuredGrid`): a previously computed delaunay triangulation\n",
    "            of the surface\n",
    "        cell (np.array): the cellID connectivity list\n",
    "        points (np.array): the x,y,z coordinates of points identified in the cell argument\n",
    "    '''\n",
    "    \n",
    "    cellStartIdx = cell[0]\n",
    "    cellEndIdx = cell[-1]\n",
    "    cellStartPoint = points[cellStartIdx].tolist()\n",
    "    cellEndPoint = points[cellEndIdx].tolist()\n",
    "    \n",
    "    surface = vtk.vtkPolyData(surfaceAddress)\n",
    "    delaunay = vtk.vtkUnstructuredGrid(delaunayAddress)\n",
    "    \n",
    "    cl = vmtkscripts.vmtkCenterlines()\n",
    "    cl.Surface = surface\n",
    "    cl.DelaunayTessellation = delaunay\n",
    "    cl.SeedSelectorName = 'pointlist'\n",
    "    cl.SourcePoints = cellStartPoint\n",
    "    cl.TargetPoints = cellEndPoint\n",
    "    cl.Execute()\n",
    "    \n",
    "    clConvert = vmtkscripts.vmtkCenterlinesToNumpy()\n",
    "    clConvert.Centerlines = cl.Centerlines\n",
    "    clConvert.Execute()\n",
    "    \n",
    "    return clConvert.ArrayDict"
   ]
  },
  {
   "cell_type": "code",
   "execution_count": null,
   "metadata": {},
   "outputs": [],
   "source": [
    "tessalation = vmtkscripts.vmtkDelaunayVoronoi()\n",
    "tessalation.Surface = networkSurface\n",
    "tessalation.Execute()\n",
    "delaunay = tessalation.DelaunayTessellation"
   ]
  },
  {
   "cell_type": "code",
   "execution_count": null,
   "metadata": {},
   "outputs": [],
   "source": [
    "networkSurfaceMemoryAddress = networkSurface.__this__\n",
    "delaunayMemoryAddress = delaunay.__this__"
   ]
  },
  {
   "cell_type": "code",
   "execution_count": null,
   "metadata": {},
   "outputs": [],
   "source": [
    "outlist = Parallel(n_jobs=-1, backend='multiprocessing', verbose=10)(\n",
    "    delayed(compute_centerlines)(networkSurfaceMemoryAddress,\n",
    "                                 delaunayMemoryAddress,\n",
    "                                 cell,\n",
    "                                 newPoints) for cell in keepCellConnectivityList)"
   ]
  },
  {
   "cell_type": "code",
   "execution_count": null,
   "metadata": {},
   "outputs": [],
   "source": [
    "npConvert = vmtkscripts.vmtkNumpyToCenterlines()\n",
    "npConvert.ArrayDict = outlist[0]\n",
    "npConvert.Execute()"
   ]
  },
  {
   "cell_type": "code",
   "execution_count": null,
   "metadata": {},
   "outputs": [],
   "source": [
    "outlist[0]['PointData']['EdgeArray']"
   ]
  },
  {
   "cell_type": "code",
   "execution_count": null,
   "metadata": {},
   "outputs": [],
   "source": [
    "outlist[0]['Points'].shape"
   ]
  },
  {
   "cell_type": "code",
   "execution_count": null,
   "metadata": {},
   "outputs": [],
   "source": [
    "print(npConvert.Centerlines)"
   ]
  },
  {
   "cell_type": "code",
   "execution_count": null,
   "metadata": {},
   "outputs": [],
   "source": [
    "npConvert.ArrayDict['PointData']"
   ]
  },
  {
   "cell_type": "code",
   "execution_count": null,
   "metadata": {},
   "outputs": [],
   "source": [
    "out = []\n",
    "for item in outlist:\n",
    "    npConvert = vmtkscripts.vmtkNumpyToCenterlines()\n",
    "    npConvert.ArrayDict = item\n",
    "    npConvert.Execute()\n",
    "    out.append(npConvert.Centerlines)"
   ]
  },
  {
   "cell_type": "code",
   "execution_count": null,
   "metadata": {},
   "outputs": [],
   "source": [
    "new = vtk.vtkAppendPolyData()\n",
    "for data in out:  \n",
    "    new.AddInputData(data)\n",
    "new.Update()\n",
    "\n",
    "combined = new.GetOutput()"
   ]
  },
  {
   "cell_type": "code",
   "execution_count": null,
   "metadata": {},
   "outputs": [],
   "source": [
    "sv = vmtkscripts.vmtkSurfaceViewer()\n",
    "sv.Surface = b\n",
    "sv.Execute()"
   ]
  },
  {
   "cell_type": "code",
   "execution_count": null,
   "metadata": {},
   "outputs": [],
   "source": [
    "cv = vmtkscripts.vmtkCenterlineViewer()\n",
    "cv.Centerlines = combined\n",
    "cv.PointDataArrayName = 'MaximumInscribedSphereRadius'\n",
    "cv.Execute()"
   ]
  },
  {
   "cell_type": "code",
   "execution_count": null,
   "metadata": {},
   "outputs": [],
   "source": [
    "convert2 = vmtkscripts.vmtkCenterlinesToNumpy()\n",
    "convert2.Centerlines = cl.Centerlines\n",
    "convert2.Execute()\n",
    "ad2 = convert2.ArrayDict"
   ]
  },
  {
   "cell_type": "code",
   "execution_count": null,
   "metadata": {},
   "outputs": [],
   "source": [
    "ad2"
   ]
  },
  {
   "cell_type": "code",
   "execution_count": 6,
   "metadata": {},
   "outputs": [
    {
     "name": "stdout",
     "output_type": "stream",
     "text": [
      "Quit renderer\n",
      "Quit renderer\n"
     ]
    }
   ],
   "source": [
    "rend = vmtkscripts.vmtkRenderer()\n",
    "rend.Execute()\n",
    "\n",
    "view = vmtkscripts.vmtkCenterlineViewer()\n",
    "view.vmtkRenderer = rend.vmtkRenderer\n",
    "view.Centerlines = cl.OrigCenterlines\n",
    "view.Execute()\n",
    "\n",
    "view2 = vmtkscripts.vmtkCenterlineViewer()\n",
    "view2.vmtkRenderer = rend.vmtkRenderer\n",
    "view2.Centerlines = cl.Centerlines\n",
    "view2.PointDataArrayName = 'MaximumInscribedSphereRadius'\n",
    "view2.Execute()"
   ]
  },
  {
   "cell_type": "code",
   "execution_count": null,
   "metadata": {},
   "outputs": [],
   "source": [
    "write = vmtkscripts.vmtkSurfaceWriter()\n",
    "write.Surface = net.Network\n",
    "write.OutputFileName = os.path.join(os.getcwd(), 'test-multi-hole.vtp')\n",
    "write.Execute()"
   ]
  },
  {
   "cell_type": "code",
   "execution_count": null,
   "metadata": {},
   "outputs": [],
   "source": []
  }
 ],
 "metadata": {
  "kernelspec": {
   "display_name": "Python 3",
   "language": "python",
   "name": "python3"
  },
  "language_info": {
   "codemirror_mode": {
    "name": "ipython",
    "version": 3
   },
   "file_extension": ".py",
   "mimetype": "text/x-python",
   "name": "python",
   "nbconvert_exporter": "python",
   "pygments_lexer": "ipython3",
   "version": "3.6.1"
  }
 },
 "nbformat": 4,
 "nbformat_minor": 2
}
