{
 "cells": [
  {
   "cell_type": "code",
   "execution_count": 1,
   "metadata": {},
   "outputs": [],
   "source": [
    "import vtk\n",
    "from vtk.numpy_interface import dataset_adapter as dsa\n",
    "from vmtk import vmtkscripts\n",
    "import numpy as np\n",
    "\n",
    "import os"
   ]
  },
  {
   "cell_type": "code",
   "execution_count": 2,
   "metadata": {},
   "outputs": [],
   "source": [
    "datadir = '/Users/rick/projects/vmtk/vmtk-test-data/input/'"
   ]
  },
  {
   "cell_type": "code",
   "execution_count": 3,
   "metadata": {},
   "outputs": [
    {
     "name": "stdout",
     "output_type": "stream",
     "text": [
      "Reading VTK XML surface file.\n"
     ]
    }
   ],
   "source": [
    "centerlinereader = vmtkscripts.vmtkSurfaceReader()\n",
    "centerlinereader.InputFileName = os.path.join(datadir, 'aorta-centerline.vtp')\n",
    "centerlinereader.Execute()"
   ]
  },
  {
   "cell_type": "code",
   "execution_count": 4,
   "metadata": {},
   "outputs": [],
   "source": [
    "branchextractor = vmtkscripts.vmtkBranchExtractor()\n",
    "branchextractor.Centerlines = centerlinereader.Surface\n",
    "branchextractor.RadiusArrayName = 'MaximumInscribedSphereRadius'\n",
    "branchextractor.Execute()"
   ]
  },
  {
   "cell_type": "code",
   "execution_count": 5,
   "metadata": {},
   "outputs": [],
   "source": [
    "bifur = vmtkscripts.vmtkBifurcationReferenceSystems()\n",
    "bifur.Centerlines = branchextractor.Centerlines\n",
    "bifur.RadiusArrayName = 'MaximumInscribedSphereRadius'\n",
    "bifur.BlankingArrayName = 'Blanking'\n",
    "bifur.GroupIdsArrayName = 'GroupIds'\n",
    "bifur.Execute()"
   ]
  },
  {
   "cell_type": "code",
   "execution_count": 7,
   "metadata": {},
   "outputs": [],
   "source": [
    "vectors = vmtkscripts.vmtkBifurcationVectors()\n",
    "vectors.Centerlines = branchextractor.Centerlines\n",
    "vectors.ReferenceSystems = bifur.ReferenceSystems\n",
    "vectors.RadiusArrayName = \"MaximumInscribedSphereRadius\"\n",
    "vectors.GroupIdsArrayName = \"GroupIds\"\n",
    "vectors.CenterlineIdsArrayName = \"CenterlineIds\"\n",
    "vectors.TractIdsArrayName = \"TractIds\"\n",
    "vectors.BlankingArrayName = \"Blanking\"\n",
    "vectors.ReferenceSystemsNormalArrayName = \"Normal\"\n",
    "vectors.ReferenceSystemsUpNormalArrayName = \"UpNormal\"\n",
    "vectors.NormalizeBifurcationVectors = 0\n",
    "vectors.Execute()"
   ]
  },
  {
   "cell_type": "code",
   "execution_count": 9,
   "metadata": {},
   "outputs": [],
   "source": [
    "vec = vectors.BifurcationVectors"
   ]
  },
  {
   "cell_type": "code",
   "execution_count": 10,
   "metadata": {},
   "outputs": [
    {
     "data": {
      "text/plain": [
       "3"
      ]
     },
     "execution_count": 10,
     "metadata": {},
     "output_type": "execute_result"
    }
   ],
   "source": [
    "vec.GetNumberOfPoints()"
   ]
  },
  {
   "cell_type": "code",
   "execution_count": 16,
   "metadata": {},
   "outputs": [
    {
     "data": {
      "text/plain": [
       "8"
      ]
     },
     "execution_count": 16,
     "metadata": {},
     "output_type": "execute_result"
    }
   ],
   "source": [
    "vecpd = vec.GetPointData()\n",
    "\n",
    "vecpd.GetNumberOfArrays()"
   ]
  },
  {
   "cell_type": "code",
   "execution_count": 30,
   "metadata": {},
   "outputs": [
    {
     "name": "stdout",
     "output_type": "stream",
     "text": [
      "0  BifurcationVectors\n",
      "1  InPlaneBifurcationVectors\n",
      "2  OutOfPlaneBifurcationVectors\n",
      "3  InPlaneBifurcationVectorAngles\n",
      "4  OutOfPlaneBifurcationVectorAngles\n",
      "5  BifurcationVectorsOrientation\n",
      "6  GroupIds\n",
      "7  BifurcationGroupIds\n"
     ]
    }
   ],
   "source": [
    "for i in range(8):\n",
    "    print(f'{i} ', vecpd.GetArrayName(i))"
   ]
  },
  {
   "cell_type": "code",
   "execution_count": 21,
   "metadata": {},
   "outputs": [
    {
     "name": "stdout",
     "output_type": "stream",
     "text": [
      "arraynumber 0:  3\n",
      "arraynumber 1:  3\n",
      "arraynumber 2:  3\n",
      "arraynumber 3:  1\n",
      "arraynumber 4:  1\n",
      "arraynumber 5:  1\n",
      "arraynumber 6:  1\n",
      "arraynumber 7:  1\n"
     ]
    }
   ],
   "source": [
    "for i in range(8):\n",
    "    print(f'arraynumber {i}: ', vecpd.GetArray(i).GetNumberOfComponents())"
   ]
  },
  {
   "cell_type": "code",
   "execution_count": 25,
   "metadata": {},
   "outputs": [],
   "source": [
    "wp = dsa.WrapDataObject(vec)"
   ]
  },
  {
   "cell_type": "code",
   "execution_count": 27,
   "metadata": {},
   "outputs": [
    {
     "data": {
      "text/plain": [
       "['BifurcationVectors',\n",
       " 'InPlaneBifurcationVectors',\n",
       " 'OutOfPlaneBifurcationVectors',\n",
       " 'InPlaneBifurcationVectorAngles',\n",
       " 'OutOfPlaneBifurcationVectorAngles',\n",
       " 'BifurcationVectorsOrientation',\n",
       " 'GroupIds',\n",
       " 'BifurcationGroupIds']"
      ]
     },
     "execution_count": 27,
     "metadata": {},
     "output_type": "execute_result"
    }
   ],
   "source": [
    "wp.PointData.keys()"
   ]
  },
  {
   "cell_type": "code",
   "execution_count": 41,
   "metadata": {},
   "outputs": [
    {
     "data": {
      "text/plain": [
       "array([1, 1, 1], dtype=int32)"
      ]
     },
     "execution_count": 41,
     "metadata": {},
     "output_type": "execute_result"
    }
   ],
   "source": [
    "np.array(wp.PointData['BifurcationGroupIds'])"
   ]
  },
  {
   "cell_type": "code",
   "execution_count": 33,
   "metadata": {},
   "outputs": [
    {
     "data": {
      "text/plain": [
       "array([[ 221.4466095 ,  147.7495575 ,   23.43517685],\n",
       "       [ 225.06373596,  134.70544434,   23.55709076],\n",
       "       [ 218.53140259,  134.76171875,   24.90955925]], dtype=float32)"
      ]
     },
     "execution_count": 33,
     "metadata": {},
     "output_type": "execute_result"
    }
   ],
   "source": [
    "np.array(wp.Points)"
   ]
  },
  {
   "cell_type": "code",
   "execution_count": 24,
   "metadata": {},
   "outputs": [
    {
     "data": {
      "text/plain": [
       "0.5601566274438277"
      ]
     },
     "execution_count": 24,
     "metadata": {},
     "output_type": "execute_result"
    }
   ],
   "source": [
    "vecpd.GetArray(0).GetComponent(2, 2)"
   ]
  },
  {
   "cell_type": "code",
   "execution_count": 8,
   "metadata": {},
   "outputs": [
    {
     "name": "stdout",
     "output_type": "stream",
     "text": [
      "vtkPolyData (0x7f9c24e6dda0)\n",
      "  Debug: Off\n",
      "  Modified Time: 16669\n",
      "  Reference Count: 1\n",
      "  Registered Events: (none)\n",
      "  Information: 0x7f9c24e6df10\n",
      "  Data Released: False\n",
      "  Global Release Data: Off\n",
      "  UpdateTime: 16874\n",
      "  Field Data:\n",
      "    Debug: Off\n",
      "    Modified Time: 16540\n",
      "    Reference Count: 1\n",
      "    Registered Events: (none)\n",
      "    Number Of Arrays: 0\n",
      "    Number Of Components: 0\n",
      "    Number Of Tuples: 0\n",
      "  Number Of Points: 3\n",
      "  Number Of Cells: 3\n",
      "  Cell Data:\n",
      "    Debug: Off\n",
      "    Modified Time: 16548\n",
      "    Reference Count: 1\n",
      "    Registered Events: \n",
      "      Registered Observers:\n",
      "        vtkObserver (0x7f9c24e6e460)\n",
      "          Event: 33\n",
      "          EventName: ModifiedEvent\n",
      "          Command: 0x7f9c24e6e190\n",
      "          Priority: 0\n",
      "          Tag: 1\n",
      "    Number Of Arrays: 0\n",
      "    Number Of Components: 0\n",
      "    Number Of Tuples: 0\n",
      "    Copy Tuple Flags: ( 1 1 1 1 1 0 1 1 )\n",
      "    Interpolate Flags: ( 1 1 1 1 1 0 0 1 )\n",
      "    Pass Through Flags: ( 1 1 1 1 1 1 1 1 )\n",
      "    Scalars: (none)\n",
      "    Vectors: (none)\n",
      "    Normals: (none)\n",
      "    TCoords: (none)\n",
      "    Tensors: (none)\n",
      "    GlobalIds: (none)\n",
      "    PedigreeIds: (none)\n",
      "    EdgeFlag: (none)\n",
      "  Point Data:\n",
      "    Debug: Off\n",
      "    Modified Time: 16669\n",
      "    Reference Count: 1\n",
      "    Registered Events: \n",
      "      Registered Observers:\n",
      "        vtkObserver (0x7f9c24e6e300)\n",
      "          Event: 33\n",
      "          EventName: ModifiedEvent\n",
      "          Command: 0x7f9c24e6e190\n",
      "          Priority: 0\n",
      "          Tag: 1\n",
      "    Number Of Arrays: 8\n",
      "    Array 0 name = BifurcationVectors\n",
      "    Array 1 name = InPlaneBifurcationVectors\n",
      "    Array 2 name = OutOfPlaneBifurcationVectors\n",
      "    Array 3 name = InPlaneBifurcationVectorAngles\n",
      "    Array 4 name = OutOfPlaneBifurcationVectorAngles\n",
      "    Array 5 name = BifurcationVectorsOrientation\n",
      "    Array 6 name = GroupIds\n",
      "    Array 7 name = BifurcationGroupIds\n",
      "    Number Of Components: 14\n",
      "    Number Of Tuples: 3\n",
      "    Copy Tuple Flags: ( 1 1 1 1 1 0 1 1 )\n",
      "    Interpolate Flags: ( 1 1 1 1 1 0 0 1 )\n",
      "    Pass Through Flags: ( 1 1 1 1 1 1 1 1 )\n",
      "    Scalars: (none)\n",
      "    Vectors: (none)\n",
      "    Normals: (none)\n",
      "    TCoords: (none)\n",
      "    Tensors: (none)\n",
      "    GlobalIds: (none)\n",
      "    PedigreeIds: (none)\n",
      "    EdgeFlag: (none)\n",
      "  Bounds: \n",
      "    Xmin,Xmax: (218.531, 225.064)\n",
      "    Ymin,Ymax: (134.705, 147.75)\n",
      "    Zmin,Zmax: (23.4352, 24.9096)\n",
      "  Compute Time: 16889\n",
      "  Number Of Points: 3\n",
      "  Point Coordinates: 0x7f9c24e6edf0\n",
      "  Locator: 0x0\n",
      "  Number Of Vertices: 3\n",
      "  Number Of Lines: 0\n",
      "  Number Of Polygons: 0\n",
      "  Number Of Triangle Strips: 0\n",
      "  Number Of Pieces: 1\n",
      "  Piece: 0\n",
      "  Ghost Level: 0\n",
      "\n",
      "\n"
     ]
    }
   ],
   "source": [
    "print(vectors.BifurcationVectors)"
   ]
  },
  {
   "cell_type": "code",
   "execution_count": null,
   "metadata": {},
   "outputs": [],
   "source": [
    "surfaceviewer = vmtkscripts.vmtkSurfaceViewer()\n",
    "surfaceviewer.Surface = branchclipper.Surface\n",
    "surfaceviewer.ArrayName = 'GroupIds'\n",
    "surfaceviewer.Execute()"
   ]
  },
  {
   "cell_type": "code",
   "execution_count": null,
   "metadata": {},
   "outputs": [],
   "source": [
    "centerlineviewer = vmtkscripts.vmtkCenterlineViewer()\n",
    "centerlineviewer.Centerlines = offset.Centerlines\n",
    "centerlineviewer.PointDataArrayName = 'Abscissas'\n",
    "centerlineviewer.Execute()"
   ]
  },
  {
   "cell_type": "code",
   "execution_count": null,
   "metadata": {},
   "outputs": [],
   "source": []
  }
 ],
 "metadata": {
  "kernelspec": {
   "display_name": "Python 3",
   "language": "python",
   "name": "python3"
  },
  "language_info": {
   "codemirror_mode": {
    "name": "ipython",
    "version": 3
   },
   "file_extension": ".py",
   "mimetype": "text/x-python",
   "name": "python",
   "nbconvert_exporter": "python",
   "pygments_lexer": "ipython3",
   "version": "3.6.1"
  }
 },
 "nbformat": 4,
 "nbformat_minor": 2
}
