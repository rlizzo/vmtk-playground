{
 "cells": [
  {
   "cell_type": "code",
   "execution_count": 1,
   "metadata": {},
   "outputs": [],
   "source": [
    "import vtk\n",
    "from vtk.numpy_interface import dataset_adapter as dsa\n",
    "from vmtk import vmtkscripts\n",
    "import numpy as np\n",
    "\n",
    "import os"
   ]
  },
  {
   "cell_type": "code",
   "execution_count": 2,
   "metadata": {},
   "outputs": [],
   "source": [
    "datadir = '/Users/rick/projects/vmtk/vmtk-test-data/input/'"
   ]
  },
  {
   "cell_type": "code",
   "execution_count": 3,
   "metadata": {},
   "outputs": [
    {
     "name": "stdout",
     "output_type": "stream",
     "text": [
      "Reading VTK XML surface file.\n"
     ]
    }
   ],
   "source": [
    "centerlinereader = vmtkscripts.vmtkSurfaceReader()\n",
    "centerlinereader.InputFileName = os.path.join(datadir, 'aorta-centerline-attribute-branches.vtp')\n",
    "centerlinereader.Execute()"
   ]
  },
  {
   "cell_type": "code",
   "execution_count": 4,
   "metadata": {},
   "outputs": [
    {
     "name": "stdout",
     "output_type": "stream",
     "text": [
      "Reading VTK XML surface file.\n"
     ]
    }
   ],
   "source": [
    "surfacereader = vmtkscripts.vmtkSurfaceReader()\n",
    "surfacereader.InputFileName = os.path.join(datadir, 'aorta-surface-branch-split.vtp')\n",
    "surfacereader.Execute()"
   ]
  },
  {
   "cell_type": "code",
   "execution_count": 5,
   "metadata": {},
   "outputs": [
    {
     "name": "stdout",
     "output_type": "stream",
     "text": [
      "Computing angular metric\n",
      "Computing abscissa metric\n"
     ]
    }
   ],
   "source": [
    "metrics = vmtkscripts.vmtkBranchMetrics()\n",
    "metrics.Surface = surfacereader.Surface\n",
    "metrics.Centerlines = centerlinereader.Surface\n",
    "metrics.AbscissasArrayName = 'Abscissas'\n",
    "metrics.NormalsArrayName = 'ParallelTransportNormals'\n",
    "metrics.RadiusArrayName = 'MaximumInscribedSphereRadius'\n",
    "metrics.GroupIdsArrayName = 'GroupIds'\n",
    "metrics.CenterlineIdsArrayName = 'CenterlineIds'\n",
    "metrics.TractIdsArrayName = 'TractIds'\n",
    "metrics.BlankingArrayName = 'Blanking'\n",
    "metrics.Execute()"
   ]
  },
  {
   "cell_type": "code",
   "execution_count": 6,
   "metadata": {},
   "outputs": [],
   "source": [
    "surf = metrics.Surface"
   ]
  },
  {
   "cell_type": "code",
   "execution_count": 7,
   "metadata": {},
   "outputs": [
    {
     "name": "stdout",
     "output_type": "stream",
     "text": [
      "vtkPolyData (0x7fe8e6744e40)\n",
      "  Debug: Off\n",
      "  Modified Time: 514237\n",
      "  Reference Count: 1\n",
      "  Registered Events: (none)\n",
      "  Information: 0x7fe8e674f970\n",
      "  Data Released: False\n",
      "  Global Release Data: Off\n",
      "  UpdateTime: 898492\n",
      "  Field Data:\n",
      "    Debug: Off\n",
      "    Modified Time: 514209\n",
      "    Reference Count: 1\n",
      "    Registered Events: (none)\n",
      "    Number Of Arrays: 0\n",
      "    Number Of Components: 0\n",
      "    Number Of Tuples: 0\n",
      "  Number Of Points: 6826\n",
      "  Number Of Cells: 13288\n",
      "  Cell Data:\n",
      "    Debug: Off\n",
      "    Modified Time: 514140\n",
      "    Reference Count: 1\n",
      "    Registered Events: \n",
      "      Registered Observers:\n",
      "        vtkObserver (0x7fe8e674fec0)\n",
      "          Event: 33\n",
      "          EventName: ModifiedEvent\n",
      "          Command: 0x7fe8e674fbf0\n",
      "          Priority: 0\n",
      "          Tag: 1\n",
      "    Number Of Arrays: 0\n",
      "    Number Of Components: 0\n",
      "    Number Of Tuples: 0\n",
      "    Copy Tuple Flags: ( 1 1 1 1 1 0 1 1 )\n",
      "    Interpolate Flags: ( 1 1 1 1 1 0 0 1 )\n",
      "    Pass Through Flags: ( 1 1 1 1 1 1 1 1 )\n",
      "    Scalars: (none)\n",
      "    Vectors: (none)\n",
      "    Normals: (none)\n",
      "    TCoords: (none)\n",
      "    Tensors: (none)\n",
      "    GlobalIds: (none)\n",
      "    PedigreeIds: (none)\n",
      "    EdgeFlag: (none)\n",
      "  Point Data:\n",
      "    Debug: Off\n",
      "    Modified Time: 514237\n",
      "    Reference Count: 1\n",
      "    Registered Events: \n",
      "      Registered Observers:\n",
      "        vtkObserver (0x7fe8e674fd60)\n",
      "          Event: 33\n",
      "          EventName: ModifiedEvent\n",
      "          Command: 0x7fe8e674fbf0\n",
      "          Priority: 0\n",
      "          Tag: 1\n",
      "    Number Of Arrays: 6\n",
      "    Array 0 name = Scalars_\n",
      "    Array 1 name = GroupIds\n",
      "    Array 2 name = ClippingArray\n",
      "    Array 3 name = Normals_\n",
      "    Array 4 name = AngularMetric\n",
      "    Array 5 name = AbscissaMetric\n",
      "    Number Of Components: 8\n",
      "    Number Of Tuples: 6826\n",
      "    Copy Tuple Flags: ( 1 1 1 1 1 0 1 1 )\n",
      "    Interpolate Flags: ( 1 1 1 1 1 0 0 1 )\n",
      "    Pass Through Flags: ( 1 1 1 1 1 1 1 1 )\n",
      "    Scalars: \n",
      "      Debug: Off\n",
      "      Modified Time: 514178\n",
      "      Reference Count: 1\n",
      "      Registered Events: (none)\n",
      "      Name: ClippingArray\n",
      "      Data type: double\n",
      "      Size: 6826\n",
      "      MaxId: 6825\n",
      "      NumberOfComponents: 1\n",
      "      Information: 0x7fe8e6751270\n",
      "        Debug: Off\n",
      "        Modified Time: 514177\n",
      "        Reference Count: 1\n",
      "        Registered Events: (none)\n",
      "      Name: ClippingArray\n",
      "      Number Of Components: 1\n",
      "      Number Of Tuples: 6826\n",
      "      Size: 6826\n",
      "      MaxId: 6825\n",
      "      LookupTable: (none)\n",
      "    Vectors: (none)\n",
      "    Normals: \n",
      "      Debug: Off\n",
      "      Modified Time: 514195\n",
      "      Reference Count: 1\n",
      "      Registered Events: (none)\n",
      "      Name: Normals_\n",
      "      Data type: float\n",
      "      Size: 20478\n",
      "      MaxId: 20477\n",
      "      NumberOfComponents: 3\n",
      "      Information: 0x7fe8e67515d0\n",
      "        Debug: Off\n",
      "        Modified Time: 514194\n",
      "        Reference Count: 1\n",
      "        Registered Events: (none)\n",
      "      Name: Normals_\n",
      "      Number Of Components: 3\n",
      "      Number Of Tuples: 6826\n",
      "      Size: 20478\n",
      "      MaxId: 20477\n",
      "      LookupTable: (none)\n",
      "    TCoords: (none)\n",
      "    Tensors: (none)\n",
      "    GlobalIds: (none)\n",
      "    PedigreeIds: (none)\n",
      "    EdgeFlag: (none)\n",
      "  Bounds: \n",
      "    Xmin,Xmax: (205.619, 239.923)\n",
      "    Ymin,Ymax: (97.6686, 181.625)\n",
      "    Zmin,Zmax: (12.4547, 35.3599)\n",
      "  Compute Time: 898551\n",
      "  Number Of Points: 6826\n",
      "  Point Coordinates: 0x7fe8e6750850\n",
      "  Locator: 0x0\n",
      "  Number Of Vertices: 0\n",
      "  Number Of Lines: 0\n",
      "  Number Of Polygons: 13288\n",
      "  Number Of Triangle Strips: 0\n",
      "  Number Of Pieces: 1\n",
      "  Piece: 0\n",
      "  Ghost Level: 0\n",
      "\n",
      "\n"
     ]
    }
   ],
   "source": [
    "print(surf)"
   ]
  },
  {
   "cell_type": "code",
   "execution_count": 8,
   "metadata": {},
   "outputs": [],
   "source": [
    "wp = dsa.WrapDataObject(surf)"
   ]
  },
  {
   "cell_type": "code",
   "execution_count": 9,
   "metadata": {},
   "outputs": [
    {
     "data": {
      "text/plain": [
       "['Scalars_',\n",
       " 'GroupIds',\n",
       " 'ClippingArray',\n",
       " 'Normals_',\n",
       " 'AngularMetric',\n",
       " 'AbscissaMetric']"
      ]
     },
     "execution_count": 9,
     "metadata": {},
     "output_type": "execute_result"
    }
   ],
   "source": [
    "wp.PointData.keys()"
   ]
  },
  {
   "cell_type": "code",
   "execution_count": 10,
   "metadata": {},
   "outputs": [],
   "source": [
    "cellDataKeys = ['Scalars_',\n",
    "                 'GroupIds',\n",
    "                 'ClippingArray',\n",
    "                 'Normals_',\n",
    "                 'AngularMetric',\n",
    "                 'AbscissaMetric']"
   ]
  },
  {
   "cell_type": "code",
   "execution_count": 13,
   "metadata": {},
   "outputs": [
    {
     "name": "stdout",
     "output_type": "stream",
     "text": [
      "Scalars_\n",
      "GroupIds\n",
      "ClippingArray\n",
      "Normals_\n",
      "AngularMetric\n",
      "AbscissaMetric\n"
     ]
    }
   ],
   "source": [
    "objectCellDataKeys = wp.PointData.keys()\n",
    "for cellKey in cellDataKeys:\n",
    "    print(cellKey)\n",
    "    assert cellKey in objectCellDataKeys\n",
    "    objectCellDataKeys.remove(cellKey)\n",
    "    \n",
    "assert len(objectCellDataKeys) == 0"
   ]
  },
  {
   "cell_type": "code",
   "execution_count": 23,
   "metadata": {},
   "outputs": [],
   "source": [
    "assert len(wp.PointData.keys()) == 0"
   ]
  },
  {
   "cell_type": "code",
   "execution_count": 16,
   "metadata": {},
   "outputs": [
    {
     "name": "stdout",
     "output_type": "stream",
     "text": [
      "Scalars_ \n",
      " [ 0.  0.  0. ...,  0.  0.  0.]\n",
      "GroupIds \n",
      " [0 0 0 ..., 3 3 3]\n",
      "ClippingArray \n",
      " [ 1483.45955408  1480.89258716  1472.0679105  ...,   506.61756505\n",
      "   574.64533848   535.71195108]\n",
      "Normals_ \n",
      " [[ 0.19418415  0.50526708  0.84083158]\n",
      " [ 0.24531646  0.54545981  0.80143207]\n",
      " [ 0.2298568   0.51062083  0.82851201]\n",
      " ..., \n",
      " [-0.33664939 -0.18728521 -0.92281711]\n",
      " [ 0.115893   -0.27621996 -0.95408142]\n",
      " [-0.08968667 -0.23658742 -0.967462  ]]\n",
      "AngularMetric \n",
      " [ 1.82336061  1.86045107  1.8287439  ..., -1.06461794 -1.67579795\n",
      " -1.42419953]\n",
      "AbscissaMetric \n",
      " [  3.88414617   3.88414617   3.88414617 ...,  75.28235213  75.28235213\n",
      "  75.28235213]\n"
     ]
    }
   ],
   "source": [
    "for key in cellDataKeys:\n",
    "    print(f'{key} \\n {wp.PointData.GetArray(key)}')"
   ]
  },
  {
   "cell_type": "code",
   "execution_count": 25,
   "metadata": {},
   "outputs": [
    {
     "data": {
      "text/plain": [
       "(294, 3)"
      ]
     },
     "execution_count": 25,
     "metadata": {},
     "output_type": "execute_result"
    }
   ],
   "source": [
    "wp.Points.shape"
   ]
  },
  {
   "cell_type": "code",
   "execution_count": 26,
   "metadata": {},
   "outputs": [
    {
     "ename": "AssertionError",
     "evalue": "",
     "output_type": "error",
     "traceback": [
      "\u001b[0;31m---------------------------------------------------------------------------\u001b[0m",
      "\u001b[0;31mAssertionError\u001b[0m                            Traceback (most recent call last)",
      "\u001b[0;32m<ipython-input-26-56b0e2f10dea>\u001b[0m in \u001b[0;36m<module>\u001b[0;34m()\u001b[0m\n\u001b[0;32m----> 1\u001b[0;31m \u001b[0;32massert\u001b[0m \u001b[0mwp\u001b[0m\u001b[0;34m.\u001b[0m\u001b[0mPoints\u001b[0m\u001b[0;34m.\u001b[0m\u001b[0mshape\u001b[0m \u001b[0;34m==\u001b[0m \u001b[0;34m(\u001b[0m\u001b[0;36m280\u001b[0m\u001b[0;34m,\u001b[0m \u001b[0;36m3\u001b[0m\u001b[0;34m)\u001b[0m\u001b[0;34m\u001b[0m\u001b[0m\n\u001b[0m",
      "\u001b[0;31mAssertionError\u001b[0m: "
     ]
    }
   ],
   "source": [
    "assert wp.Points.shape == (280, 3)"
   ]
  },
  {
   "cell_type": "code",
   "execution_count": 28,
   "metadata": {},
   "outputs": [
    {
     "name": "stdout",
     "output_type": "stream",
     "text": [
      "For cell: 0\n",
      "Number Of Points: 124 \n",
      " Point Id Start: 0 \n",
      " Point Id End: 123 \n",
      " np.array([ 220.9937439   146.86668396   16.48843384]), np.array([ 221.39068604  146.87068176   16.47060013]) \n",
      "\n",
      "For cell: 1\n",
      "Number Of Points: 80 \n",
      " Point Id Start: 124 \n",
      " Point Id End: 203 \n",
      " np.array([ 225.22320557  128.92987061   19.44786835]), np.array([ 225.25431824  128.94456482   19.42810059]) \n",
      "\n",
      "For cell: 2\n",
      "Number Of Points: 90 \n",
      " Point Id Start: 204 \n",
      " Point Id End: 293 \n",
      " np.array([ 221.40382385  128.67816162   22.39156914]), np.array([ 221.80430603  128.64775085   24.46484756]) \n",
      "\n"
     ]
    }
   ],
   "source": [
    "for idx in range(3):\n",
    "    print(f'For cell: {idx}')\n",
    "    bcx = bifurs.GetCell(idx)\n",
    "    numberOfPoints = bcx.GetNumberOfPoints()\n",
    "    pointIdStart = bcx.GetPointId(0)\n",
    "    pointIdEnd = bcx.GetPointId(numberOfPoints - 1)\n",
    "    pointLocationStart = wp.Points[pointIdStart]\n",
    "    pointLocationEnd = wp.Points[pointIdEnd]\n",
    "    print(f'Number Of Points: {numberOfPoints} \\n',\n",
    "          f'Point Id Start: {pointIdStart} \\n',\n",
    "          f'Point Id End: {pointIdEnd} \\n',\n",
    "          f'np.array({pointLocationStart}), np.array({pointLocationEnd}) \\n')"
   ]
  },
  {
   "cell_type": "code",
   "execution_count": 14,
   "metadata": {},
   "outputs": [
    {
     "name": "stdout",
     "output_type": "stream",
     "text": [
      "vtkPolyData (0x7fa3bf082320)\n",
      "  Debug: Off\n",
      "  Modified Time: 1546\n",
      "  Reference Count: 1\n",
      "  Registered Events: (none)\n",
      "  Information: 0x7fa3bf082490\n",
      "  Data Released: False\n",
      "  Global Release Data: Off\n",
      "  UpdateTime: 7982\n",
      "  Field Data:\n",
      "    Debug: Off\n",
      "    Modified Time: 1392\n",
      "    Reference Count: 1\n",
      "    Registered Events: (none)\n",
      "    Number Of Arrays: 0\n",
      "    Number Of Components: 0\n",
      "    Number Of Tuples: 0\n",
      "  Number Of Points: 280\n",
      "  Number Of Cells: 3\n",
      "  Cell Data:\n",
      "    Debug: Off\n",
      "    Modified Time: 1527\n",
      "    Reference Count: 1\n",
      "    Registered Events: \n",
      "      Registered Observers:\n",
      "        vtkObserver (0x7fa3bf062d30)\n",
      "          Event: 33\n",
      "          EventName: ModifiedEvent\n",
      "          Command: 0x7fa3bf070b00\n",
      "          Priority: 0\n",
      "          Tag: 1\n",
      "    Number Of Arrays: 11\n",
      "    Array 0 name = BifurcationSectionGroupIds\n",
      "    Array 1 name = BifurcationSectionBifurcationGroupIds\n",
      "    Array 2 name = BifurcationSectionPoint\n",
      "    Array 3 name = BifurcationSectionNormal\n",
      "    Array 4 name = BifurcationSectionArea\n",
      "    Array 5 name = BifurcationSectionMinSize\n",
      "    Array 6 name = BifurcationSectionMaxSize\n",
      "    Array 7 name = BifurcationSectionShape\n",
      "    Array 8 name = BifurcationSectionClosed\n",
      "    Array 9 name = BifurcationSectionOrientation\n",
      "    Array 10 name = BifurcationSectionDistanceSpheres\n",
      "    Number Of Components: 15\n",
      "    Number Of Tuples: 3\n",
      "    Copy Tuple Flags: ( 1 1 1 1 1 0 1 1 )\n",
      "    Interpolate Flags: ( 1 1 1 1 1 0 0 1 )\n",
      "    Pass Through Flags: ( 1 1 1 1 1 1 1 1 )\n",
      "    Scalars: (none)\n",
      "    Vectors: (none)\n",
      "    Normals: (none)\n",
      "    TCoords: (none)\n",
      "    Tensors: (none)\n",
      "    GlobalIds: (none)\n",
      "    PedigreeIds: (none)\n",
      "    EdgeFlag: (none)\n",
      "  Point Data:\n",
      "    Debug: Off\n",
      "    Modified Time: 1402\n",
      "    Reference Count: 1\n",
      "    Registered Events: \n",
      "      Registered Observers:\n",
      "        vtkObserver (0x7fa3bf062bd0)\n",
      "          Event: 33\n",
      "          EventName: ModifiedEvent\n",
      "          Command: 0x7fa3bf070b00\n",
      "          Priority: 0\n",
      "          Tag: 1\n",
      "    Number Of Arrays: 0\n",
      "    Number Of Components: 0\n",
      "    Number Of Tuples: 0\n",
      "    Copy Tuple Flags: ( 1 1 1 1 1 0 1 1 )\n",
      "    Interpolate Flags: ( 1 1 1 1 1 0 0 1 )\n",
      "    Pass Through Flags: ( 1 1 1 1 1 1 1 1 )\n",
      "    Scalars: (none)\n",
      "    Vectors: (none)\n",
      "    Normals: (none)\n",
      "    TCoords: (none)\n",
      "    Tensors: (none)\n",
      "    GlobalIds: (none)\n",
      "    PedigreeIds: (none)\n",
      "    EdgeFlag: (none)\n",
      "  Bounds: \n",
      "    Xmin,Xmax: (210.688, 233.084)\n",
      "    Ymin,Ymax: (125.429, 156.898)\n",
      "    Zmin,Zmax: (15.2646, 30.8392)\n",
      "  Compute Time: 8016\n",
      "  Number Of Points: 280\n",
      "  Point Coordinates: 0x7fa3bf086fa0\n",
      "  Locator: 0x0\n",
      "  Number Of Vertices: 0\n",
      "  Number Of Lines: 0\n",
      "  Number Of Polygons: 3\n",
      "  Number Of Triangle Strips: 0\n",
      "  Number Of Pieces: 1\n",
      "  Piece: 0\n",
      "  Ghost Level: 0\n",
      "\n",
      "\n"
     ]
    }
   ],
   "source": [
    "print(bifurs)"
   ]
  },
  {
   "cell_type": "code",
   "execution_count": null,
   "metadata": {},
   "outputs": [],
   "source": [
    "sections.OutputSectionArea"
   ]
  },
  {
   "cell_type": "code",
   "execution_count": 9,
   "metadata": {},
   "outputs": [
    {
     "name": "stdout",
     "output_type": "stream",
     "text": [
      "Quit renderer\n"
     ]
    }
   ],
   "source": [
    "surfaceviewer = vmtkscripts.vmtkSurfaceViewer()\n",
    "surfaceviewer.Surface = surf\n",
    "surfaceviewer.ArrayName = 'AbscissaMetric'\n",
    "surfaceviewer.Execute()"
   ]
  },
  {
   "cell_type": "code",
   "execution_count": null,
   "metadata": {},
   "outputs": [],
   "source": []
  }
 ],
 "metadata": {
  "kernelspec": {
   "display_name": "Python 3",
   "language": "python",
   "name": "python3"
  },
  "language_info": {
   "codemirror_mode": {
    "name": "ipython",
    "version": 3
   },
   "file_extension": ".py",
   "mimetype": "text/x-python",
   "name": "python",
   "nbconvert_exporter": "python",
   "pygments_lexer": "ipython3",
   "version": "3.6.1"
  }
 },
 "nbformat": 4,
 "nbformat_minor": 2
}
