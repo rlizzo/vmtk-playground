{
 "cells": [
  {
   "cell_type": "markdown",
   "metadata": {},
   "source": [
    "\n",
    "## Compute the associated average outward flux\n",
    "\n",
    "To have a good quality gradient of the distance map, perform a light smooth over it. Define convolution kernels in each direction and use them recursively. "
   ]
  },
  {
   "cell_type": "code",
   "execution_count": 1,
   "metadata": {},
   "outputs": [],
   "source": [
    "from vmtk import vmtkscripts\n",
    "from vmtk import vtkvmtk\n",
    "import os\n",
    "import sys\n",
    "import numpy as np\n",
    "import random\n",
    "import networkx as nx\n",
    "import vtk\n",
    "from vtk.numpy_interface import dataset_adapter as dsa\n",
    "import timeit"
   ]
  },
  {
   "cell_type": "markdown",
   "metadata": {},
   "source": [
    "imgr = vmtkscripts.vmtkImageReader()\n",
    "imgr.InputFileName = os.path.join(os.getcwd(), 'test-surf-normal-hole.mha')\n",
    "imgr.Execute()\n",
    "\n",
    "mc = vmtkscripts.vmtkMarchingCubes()\n",
    "mc.Image = imgr.Image\n",
    "mc.Level = 1000.0\n",
    "mc.Execute()"
   ]
  },
  {
   "cell_type": "code",
   "execution_count": 2,
   "metadata": {},
   "outputs": [
    {
     "name": "stdout",
     "output_type": "stream",
     "text": [
      "Reading STL surface file.\n"
     ]
    }
   ],
   "source": [
    "surfr = vmtkscripts.vmtkSurfaceReader()\n",
    "surfr.InputFileName = os.path.join(os.getcwd(), 'realtest.stl')\n",
    "surfr.Execute()\n",
    "\n",
    "surf = surfr.Surface"
   ]
  },
  {
   "cell_type": "code",
   "execution_count": 3,
   "metadata": {},
   "outputs": [],
   "source": [
    "fedges = vtk.vtkFeatureEdges()\n",
    "fedges.BoundaryEdgesOn()\n",
    "fedges.FeatureEdgesOff()\n",
    "fedges.ManifoldEdgesOff()\n",
    "fedges.SetInputData(surf)\n",
    "fedges.Update()\n",
    "\n",
    "ofedges = fedges.GetOutput()\n",
    "\n",
    "numEdges = ofedges.GetNumberOfPoints()"
   ]
  },
  {
   "cell_type": "code",
   "execution_count": 4,
   "metadata": {},
   "outputs": [],
   "source": [
    "if numEdges != 0:\n",
    "    tempcapper = vmtkscripts.vmtkSurfaceCapper()\n",
    "    tempcapper.Surface = surf\n",
    "    tempcapper.Interactive = 0\n",
    "    tempcapper.Execute()\n",
    "    \n",
    "    networkSurface = vtk.vtkPolyData()\n",
    "    networkSurface.DeepCopy(tempcapper.Surface)\n",
    "else:\n",
    "    networkSurface = vtk.vtkPolyData()\n",
    "    networkSurface.DeepCopy(surf)"
   ]
  },
  {
   "cell_type": "code",
   "execution_count": 5,
   "metadata": {},
   "outputs": [
    {
     "name": "stdout",
     "output_type": "stream",
     "text": [
      "Progress: 100%Progress: 100%\n"
     ]
    }
   ],
   "source": [
    "numCells = surf.GetNumberOfCells()\n",
    "cellToDelete = random.randrange(0, numCells-1)\n",
    "\n",
    "networkSurface.BuildLinks()\n",
    "networkSurface.DeleteCell(cellToDelete)\n",
    "networkSurface.RemoveDeletedCells()\n",
    "\n",
    "net = vmtkscripts.vmtkNetworkExtraction()\n",
    "net.Surface = networkSurface\n",
    "net.AdvancementRatio = 1.01\n",
    "net.Execute()\n",
    "\n",
    "network = net.Network"
   ]
  },
  {
   "cell_type": "code",
   "execution_count": 6,
   "metadata": {},
   "outputs": [
    {
     "name": "stdout",
     "output_type": "stream",
     "text": [
      "wrapping vtkPolyData object\n",
      "converting cell data: \n",
      "Topology\n",
      "converting points\n",
      "converting point data: \n",
      "Radius\n",
      "converting cell connectivity list\n"
     ]
    }
   ],
   "source": [
    "convert = vmtkscripts.vmtkCenterlinesToNumpy()\n",
    "convert.Centerlines = network\n",
    "convert.Execute()\n",
    "ad = convert.ArrayDict"
   ]
  },
  {
   "cell_type": "code",
   "execution_count": 7,
   "metadata": {},
   "outputs": [],
   "source": [
    "cellDataTopology = ad['CellData']['Topology']"
   ]
  },
  {
   "cell_type": "markdown",
   "metadata": {},
   "source": [
    "cellDataTopology"
   ]
  },
  {
   "cell_type": "code",
   "execution_count": 8,
   "metadata": {},
   "outputs": [],
   "source": [
    "endCellIds = []\n",
    "startCellIds = []\n",
    "for cellId, cellTop in enumerate(cellDataTopology):\n",
    "    if (cellTop[1] == -1) or (cellTop[0] == -1):\n",
    "        endCellIds.append(cellId)"
   ]
  },
  {
   "cell_type": "markdown",
   "metadata": {},
   "source": [
    "endCellIds"
   ]
  },
  {
   "cell_type": "code",
   "execution_count": 9,
   "metadata": {},
   "outputs": [],
   "source": [
    "endPointIds = []\n",
    "for cellId in endCellIds:  \n",
    "    endPointIds.append(ad['CellData']['CellPointIds'][cellId][-1])\n",
    "\n",
    "endPointCoordinates = []\n",
    "for pointId in endPointIds:\n",
    "    endPointCoordinates.append(ad['Points'][pointId])"
   ]
  },
  {
   "cell_type": "code",
   "execution_count": 10,
   "metadata": {},
   "outputs": [],
   "source": [
    "endPointCoordinates = np.array(endPointCoordinates)"
   ]
  },
  {
   "cell_type": "code",
   "execution_count": 11,
   "metadata": {},
   "outputs": [
    {
     "name": "stdout",
     "output_type": "stream",
     "text": [
      "Cleaning surface.\n",
      "Triangulating surface.\n",
      "Computing centerlines.\n",
      "Computing centerlines...loop iteration 0 time: 66.43843654100783\n",
      "Cleaning surface.\n",
      "Triangulating surface.\n",
      "Computing centerlines.\n",
      "Computing centerlines...loop iteration 1 time: 9.953359909006394\n",
      "Cleaning surface.\n",
      "Triangulating surface.\n",
      "Computing centerlines.\n",
      "Computing centerlines...loop iteration 2 time: 9.899388674006332\n",
      "Cleaning surface.\n",
      "Triangulating surface.\n",
      "Computing centerlines.\n",
      "Computing centerlines...loop iteration 3 time: 9.905807947012363\n",
      "Cleaning surface.\n",
      "Triangulating surface.\n",
      "Computing centerlines.\n",
      "Computing centerlines...loop iteration 4 time: 9.662881346012\n",
      "Cleaning surface.\n",
      "Triangulating surface.\n",
      "Computing centerlines.\n",
      "Computing centerlines...loop iteration 5 time: 9.66145081599825\n",
      "Cleaning surface.\n",
      "Triangulating surface.\n",
      "Computing centerlines.\n",
      "Computing centerlines...loop iteration 6 time: 9.579545624001184\n",
      "Cleaning surface.\n",
      "Triangulating surface.\n",
      "Computing centerlines.\n",
      "Computing centerlines...loop iteration 7 time: 9.632292512018466\n"
     ]
    }
   ],
   "source": [
    "numCoordinates = endPointCoordinates.shape[0]\n",
    "numIters = 8\n",
    "outlist = []\n",
    "for i in range(numIters):\n",
    "    start_time = timeit.default_timer()\n",
    "    \n",
    "    sourceSelectId = random.randrange(0, numCoordinates)\n",
    "    \n",
    "    sourcePoints = endPointCoordinates[sourceSelectId]\n",
    "    flatSourcePoints = sourcePoints.flatten(order='C').tolist()\n",
    "    \n",
    "    targetPoints = np.delete(endPointCoordinates, sourceSelectId, axis=0)\n",
    "    flatTargetPoints = targetPoints.flatten(order='C').tolist()\n",
    "    \n",
    "    if i == 0:\n",
    "\n",
    "        cl = vmtkscripts.vmtkCenterlines()\n",
    "        cl.Surface = networkSurface\n",
    "        cl.SeedSelectorName = 'pointlist'\n",
    "        cl.SourcePoints = flatSourcePoints\n",
    "        cl.TargetPoints = flatTargetPoints\n",
    "        cl.Execute()\n",
    "        \n",
    "        delaunay = vtk.vtkUnstructuredGrid()\n",
    "        delaunay.DeepCopy(cl.DelaunayTessellation)\n",
    "    \n",
    "    else:\n",
    "        cl = vmtkscripts.vmtkCenterlines()\n",
    "        cl.Surface = networkSurface\n",
    "        cl.DelaunayTessellation = delaunay\n",
    "        cl.SeedSelectorName = 'pointlist'\n",
    "        cl.SourcePoints = flatSourcePoints\n",
    "        cl.TargetPoints = flatTargetPoints\n",
    "        cl.Execute()\n",
    "\n",
    "    cll = vtk.vtkPolyData()\n",
    "    cll.DeepCopy(cl.Centerlines)\n",
    "\n",
    "    numCellsInCl = cll.GetNumberOfCells()\n",
    "    cellsToDelete = []\n",
    "    for idx in range(numCellsInCl):\n",
    "        cell = cll.GetCell(idx)\n",
    "        numPointsInCell = cell.GetNumberOfPoints()\n",
    "        if numPointsInCell <= 10:\n",
    "            print(f'found cell {idx} with {numPointsInCell} to delete')\n",
    "            cellsToDelete.append(idx)\n",
    "\n",
    "    if len(cellsToDelete) > 0:\n",
    "        cll.BuildLinks()\n",
    "        for cellId in cellsToDelete:\n",
    "            cll.DeleteCell(cellId)\n",
    "        cll.RemoveDeletedCells()\n",
    "        \n",
    "    outlist.append(cll)\n",
    "    elapsed = timeit.default_timer() - start_time\n",
    "    print(f'loop iteration {i} time: {elapsed}')"
   ]
  },
  {
   "cell_type": "code",
   "execution_count": 24,
   "metadata": {},
   "outputs": [],
   "source": [
    "new = vtk.vtkAppendPolyData()\n",
    "for data in outlist:  \n",
    "    new.AddInputData(data)\n",
    "new.Update()\n",
    "\n",
    "combined = new.GetOutput()"
   ]
  },
  {
   "cell_type": "code",
   "execution_count": 25,
   "metadata": {},
   "outputs": [],
   "source": [
    "# label all non-connected regions in an input surface. \n",
    "allRegionConnectivity = vtk.vtkPolyDataConnectivityFilter()\n",
    "allRegionConnectivity.SetInputData(network)\n",
    "allRegionConnectivity.SetExtractionModeToAllRegions()\n",
    "allRegionConnectivity.ColorRegionsOn()\n",
    "allRegionConnectivity.Update()\n",
    "\n",
    "connectivity = allRegionConnectivity.GetOutput()"
   ]
  },
  {
   "cell_type": "code",
   "execution_count": 43,
   "metadata": {},
   "outputs": [],
   "source": [
    "pointLocator = vtk.vtkPointLocator()\n",
    "pointLocator.SetDataSet(connectivity)\n",
    "pointLocator.BuildLocator()\n",
    "\n",
    "numCombinedPoints = combined.GetNumberOfPoints()\n",
    "\n",
    "pointDataArray = np.zeros(shape=numCombinedPoints)\n",
    "regionIdArray = connectivity.GetPointData().GetArray('RegionId')\n",
    "for i in range(numCombinedPoints):\n",
    "    pointId = pointLocator.FindClosestPoint(combined.GetPoint(i))\n",
    "    pointDataArray[i] = regionIdArray.GetValue(pointId)"
   ]
  },
  {
   "cell_type": "code",
   "execution_count": 69,
   "metadata": {},
   "outputs": [],
   "source": [
    "wp = dsa.WrapDataObject(combined)\n",
    "\n",
    "wp.PointData.append(np.array(pointDataList), 'RegionId')\n",
    "\n",
    "out = wp.VTKObject"
   ]
  },
  {
   "cell_type": "markdown",
   "metadata": {},
   "source": [
    "sourcePoints.shape"
   ]
  },
  {
   "cell_type": "markdown",
   "metadata": {},
   "source": [
    "sourcePoints"
   ]
  },
  {
   "cell_type": "markdown",
   "metadata": {},
   "source": [
    "targetPoints.shape"
   ]
  },
  {
   "cell_type": "markdown",
   "metadata": {},
   "source": [
    "targetPoints"
   ]
  },
  {
   "cell_type": "code",
   "execution_count": 70,
   "metadata": {},
   "outputs": [
    {
     "name": "stdout",
     "output_type": "stream",
     "text": [
      "Quit renderer\n"
     ]
    }
   ],
   "source": [
    "cv = vmtkscripts.vmtkCenterlineViewer()\n",
    "cv.Centerlines = wp.VTKObject\n",
    "cv.PointDataArrayName = 'RegionId'\n",
    "cv.Execute()"
   ]
  },
  {
   "cell_type": "code",
   "execution_count": null,
   "metadata": {},
   "outputs": [],
   "source": [
    "cleaner = vtk.vtkCleanPolyData()"
   ]
  },
  {
   "cell_type": "code",
   "execution_count": null,
   "metadata": {},
   "outputs": [],
   "source": [
    "cleaner.PointMergingOn()\n",
    "cleaner.ConvertStripsToPolysOff()\n",
    "cleaner.ConvertPolysToLinesOff()\n",
    "cleaner.ConvertLinesToPointsOff()\n",
    "cleaner.SetTolerance(0.005)\n",
    "cleaner.SetInputData(combined)\n",
    "cleaner.Update()"
   ]
  },
  {
   "cell_type": "code",
   "execution_count": 16,
   "metadata": {},
   "outputs": [
    {
     "name": "stdout",
     "output_type": "stream",
     "text": [
      "Quit renderer\n"
     ]
    }
   ],
   "source": [
    "rend = vmtkscripts.vmtkRenderer()\n",
    "rend.Execute()\n",
    "\n",
    "view = vmtkscripts.vmtkSurfaceViewer()\n",
    "view.vmtkRenderer = rend.vmtkRenderer\n",
    "view.Opacity = 0.3\n",
    "view.Surface = surf\n",
    "view.Execute()\n",
    "\n",
    "# view = vmtkscripts.vmtkCenterlineViewer()\n",
    "# view.vmtkRenderer = rend.vmtkRenderer\n",
    "# view.Centerlines = outlist[1]\n",
    "# view.Execute()\n",
    "\n",
    "view2 = vmtkscripts.vmtkCenterlineViewer()\n",
    "view2.vmtkRenderer = rend.vmtkRenderer\n",
    "view2.Centerlines = combined\n",
    "view2.Execute()"
   ]
  },
  {
   "cell_type": "code",
   "execution_count": null,
   "metadata": {},
   "outputs": [],
   "source": [
    "write = vmtkscripts.vmtkSurfaceWriter()\n",
    "write.Surface = new.GetOutput()\n",
    "write.OutputFileName = os.path.join(os.getcwd(), 'test-new.vtp')\n",
    "write.Execute()"
   ]
  },
  {
   "cell_type": "code",
   "execution_count": null,
   "metadata": {},
   "outputs": [],
   "source": []
  }
 ],
 "metadata": {
  "kernelspec": {
   "display_name": "Python 3",
   "language": "python",
   "name": "python3"
  },
  "language_info": {
   "codemirror_mode": {
    "name": "ipython",
    "version": 3
   },
   "file_extension": ".py",
   "mimetype": "text/x-python",
   "name": "python",
   "nbconvert_exporter": "python",
   "pygments_lexer": "ipython3",
   "version": "3.6.1"
  }
 },
 "nbformat": 4,
 "nbformat_minor": 2
}
