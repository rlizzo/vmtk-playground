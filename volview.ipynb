{
 "cells": [
  {
   "cell_type": "code",
   "execution_count": 1,
   "metadata": {},
   "outputs": [],
   "source": [
    "from vmtk import vmtkscripts\n",
    "import vtk\n",
    "import vtk.numpy_interface.dataset_adapter as dsa\n",
    "import numpy as np\n",
    "import os\n",
    "import sys\n"
   ]
  },
  {
   "cell_type": "code",
   "execution_count": 2,
   "metadata": {},
   "outputs": [
    {
     "name": "stdout",
     "output_type": "stream",
     "text": [
      "Reading STL surface file.\n"
     ]
    }
   ],
   "source": [
    "reader = vmtkscripts.vmtkSurfaceReader()\n",
    "reader.InputFileName = os.path.join(os.getcwd(), 'testsurf.stl')\n",
    "reader.Execute()\n",
    "surf = reader.Surface"
   ]
  },
  {
   "cell_type": "code",
   "execution_count": 3,
   "metadata": {},
   "outputs": [],
   "source": [
    "import vmtksurfaceconnectivityselector as surfselector"
   ]
  },
  {
   "cell_type": "code",
   "execution_count": 4,
   "metadata": {},
   "outputs": [
    {
     "name": "stdout",
     "output_type": "stream",
     "text": [
      "Please position the mouse and press space to add target points, 'u' to undo\n",
      "Quit renderer\n"
     ]
    }
   ],
   "source": [
    "sel = surfselector.vmtkSurfaceConnectivitySelector()\n",
    "sel.Surface = surf\n",
    "sel.Execute()"
   ]
  },
  {
   "cell_type": "code",
   "execution_count": null,
   "metadata": {},
   "outputs": [],
   "source": [
    "sel."
   ]
  },
  {
   "cell_type": "code",
   "execution_count": 3,
   "metadata": {},
   "outputs": [],
   "source": [
    "connectiv = vtk.vtkPolyDataConnectivityFilter()\n",
    "connectiv.SetInputData(surf)\n",
    "connectiv.SetExtractionModeToAllRegions()\n",
    "connectiv.ColorRegionsOn()\n",
    "connectiv.Update()\n",
    "\n",
    "splitSurface = connectiv.GetOutput()\n",
    "\n",
    "# connectiv.SetExtractionModeToSpecifiedRegions()\n",
    "# connectiv.AddSpecifiedRegion(3)\n",
    "# connectiv.AddSpecifiedRegion(1)\n",
    "\n",
    "# connectiv.Update()\n",
    "\n",
    "# splitSurface = connectiv.GetOutput()"
   ]
  },
  {
   "cell_type": "code",
   "execution_count": 16,
   "metadata": {},
   "outputs": [],
   "source": [
    "arr = splitSurface.GetPointData().GetArray('RegionId')"
   ]
  },
  {
   "cell_type": "code",
   "execution_count": 23,
   "metadata": {},
   "outputs": [
    {
     "data": {
      "text/plain": [
       "0"
      ]
     },
     "execution_count": 23,
     "metadata": {},
     "output_type": "execute_result"
    }
   ],
   "source": [
    "arr.GetValue(9)"
   ]
  },
  {
   "cell_type": "code",
   "execution_count": 29,
   "metadata": {},
   "outputs": [
    {
     "data": {
      "text/plain": [
       "(361.91217041015625, 247.83731079101562, 201.5906219482422)"
      ]
     },
     "execution_count": 29,
     "metadata": {},
     "output_type": "execute_result"
    }
   ],
   "source": [
    "splitSurface.GetPoint(0)"
   ]
  },
  {
   "cell_type": "code",
   "execution_count": 30,
   "metadata": {},
   "outputs": [
    {
     "data": {
      "text/plain": [
       "0"
      ]
     },
     "execution_count": 30,
     "metadata": {},
     "output_type": "execute_result"
    }
   ],
   "source": [
    "splitSurface.FindPoint(361.91217041015625, 247.83731079101562, 201.5906219482422)"
   ]
  },
  {
   "cell_type": "code",
   "execution_count": 24,
   "metadata": {},
   "outputs": [],
   "source": [
    "connectivityFilter = vtk.vtkPolyDataConnectivityFilter()\n",
    "connectivityFilter.SetInputData(splitSurface)\n",
    "connectivityFilter.ScalarConnectivityOn()\n",
    "scalarRange = [1, 1]\n",
    "connectivityFilter.SetScalarRange(scalarRange)"
   ]
  },
  {
   "cell_type": "code",
   "execution_count": 25,
   "metadata": {},
   "outputs": [],
   "source": [
    "connectivityFilter.Update()"
   ]
  },
  {
   "cell_type": "code",
   "execution_count": 5,
   "metadata": {},
   "outputs": [
    {
     "name": "stdout",
     "output_type": "stream",
     "text": [
      "Quit renderer\n"
     ]
    }
   ],
   "source": [
    "viewer = vmtkscripts.vmtkSurfaceViewer()\n",
    "viewer.Surface = sel.Surface\n",
    "viewer.Execute()"
   ]
  },
  {
   "cell_type": "code",
   "execution_count": 19,
   "metadata": {},
   "outputs": [
    {
     "data": {
      "text/plain": [
       "['AbstractArray',\n",
       " 'AddObserver',\n",
       " 'Allocate',\n",
       " 'AoSDataArrayTemplate',\n",
       " 'BreakOnError',\n",
       " 'COMPONENT_RANGE',\n",
       " 'ClearLookup',\n",
       " 'CopyComponent',\n",
       " 'CopyComponentNames',\n",
       " 'CopyInformation',\n",
       " 'CreateArray',\n",
       " 'CreateDataArray',\n",
       " 'CreateDefaultLookupTable',\n",
       " 'DISCRETE_VALUES',\n",
       " 'DISCRETE_VALUE_SAMPLE_PARAMETERS',\n",
       " 'DataArray',\n",
       " 'DataArrayTemplate',\n",
       " 'DataChanged',\n",
       " 'DebugOff',\n",
       " 'DebugOn',\n",
       " 'DeepCopy',\n",
       " 'DeleteMethod',\n",
       " 'ExportToVoidPointer',\n",
       " 'FastDelete',\n",
       " 'FastDownCast',\n",
       " 'Fill',\n",
       " 'FillComponent',\n",
       " 'GUI_HIDE',\n",
       " 'GetActualMemorySize',\n",
       " 'GetAddressAsString',\n",
       " 'GetArrayType',\n",
       " 'GetClassName',\n",
       " 'GetCommand',\n",
       " 'GetComponent',\n",
       " 'GetComponentName',\n",
       " 'GetData',\n",
       " 'GetDataSize',\n",
       " 'GetDataType',\n",
       " 'GetDataTypeAsString',\n",
       " 'GetDataTypeMax',\n",
       " 'GetDataTypeMin',\n",
       " 'GetDataTypeRange',\n",
       " 'GetDataTypeSize',\n",
       " 'GetDataTypeValueMax',\n",
       " 'GetDataTypeValueMin',\n",
       " 'GetDebug',\n",
       " 'GetElementComponentSize',\n",
       " 'GetFiniteRange',\n",
       " 'GetGlobalWarningDisplay',\n",
       " 'GetInformation',\n",
       " 'GetLookupTable',\n",
       " 'GetMTime',\n",
       " 'GetMaxDiscreteValues',\n",
       " 'GetMaxId',\n",
       " 'GetMaxNorm',\n",
       " 'GetName',\n",
       " 'GetNumberOfComponents',\n",
       " 'GetNumberOfComponentsMaxValue',\n",
       " 'GetNumberOfComponentsMinValue',\n",
       " 'GetNumberOfTuples',\n",
       " 'GetNumberOfValues',\n",
       " 'GetPointer',\n",
       " 'GetProminentComponentValues',\n",
       " 'GetRange',\n",
       " 'GetReferenceCount',\n",
       " 'GetSize',\n",
       " 'GetTuple',\n",
       " 'GetTuple1',\n",
       " 'GetTuple2',\n",
       " 'GetTuple3',\n",
       " 'GetTuple4',\n",
       " 'GetTuple6',\n",
       " 'GetTuple9',\n",
       " 'GetTuples',\n",
       " 'GetTypedTuple',\n",
       " 'GetValue',\n",
       " 'GetValueRange',\n",
       " 'GetVariantValue',\n",
       " 'GetVoidPointer',\n",
       " 'GlobalWarningDisplayOff',\n",
       " 'GlobalWarningDisplayOn',\n",
       " 'HasAComponentName',\n",
       " 'HasInformation',\n",
       " 'HasObserver',\n",
       " 'HasStandardMemoryLayout',\n",
       " 'Initialize',\n",
       " 'InitializeObjectBase',\n",
       " 'InsertComponent',\n",
       " 'InsertNextTuple',\n",
       " 'InsertNextTuple1',\n",
       " 'InsertNextTuple2',\n",
       " 'InsertNextTuple3',\n",
       " 'InsertNextTuple4',\n",
       " 'InsertNextTuple6',\n",
       " 'InsertNextTuple9',\n",
       " 'InsertNextTypedTuple',\n",
       " 'InsertNextValue',\n",
       " 'InsertTuple',\n",
       " 'InsertTuple1',\n",
       " 'InsertTuple2',\n",
       " 'InsertTuple3',\n",
       " 'InsertTuple4',\n",
       " 'InsertTuple6',\n",
       " 'InsertTuple9',\n",
       " 'InsertTuples',\n",
       " 'InsertTypedTuple',\n",
       " 'InsertValue',\n",
       " 'InsertVariantValue',\n",
       " 'InterpolateTuple',\n",
       " 'InvokeEvent',\n",
       " 'IsA',\n",
       " 'IsNumeric',\n",
       " 'IsTypeOf',\n",
       " 'L2_NORM_FINITE_RANGE',\n",
       " 'L2_NORM_RANGE',\n",
       " 'LookupValue',\n",
       " 'MAX_DISCRETE_VALUES',\n",
       " 'MappedDataArray',\n",
       " 'Modified',\n",
       " 'NewInstance',\n",
       " 'NewIterator',\n",
       " 'PER_COMPONENT',\n",
       " 'PER_FINITE_COMPONENT',\n",
       " 'Register',\n",
       " 'RemoveAllObservers',\n",
       " 'RemoveFirstTuple',\n",
       " 'RemoveLastTuple',\n",
       " 'RemoveObserver',\n",
       " 'RemoveObservers',\n",
       " 'RemoveTuple',\n",
       " 'Reset',\n",
       " 'Resize',\n",
       " 'SafeDownCast',\n",
       " 'SetArray',\n",
       " 'SetComponent',\n",
       " 'SetComponentName',\n",
       " 'SetDebug',\n",
       " 'SetGlobalWarningDisplay',\n",
       " 'SetLookupTable',\n",
       " 'SetMaxDiscreteValues',\n",
       " 'SetName',\n",
       " 'SetNumberOfComponents',\n",
       " 'SetNumberOfTuples',\n",
       " 'SetNumberOfValues',\n",
       " 'SetReferenceCount',\n",
       " 'SetTuple',\n",
       " 'SetTuple1',\n",
       " 'SetTuple2',\n",
       " 'SetTuple3',\n",
       " 'SetTuple4',\n",
       " 'SetTuple6',\n",
       " 'SetTuple9',\n",
       " 'SetTypedTuple',\n",
       " 'SetValue',\n",
       " 'SetVariantValue',\n",
       " 'SetVoidArray',\n",
       " 'ShallowCopy',\n",
       " 'SoADataArrayTemplate',\n",
       " 'Squeeze',\n",
       " 'TypedDataArray',\n",
       " 'UNITS_LABEL',\n",
       " 'UnRegister',\n",
       " 'VTK_DATA_ARRAY_ALIGNED_FREE',\n",
       " 'VTK_DATA_ARRAY_DELETE',\n",
       " 'VTK_DATA_ARRAY_FREE',\n",
       " 'WritePointer',\n",
       " 'WriteVoidPointer',\n",
       " '__class__',\n",
       " '__delattr__',\n",
       " '__dict__',\n",
       " '__dir__',\n",
       " '__doc__',\n",
       " '__eq__',\n",
       " '__format__',\n",
       " '__ge__',\n",
       " '__getattribute__',\n",
       " '__gt__',\n",
       " '__hash__',\n",
       " '__init__',\n",
       " '__init_subclass__',\n",
       " '__le__',\n",
       " '__lt__',\n",
       " '__ne__',\n",
       " '__new__',\n",
       " '__reduce__',\n",
       " '__reduce_ex__',\n",
       " '__repr__',\n",
       " '__setattr__',\n",
       " '__sizeof__',\n",
       " '__str__',\n",
       " '__subclasshook__',\n",
       " '__this__',\n",
       " '__vtkname__']"
      ]
     },
     "execution_count": 19,
     "metadata": {},
     "output_type": "execute_result"
    }
   ],
   "source": [
    "dir(arr)"
   ]
  },
  {
   "cell_type": "code",
   "execution_count": 7,
   "metadata": {},
   "outputs": [
    {
     "ename": "AttributeError",
     "evalue": "'vtkCommonDataModelPython.vtkPolyData' object has no attribute 'GetPointId'",
     "output_type": "error",
     "traceback": [
      "\u001b[0;31m---------------------------------------------------------------------------\u001b[0m",
      "\u001b[0;31mAttributeError\u001b[0m                            Traceback (most recent call last)",
      "\u001b[0;32m<ipython-input-7-0e84f96e6ebd>\u001b[0m in \u001b[0;36m<module>\u001b[0;34m()\u001b[0m\n\u001b[0;32m----> 1\u001b[0;31m \u001b[0msplitSurface\u001b[0m\u001b[0;34m.\u001b[0m\u001b[0mGetPointId\u001b[0m\u001b[0;34m(\u001b[0m\u001b[0;36m0\u001b[0m\u001b[0;34m)\u001b[0m\u001b[0;34m\u001b[0m\u001b[0m\n\u001b[0m",
      "\u001b[0;31mAttributeError\u001b[0m: 'vtkCommonDataModelPython.vtkPolyData' object has no attribute 'GetPointId'"
     ]
    }
   ],
   "source": [
    "splitSurface.GetPointId(a0)"
   ]
  },
  {
   "cell_type": "code",
   "execution_count": 6,
   "metadata": {},
   "outputs": [],
   "source": [
    "a = splitSurface.GetPoints()"
   ]
  },
  {
   "cell_type": "code",
   "execution_count": 7,
   "metadata": {},
   "outputs": [],
   "source": [
    "arn = dsa.WrapDataObject(splitSurface)"
   ]
  },
  {
   "cell_type": "code",
   "execution_count": 10,
   "metadata": {},
   "outputs": [],
   "source": [
    "pd = arn.GetPointData()"
   ]
  },
  {
   "cell_type": "code",
   "execution_count": null,
   "metadata": {},
   "outputs": [],
   "source": []
  },
  {
   "cell_type": "code",
   "execution_count": 24,
   "metadata": {},
   "outputs": [
    {
     "data": {
      "text/plain": [
       "(vtkCommonDataModelPython.vtkPointData)0x11a58a948"
      ]
     },
     "execution_count": 24,
     "metadata": {},
     "output_type": "execute_result"
    }
   ],
   "source": [
    "splitSurface.GetPointData()."
   ]
  },
  {
   "cell_type": "code",
   "execution_count": null,
   "metadata": {},
   "outputs": [],
   "source": [
    "pd = arn.PointData"
   ]
  },
  {
   "cell_type": "code",
   "execution_count": null,
   "metadata": {},
   "outputs": [],
   "source": [
    "pd.GetArray('RegionId')"
   ]
  },
  {
   "cell_type": "code",
   "execution_count": null,
   "metadata": {},
   "outputs": [],
   "source": [
    "v = arn.VTKObject"
   ]
  },
  {
   "cell_type": "code",
   "execution_count": null,
   "metadata": {},
   "outputs": [],
   "source": [
    "v.Get"
   ]
  },
  {
   "cell_type": "code",
   "execution_count": null,
   "metadata": {},
   "outputs": [],
   "source": [
    "arr.GetValue(19000)"
   ]
  },
  {
   "cell_type": "code",
   "execution_count": null,
   "metadata": {},
   "outputs": [],
   "source": [
    "print(splitSurface)"
   ]
  },
  {
   "cell_type": "code",
   "execution_count": null,
   "metadata": {},
   "outputs": [],
   "source": [
    "convert = vmtkscripts.vmtkSurfaceToNumpy()\n",
    "convert.Surface = splitSurface\n",
    "convert.Execute()"
   ]
  },
  {
   "cell_type": "code",
   "execution_count": null,
   "metadata": {},
   "outputs": [],
   "source": [
    "ad = convert.ArrayDict"
   ]
  },
  {
   "cell_type": "code",
   "execution_count": null,
   "metadata": {},
   "outputs": [],
   "source": [
    "ad"
   ]
  },
  {
   "cell_type": "code",
   "execution_count": null,
   "metadata": {},
   "outputs": [],
   "source": [
    "viewer = vmtkscripts.vmtkSurfaceViewer()\n",
    "viewer.Surface = splitSurface\n",
    "viewer.ArrayName = 'RegionId'\n",
    "viewer.Legend = 1\n",
    "viewer.ColorMap = 'rainbow'\n",
    "viewer.Execute()"
   ]
  },
  {
   "cell_type": "code",
   "execution_count": null,
   "metadata": {},
   "outputs": [],
   "source": [
    "%matplotlib"
   ]
  },
  {
   "cell_type": "code",
   "execution_count": null,
   "metadata": {},
   "outputs": [],
   "source": [
    "print(new)"
   ]
  },
  {
   "cell_type": "markdown",
   "metadata": {},
   "source": [
    "lca_interactiveselector.py"
   ]
  },
  {
   "cell_type": "code",
   "execution_count": null,
   "metadata": {},
   "outputs": [],
   "source": []
  },
  {
   "cell_type": "code",
   "execution_count": null,
   "metadata": {},
   "outputs": [],
   "source": [
    "from __future__ import absolute_import #NEEDS TO STAY AS TOP LEVEL MODULE FOR Py2-3 COMPATIBILITY\n",
    "import vtk\n",
    "import sys\n",
    "import numpy as np\n",
    "import copy\n",
    "\n",
    "from vmtk import vtkvmtk\n",
    "from vmtk import vmtkrenderer\n",
    "from vmtk import pypes\n",
    "\n",
    "\n",
    "class vmtkSeedSelector(object):\n",
    "    def __init__(self):\n",
    "        self._Surface = None\n",
    "        self._SeedIds = None\n",
    "        self._TargetSeedIds = vtk.vtkFloatArray()\n",
    "        self.PrintError = None\n",
    "        self.PrintLog = None\n",
    "        self.InputText = None\n",
    "        self.OutputText = None\n",
    "        self.InputInfo = None\n",
    "        self.PickedScalarData = None\n",
    "        self._OutputSeedIds = []\n",
    "\n",
    "    def SetSurface(self, surface):\n",
    "        self._Surface = surface\n",
    "\n",
    "    def GetSurface(self):\n",
    "        return self._Surface\n",
    "\n",
    "    def GetTargetSeedIds(self):\n",
    "        return self._TargetSeedIds\n",
    "    \n",
    "    def GetOutputSeedIds(self):\n",
    "        return self._OutputSeedIds\n",
    "\n",
    "    def Execute(self):\n",
    "        pass\n",
    "\n",
    "class vmtkPickPointSeedSelector(vmtkSeedSelector):\n",
    "\n",
    "    def __init__(self):\n",
    "        vmtkSeedSelector.__init__(self)\n",
    "        self.PickedSeedIds = vtk.vtkIdList()\n",
    "        self.PickedSeeds = vtk.vtkPolyData()\n",
    "        self.vmtkRenderer = None\n",
    "        self.OwnRenderer = 0\n",
    "        self.Script = None\n",
    "        \n",
    "\n",
    "    def UndoCallback(self, obj):\n",
    "        self.InitializeSeeds()\n",
    "        self.PickedSeeds.Modified()\n",
    "        self.vmtkRenderer.RenderWindow.Render()\n",
    "        self._OutputSeedIds.pop()\n",
    "        self.PickedActor.GetProperty().SetColor(np.random.random(1), \n",
    "                                                np.random.random(1),\n",
    "                                                np.random.random(1))\n",
    "        self.PickedActor.GetProperty().SetDiffuse(1.0)\n",
    "        self.PickedActor.GetProperty().SetSpecular(0.0)\n",
    "        \n",
    "        return\n",
    "\n",
    "    def PickCallback(self, obj):\n",
    "        picker = vtk.vtkPropPicker()\n",
    "        eventPosition = self.vmtkRenderer.RenderWindowInteractor.GetEventPosition()\n",
    "        result = picker.Pick(float(eventPosition[0]),float(eventPosition[1]),0.0,self.vmtkRenderer.Renderer)\n",
    "        if result is None:\n",
    "            return\n",
    "        elif result == 0:\n",
    "            return\n",
    "        self.PickedActor = picker.GetActor()\n",
    "        \n",
    "        self.PickedActor.GetProperty().SetColor(1.0, 0.0, 0.0)\n",
    "        self.PickedActor.GetProperty().SetDiffuse(1.0)\n",
    "        self.PickedActor.GetProperty().SetSpecular(0.0)\n",
    "        \n",
    "        self.PickedPoly = self.PickedActor.GetMapper().GetInputAsDataSet()\n",
    "        self.PickedScalarData = self.PickedPoly.GetPointData().GetScalars()\n",
    "        \n",
    "        self._OutputSeedIds.append(copy.deepcopy(self.PickedScalarData.GetValue(0)))\n",
    "        \n",
    "        return\n",
    "\n",
    "        \n",
    "    def InitializeSeeds(self):\n",
    "        self.PickedSeedIds.Initialize()\n",
    "        self.PickedSeeds.Initialize()\n",
    "        seedPoints = vtk.vtkPoints()\n",
    "        self.PickedSeeds.SetPoints(seedPoints)\n",
    "\n",
    "    def Execute(self):\n",
    "\n",
    "        if (self._Surface == None):\n",
    "            self.PrintError('vmtkPickPointSeedSelector Error: Surface not set.')\n",
    "            return\n",
    "\n",
    "        self._TargetSeedIds.Initialize()\n",
    "\n",
    "        if not self.vmtkRenderer:\n",
    "            self.vmtkRenderer = vmtkrenderer.vmtkRenderer()\n",
    "            self.vmtkRenderer.Initialize()\n",
    "            self.OwnRenderer = 1\n",
    "\n",
    "        self.vmtkRenderer.RegisterScript(self.Script)\n",
    "\n",
    "        ##self.vmtkRenderer.RenderWindowInteractor.AddObserver(\"KeyPressEvent\", self.KeyPressed)\n",
    "        self.vmtkRenderer.AddKeyBinding('u','Undo.',self.UndoCallback)\n",
    "        self.vmtkRenderer.AddKeyBinding('space','Add points.',self.PickCallback)\n",
    "\n",
    "        self.InputInfo('Please position the mouse and press space to add target points, \\'u\\' to undo\\n')\n",
    "\n",
    "        any = 0\n",
    "        while any == 0:\n",
    "            self.InitializeSeeds()\n",
    "            self.vmtkRenderer.Render()\n",
    "            try:\n",
    "                any = self.PickedScalarData.GetValue(0)\n",
    "            except AttributeError:\n",
    "                any = None\n",
    "        if self.OwnRenderer:\n",
    "            self.vmtkRenderer.Deallocate()\n",
    "\n",
    "\n",
    "class vmtkInteractiveSelector(pypes.pypeScript):\n",
    "    def __init__(self):\n",
    "\n",
    "        pypes.pypeScript.__init__(self)\n",
    "\n",
    "        self.SeedSelector = None\n",
    "        self.Surface = None\n",
    "        self.vmtkRenderer = None\n",
    "        self.OwnRenderer = 0\n",
    "        self.OutputSeedIds = []\n",
    "\n",
    "        self.SetScriptName('vmtkInteractiveSelector')\n",
    "        self.SetScriptDoc('')\n",
    "        self.SetInputMembers([\n",
    "            ['Surface', 'i', 'vtkPolyData', 1, '', 'the input surface', 'vmtksurfacereader'],\n",
    "            ['vmtkRenderer', 'renderer', 'vmtkRenderer', 1, '', 'external renderer']])\n",
    "        self.SetOutputMembers([\n",
    "            ['OutputSeedIds','o','vtkFloatArray',1,'','the output seed ids', '']])\n",
    "\n",
    "    def Execute(self):\n",
    "\n",
    "        if self.Surface == None:\n",
    "            self.PrintError('Error: No input surface.')\n",
    "\n",
    "        if self.vmtkRenderer is None:\n",
    "            self.vmtkRenderer = vmtkrenderer.vmtkRenderer()\n",
    "            self.vmtkRenderer.Initialize()\n",
    "            self.vmtkRenderer.Renderer.SetBackground(.1, .1, .2 )\n",
    "            self.OwnRenderer = 1\n",
    "            \n",
    "        if self.SeedSelector:\n",
    "            pass\n",
    "        else:\n",
    "            self.SeedSelector = vmtkPickPointSeedSelector()\n",
    "            self.SeedSelector.vmtkRenderer = self.vmtkRenderer\n",
    "            self.SeedSelector.Script = self\n",
    "        \n",
    "        connectiv = vtk.vtkPolyDataConnectivityFilter()\n",
    "        connectiv.SetInputData(surf)\n",
    "        connectiv.SetExtractionModeToAllRegions()\n",
    "        connectiv.ColorRegionsOn()\n",
    "        connectiv.Update()\n",
    "        numRegions = connectiv.GetNumberOfExtractedRegions()\n",
    "        splitSurface = connectiv.GetOutput()\n",
    "\n",
    "        for surfaceId in range(numRegions):\n",
    "            connectiv2 = vtk.vtkPolyDataConnectivityFilter()\n",
    "            connectiv2.SetInputData = splitSurface\n",
    "            connectiv2.SetExtractionModeToSpecifiedRegions()\n",
    "            connectiv2.AddSpecifiedRegion(surfaceId)\n",
    "            connectiv2.Update()\n",
    "            surf = connectiv2.GetOutput()\n",
    "            \n",
    "            mapper = vtk.vtkPolyDataMapper()\n",
    "            mapper.SetInputData(surf)\n",
    "            mapper.ScalarVisibilityOff()\n",
    "            actor = vtk.vtkActor()\n",
    "            actor.SetMapper(mapper)\n",
    "\n",
    "            r = np.random.randint(20, high=70) / 100.0\n",
    "            g = np.random.randint(20, high=70) / 100.0\n",
    "            b = np.random.randint(20, high=70) / 100.0\n",
    "            actor.GetProperty().SetColor(r, g, b)\n",
    "            actor.GetProperty().SetDiffuse(1.0)\n",
    "            actor.GetProperty().SetSpecular(0.0)\n",
    "            actor.GetProperty().SetRepresentationToWireframe()\n",
    "            actor.GetProperty().EdgeVisibilityOff()\n",
    "\n",
    "            self.vmtkRenderer.Renderer.AddActor(actor)\n",
    "\n",
    "        if self.SeedSelector:\n",
    "            self.SeedSelector.SetSurface(self.Surface)\n",
    "            self.SeedSelector.InputInfo = self.InputInfo\n",
    "            self.SeedSelector.InputText = self.InputText\n",
    "            self.SeedSelector.OutputText = self.OutputText\n",
    "            self.SeedSelector.PrintError = self.PrintError\n",
    "            self.SeedSelector.PrintLog = self.PrintLog\n",
    "            self.SeedSelector.Execute()\n",
    "\n",
    "            self.OutputSeedIds.append(self.SeedSelector.GetOutputSeedIds())\n",
    "\n",
    "        if self.OwnRenderer:\n",
    "            self.vmtkRenderer.Deallocate()\n",
    "\n",
    "\n",
    "if __name__ == '__main__':\n",
    "    main = pypes.pypeMain()\n",
    "    main.Arguments = sys.argv\n",
    "    main.Execute()"
   ]
  },
  {
   "cell_type": "markdown",
   "metadata": {},
   "source": [
    "lca_doselection.py"
   ]
  },
  {
   "cell_type": "code",
   "execution_count": null,
   "metadata": {},
   "outputs": [],
   "source": [
    "import numpy as np\n",
    "import numpy.ma as ma\n",
    "from vmtk import vmtkscripts\n",
    "import os\n",
    "import h5py\n",
    "import copy\n",
    "from collections import ChainMap\n",
    "import vtk\n",
    "import gc\n",
    "\n",
    "import lca_clustering_utilities as clustering_utilities\n",
    "import lca_interactiveselector as interactiveselector\n",
    "import lca_surface as surface\n",
    "\n",
    "import dask\n",
    "from dask.diagnostics import ProgressBar\n",
    "import dask.distributed\n",
    "import dask.multiprocessing\n",
    "from dask import delayed, cache\n",
    "\n",
    "# convenience class for nested disctionaries\n",
    "class Vividict(dict):\n",
    "    def __missing__(self, key):\n",
    "        value = self[key] = type(self)()\n",
    "        return value\n",
    "\n",
    "def _get_surface_array_dict(volumeDict, labelId, vtkImage):\n",
    "    '''takes an image, extracts the desired label Id, performs a marching cubes\n",
    "    surface extraction, labels the surface with the scalar labelId value, and\n",
    "    returns the surface. \n",
    "    ***inputs***\n",
    "    volumeDict = the volume dictionary in vmtk array dict format\n",
    "    labelID = the desired label for the mc algorithm to extract. \n",
    "    ***output***\n",
    "    surf = the vtk surface object. \n",
    "    \n",
    "    '''\n",
    "    \n",
    "    thresh = vtk.vtkImageThreshold()\n",
    "\n",
    "    thresh.SetInputData(vtkImage)\n",
    "    thresh.ThresholdBetween(float(labelId)-0.5, float(labelId)+0.5)\n",
    "    thresh.SetOutValue(0)\n",
    "    thresh.Update()\n",
    "    threshImage = thresh.GetOutput()\n",
    "\n",
    "    mc = vmtkscripts.vmtkMarchingCubes()\n",
    "    mc.Image = threshImage\n",
    "    mc.Level = float(labelId)\n",
    "    mc.Execute()\n",
    "\n",
    "    surf = mc.Surface\n",
    "    scalarLabels = vtk.vtkFloatArray()\n",
    "    scalarLabels.SetNumberOfValues(1)\n",
    "    scalarLabels.SetName('LabelIds')\n",
    "    scalarLabels.SetValue(0, float(labelId))\n",
    "\n",
    "    surf.GetPointData().SetActiveScalars('LabelIds')\n",
    "    surf.GetPointData().SetScalars(scalarLabels)\n",
    "\n",
    "    return surf\n",
    "\n",
    "\n",
    "def do_selection(volumeDict):\n",
    "    '''allows the user to interactivly select surfaces extracted from a labeled\n",
    "    numpy array of non-connected components. returns an vmtk image array dict\n",
    "    with the selected components included. \n",
    "    \n",
    "    '''\n",
    "\n",
    "    converter = vmtkscripts.vmtkNumpyToImage()\n",
    "    converter.ArrayDict = volumeDict\n",
    "    converter.Execute()\n",
    "    \n",
    "    volumeLabels = np.unique(volumeDict['PointData']['ImageScalars'])[1:]\n",
    "    s_list = [dask.delayed(_get_surface_array_dict)(volumeDict, labelId, converter.Image) for labelId in volumeLabels]\n",
    "    \n",
    "    s_list = dask.compute(s_list)[0]\n",
    "    \n",
    "    ints = interactiveselector.vmtkInteractiveSelector()\n",
    "    ints.Surface = s_list\n",
    "    ints.Execute()\n",
    "    \n",
    "    desired_labels = ints.OutputSeedIds[0]\n",
    "\n",
    "    def _get_mask_array(npImage, labelId):\n",
    "        mask_labels = ma.masked_values(npImage, labelId)\n",
    "        return mask_labels.mask\n",
    "\n",
    "    mask_array = np.zeros_like(volumeDict['PointData']['ImageScalars'])\n",
    "    for labelId in desired_labels:\n",
    "        labelId_mask_array = _get_mask_array(volumeDict['PointData']['ImageScalars'], labelId)\n",
    "        mask_array = np.logical_or(mask_array, labelId_mask_array)\n",
    "\n",
    "    mask_array = mask_array.astype(np.int16)\n",
    "    volumeDict['PointData']['ImageScalars'] = volumeDict['PointData']['ImageScalars'] * mask_array\n",
    "    gc.collect()\n",
    "    return volumeDict"
   ]
  }
 ],
 "metadata": {
  "kernelspec": {
   "display_name": "Python 3",
   "language": "python",
   "name": "python3"
  },
  "language_info": {
   "codemirror_mode": {
    "name": "ipython",
    "version": 3
   },
   "file_extension": ".py",
   "mimetype": "text/x-python",
   "name": "python",
   "nbconvert_exporter": "python",
   "pygments_lexer": "ipython3",
   "version": "3.6.1"
  }
 },
 "nbformat": 4,
 "nbformat_minor": 2
}
