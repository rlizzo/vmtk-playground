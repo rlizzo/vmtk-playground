{
 "cells": [
  {
   "cell_type": "code",
   "execution_count": 29,
   "metadata": {},
   "outputs": [],
   "source": [
    "import vtk\n",
    "from vtk.numpy_interface import dataset_adapter as dsa\n",
    "from vmtk import vmtkscripts\n",
    "import numpy as np\n",
    "\n",
    "import os"
   ]
  },
  {
   "cell_type": "code",
   "execution_count": 2,
   "metadata": {},
   "outputs": [],
   "source": [
    "datadir = '/Users/rick/projects/vmtk/vmtk-test-data/input/'"
   ]
  },
  {
   "cell_type": "code",
   "execution_count": 3,
   "metadata": {},
   "outputs": [
    {
     "name": "stdout",
     "output_type": "stream",
     "text": [
      "Reading VTK XML surface file.\n"
     ]
    }
   ],
   "source": [
    "centerlinereader = vmtkscripts.vmtkSurfaceReader()\n",
    "centerlinereader.InputFileName = os.path.join(datadir, 'aorta-centerline-branches.vtp')\n",
    "centerlinereader.Execute()"
   ]
  },
  {
   "cell_type": "code",
   "execution_count": 4,
   "metadata": {},
   "outputs": [
    {
     "name": "stdout",
     "output_type": "stream",
     "text": [
      "Reading VTK XML surface file.\n"
     ]
    }
   ],
   "source": [
    "surfacereader = vmtkscripts.vmtkSurfaceReader()\n",
    "surfacereader.InputFileName = os.path.join(datadir, 'aorta-surface-branch-split.vtp')\n",
    "surfacereader.Execute()"
   ]
  },
  {
   "cell_type": "code",
   "execution_count": 18,
   "metadata": {},
   "outputs": [],
   "source": [
    "sections = vmtkscripts.vmtkBifurcationSections()\n",
    "sections.Surface = surfacereader.Surface\n",
    "sections.Centerlines = centerlinereader.Surface\n",
    "sections.NumberOfDistanceSpheres = 1\n",
    "sections.RadiusArrayName = 'MaximumInscribedSphereRadius'\n",
    "sections.GroupIdsArrayName = 'GroupIds'\n",
    "sections.CenterlineIdsArrayName = 'CenterlineIds'\n",
    "sections.TractIdsArrayName = 'TractIds'\n",
    "sections.BlankingArrayName = 'Blanking'\n",
    "\n",
    "# sections.OutputSectionPointGroupId = 0\n",
    "# sections.OutputSectionPointBifurcationGroupId = 0\n",
    "# sections.OutputSectionPoint = []\n",
    "# sections.OutputSectionNormal = []\n",
    "# sections.OutputSectionArea = 0.0\n",
    "\n",
    "sections.Execute()"
   ]
  },
  {
   "cell_type": "code",
   "execution_count": 19,
   "metadata": {},
   "outputs": [],
   "source": [
    "bifurs = sections.BifurcationSections"
   ]
  },
  {
   "cell_type": "code",
   "execution_count": 20,
   "metadata": {},
   "outputs": [],
   "source": [
    "wp = dsa.WrapDataObject(bifurs)"
   ]
  },
  {
   "cell_type": "code",
   "execution_count": 21,
   "metadata": {},
   "outputs": [],
   "source": [
    "cellDataKeys = ['BifurcationSectionGroupIds',\n",
    "                 'BifurcationSectionBifurcationGroupIds',\n",
    "                 'BifurcationSectionPoint',\n",
    "                 'BifurcationSectionNormal',\n",
    "                 'BifurcationSectionArea',\n",
    "                 'BifurcationSectionMinSize',\n",
    "                 'BifurcationSectionMaxSize',\n",
    "                 'BifurcationSectionShape',\n",
    "                 'BifurcationSectionClosed',\n",
    "                 'BifurcationSectionOrientation',\n",
    "                 'BifurcationSectionDistanceSpheres']"
   ]
  },
  {
   "cell_type": "code",
   "execution_count": 22,
   "metadata": {},
   "outputs": [],
   "source": [
    "objectCellDataKeys = wp.CellData.keys()\n",
    "for cellKey in cellDataKeys:\n",
    "    assert cellKey in objectCellDataKeys\n",
    "    objectCellDataKeys.remove(cellKey)\n",
    "    \n",
    "assert len(objectCellDataKeys) == 0"
   ]
  },
  {
   "cell_type": "code",
   "execution_count": 23,
   "metadata": {},
   "outputs": [],
   "source": [
    "assert len(wp.PointData.keys()) == 0"
   ]
  },
  {
   "cell_type": "code",
   "execution_count": 24,
   "metadata": {},
   "outputs": [
    {
     "name": "stdout",
     "output_type": "stream",
     "text": [
      "BifurcationSectionGroupIds \n",
      " [0 2 3]\n",
      "BifurcationSectionBifurcationGroupIds \n",
      " [1 1 1]\n",
      "BifurcationSectionPoint \n",
      " [[ 221.44660291  147.74956102   23.43517593]\n",
      " [ 227.15183902  130.69595192   23.69846289]\n",
      " [ 216.35230991  130.63763069   25.46971588]]\n",
      "BifurcationSectionNormal \n",
      " [[ 0.01557548 -0.99202661  0.12506246]\n",
      " [ 0.4915811  -0.860392    0.1344382 ]\n",
      " [-0.33415118 -0.94115264  0.05074142]]\n",
      "BifurcationSectionArea \n",
      " [ 177.71780994   73.02829417   80.5269763 ]\n",
      "BifurcationSectionMinSize \n",
      " [ 14.19050112   9.18671219   9.5789813 ]\n",
      "BifurcationSectionMaxSize \n",
      " [ 15.9915222   10.22110037  10.97796263]\n",
      "BifurcationSectionShape \n",
      " [ 0.88737651  0.89879875  0.87256458]\n",
      "BifurcationSectionClosed \n",
      " [1 1 0]\n",
      "BifurcationSectionOrientation \n",
      " [0 1 1]\n",
      "BifurcationSectionDistanceSpheres \n",
      " [1 1 1]\n"
     ]
    }
   ],
   "source": [
    "for key in cellDataKeys:\n",
    "    print(f'{key} \\n {wp.CellData.GetArray(key)}')"
   ]
  },
  {
   "cell_type": "code",
   "execution_count": 25,
   "metadata": {},
   "outputs": [
    {
     "data": {
      "text/plain": [
       "(294, 3)"
      ]
     },
     "execution_count": 25,
     "metadata": {},
     "output_type": "execute_result"
    }
   ],
   "source": [
    "wp.Points.shape"
   ]
  },
  {
   "cell_type": "code",
   "execution_count": 26,
   "metadata": {},
   "outputs": [
    {
     "ename": "AssertionError",
     "evalue": "",
     "output_type": "error",
     "traceback": [
      "\u001b[0;31m---------------------------------------------------------------------------\u001b[0m",
      "\u001b[0;31mAssertionError\u001b[0m                            Traceback (most recent call last)",
      "\u001b[0;32m<ipython-input-26-56b0e2f10dea>\u001b[0m in \u001b[0;36m<module>\u001b[0;34m()\u001b[0m\n\u001b[0;32m----> 1\u001b[0;31m \u001b[0;32massert\u001b[0m \u001b[0mwp\u001b[0m\u001b[0;34m.\u001b[0m\u001b[0mPoints\u001b[0m\u001b[0;34m.\u001b[0m\u001b[0mshape\u001b[0m \u001b[0;34m==\u001b[0m \u001b[0;34m(\u001b[0m\u001b[0;36m280\u001b[0m\u001b[0;34m,\u001b[0m \u001b[0;36m3\u001b[0m\u001b[0;34m)\u001b[0m\u001b[0;34m\u001b[0m\u001b[0m\n\u001b[0m",
      "\u001b[0;31mAssertionError\u001b[0m: "
     ]
    }
   ],
   "source": [
    "assert wp.Points.shape == (280, 3)"
   ]
  },
  {
   "cell_type": "code",
   "execution_count": 28,
   "metadata": {},
   "outputs": [
    {
     "name": "stdout",
     "output_type": "stream",
     "text": [
      "For cell: 0\n",
      "Number Of Points: 124 \n",
      " Point Id Start: 0 \n",
      " Point Id End: 123 \n",
      " np.array([ 220.9937439   146.86668396   16.48843384]), np.array([ 221.39068604  146.87068176   16.47060013]) \n",
      "\n",
      "For cell: 1\n",
      "Number Of Points: 80 \n",
      " Point Id Start: 124 \n",
      " Point Id End: 203 \n",
      " np.array([ 225.22320557  128.92987061   19.44786835]), np.array([ 225.25431824  128.94456482   19.42810059]) \n",
      "\n",
      "For cell: 2\n",
      "Number Of Points: 90 \n",
      " Point Id Start: 204 \n",
      " Point Id End: 293 \n",
      " np.array([ 221.40382385  128.67816162   22.39156914]), np.array([ 221.80430603  128.64775085   24.46484756]) \n",
      "\n"
     ]
    }
   ],
   "source": [
    "for idx in range(3):\n",
    "    print(f'For cell: {idx}')\n",
    "    bcx = bifurs.GetCell(idx)\n",
    "    numberOfPoints = bcx.GetNumberOfPoints()\n",
    "    pointIdStart = bcx.GetPointId(0)\n",
    "    pointIdEnd = bcx.GetPointId(numberOfPoints - 1)\n",
    "    pointLocationStart = wp.Points[pointIdStart]\n",
    "    pointLocationEnd = wp.Points[pointIdEnd]\n",
    "    print(f'Number Of Points: {numberOfPoints} \\n',\n",
    "          f'Point Id Start: {pointIdStart} \\n',\n",
    "          f'Point Id End: {pointIdEnd} \\n',\n",
    "          f'np.array({pointLocationStart}), np.array({pointLocationEnd}) \\n')"
   ]
  },
  {
   "cell_type": "code",
   "execution_count": 14,
   "metadata": {},
   "outputs": [
    {
     "name": "stdout",
     "output_type": "stream",
     "text": [
      "vtkPolyData (0x7fa3bf082320)\n",
      "  Debug: Off\n",
      "  Modified Time: 1546\n",
      "  Reference Count: 1\n",
      "  Registered Events: (none)\n",
      "  Information: 0x7fa3bf082490\n",
      "  Data Released: False\n",
      "  Global Release Data: Off\n",
      "  UpdateTime: 7982\n",
      "  Field Data:\n",
      "    Debug: Off\n",
      "    Modified Time: 1392\n",
      "    Reference Count: 1\n",
      "    Registered Events: (none)\n",
      "    Number Of Arrays: 0\n",
      "    Number Of Components: 0\n",
      "    Number Of Tuples: 0\n",
      "  Number Of Points: 280\n",
      "  Number Of Cells: 3\n",
      "  Cell Data:\n",
      "    Debug: Off\n",
      "    Modified Time: 1527\n",
      "    Reference Count: 1\n",
      "    Registered Events: \n",
      "      Registered Observers:\n",
      "        vtkObserver (0x7fa3bf062d30)\n",
      "          Event: 33\n",
      "          EventName: ModifiedEvent\n",
      "          Command: 0x7fa3bf070b00\n",
      "          Priority: 0\n",
      "          Tag: 1\n",
      "    Number Of Arrays: 11\n",
      "    Array 0 name = BifurcationSectionGroupIds\n",
      "    Array 1 name = BifurcationSectionBifurcationGroupIds\n",
      "    Array 2 name = BifurcationSectionPoint\n",
      "    Array 3 name = BifurcationSectionNormal\n",
      "    Array 4 name = BifurcationSectionArea\n",
      "    Array 5 name = BifurcationSectionMinSize\n",
      "    Array 6 name = BifurcationSectionMaxSize\n",
      "    Array 7 name = BifurcationSectionShape\n",
      "    Array 8 name = BifurcationSectionClosed\n",
      "    Array 9 name = BifurcationSectionOrientation\n",
      "    Array 10 name = BifurcationSectionDistanceSpheres\n",
      "    Number Of Components: 15\n",
      "    Number Of Tuples: 3\n",
      "    Copy Tuple Flags: ( 1 1 1 1 1 0 1 1 )\n",
      "    Interpolate Flags: ( 1 1 1 1 1 0 0 1 )\n",
      "    Pass Through Flags: ( 1 1 1 1 1 1 1 1 )\n",
      "    Scalars: (none)\n",
      "    Vectors: (none)\n",
      "    Normals: (none)\n",
      "    TCoords: (none)\n",
      "    Tensors: (none)\n",
      "    GlobalIds: (none)\n",
      "    PedigreeIds: (none)\n",
      "    EdgeFlag: (none)\n",
      "  Point Data:\n",
      "    Debug: Off\n",
      "    Modified Time: 1402\n",
      "    Reference Count: 1\n",
      "    Registered Events: \n",
      "      Registered Observers:\n",
      "        vtkObserver (0x7fa3bf062bd0)\n",
      "          Event: 33\n",
      "          EventName: ModifiedEvent\n",
      "          Command: 0x7fa3bf070b00\n",
      "          Priority: 0\n",
      "          Tag: 1\n",
      "    Number Of Arrays: 0\n",
      "    Number Of Components: 0\n",
      "    Number Of Tuples: 0\n",
      "    Copy Tuple Flags: ( 1 1 1 1 1 0 1 1 )\n",
      "    Interpolate Flags: ( 1 1 1 1 1 0 0 1 )\n",
      "    Pass Through Flags: ( 1 1 1 1 1 1 1 1 )\n",
      "    Scalars: (none)\n",
      "    Vectors: (none)\n",
      "    Normals: (none)\n",
      "    TCoords: (none)\n",
      "    Tensors: (none)\n",
      "    GlobalIds: (none)\n",
      "    PedigreeIds: (none)\n",
      "    EdgeFlag: (none)\n",
      "  Bounds: \n",
      "    Xmin,Xmax: (210.688, 233.084)\n",
      "    Ymin,Ymax: (125.429, 156.898)\n",
      "    Zmin,Zmax: (15.2646, 30.8392)\n",
      "  Compute Time: 8016\n",
      "  Number Of Points: 280\n",
      "  Point Coordinates: 0x7fa3bf086fa0\n",
      "  Locator: 0x0\n",
      "  Number Of Vertices: 0\n",
      "  Number Of Lines: 0\n",
      "  Number Of Polygons: 3\n",
      "  Number Of Triangle Strips: 0\n",
      "  Number Of Pieces: 1\n",
      "  Piece: 0\n",
      "  Ghost Level: 0\n",
      "\n",
      "\n"
     ]
    }
   ],
   "source": [
    "print(bifurs)"
   ]
  },
  {
   "cell_type": "code",
   "execution_count": null,
   "metadata": {},
   "outputs": [],
   "source": [
    "sections.OutputSectionArea"
   ]
  },
  {
   "cell_type": "code",
   "execution_count": null,
   "metadata": {},
   "outputs": [],
   "source": [
    "surfaceviewer = vmtkscripts.vmtkSurfaceViewer()\n",
    "surfaceviewer.Surface = sections.Surface\n",
    "surfaceviewer.ArrayName = 'BifurcationSectionGroupIds'\n",
    "surfaceviewer.Execute()"
   ]
  },
  {
   "cell_type": "code",
   "execution_count": null,
   "metadata": {},
   "outputs": [],
   "source": []
  }
 ],
 "metadata": {
  "kernelspec": {
   "display_name": "Python 3",
   "language": "python",
   "name": "python3"
  },
  "language_info": {
   "codemirror_mode": {
    "name": "ipython",
    "version": 3
   },
   "file_extension": ".py",
   "mimetype": "text/x-python",
   "name": "python",
   "nbconvert_exporter": "python",
   "pygments_lexer": "ipython3",
   "version": "3.6.1"
  }
 },
 "nbformat": 4,
 "nbformat_minor": 2
}
