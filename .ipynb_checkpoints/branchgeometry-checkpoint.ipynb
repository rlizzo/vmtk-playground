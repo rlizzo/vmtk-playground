{
 "cells": [
  {
   "cell_type": "code",
   "execution_count": 1,
   "metadata": {},
   "outputs": [],
   "source": [
    "import vtk\n",
    "from vtk.numpy_interface import dataset_adapter as dsa\n",
    "from vmtk import vmtkscripts\n",
    "import numpy as np\n",
    "\n",
    "import os"
   ]
  },
  {
   "cell_type": "code",
   "execution_count": 2,
   "metadata": {},
   "outputs": [],
   "source": [
    "datadir = '/Users/rick/projects/vmtk/vmtk-test-data/input/'"
   ]
  },
  {
   "cell_type": "code",
   "execution_count": 3,
   "metadata": {},
   "outputs": [
    {
     "name": "stdout",
     "output_type": "stream",
     "text": [
      "Reading VTK XML surface file.\n"
     ]
    }
   ],
   "source": [
    "centerlinereader = vmtkscripts.vmtkSurfaceReader()\n",
    "centerlinereader.InputFileName = os.path.join(datadir, 'aorta-centerline-branches.vtp')\n",
    "centerlinereader.Execute()"
   ]
  },
  {
   "cell_type": "code",
   "execution_count": 4,
   "metadata": {},
   "outputs": [],
   "source": [
    "branchgeometry = vmtkscripts.vmtkBranchGeometry()\n",
    "branchgeometry.Centerlines = centerlinereader.Surface\n",
    "branchgeometry.BlankingArrayName = 'Blanking'\n",
    "branchgeometry.RadiusArrayName = 'MaximumInscribedSphereRadius'\n",
    "branchgeometry.GroupIdsArrayName = 'GroupIds'\n",
    "branchgeometry.Execute()"
   ]
  },
  {
   "cell_type": "code",
   "execution_count": 6,
   "metadata": {},
   "outputs": [],
   "source": [
    "geom = branchgeometry.GeometryData"
   ]
  },
  {
   "cell_type": "code",
   "execution_count": 8,
   "metadata": {},
   "outputs": [],
   "source": [
    "wp = dsa.WrapDataObject(geom)"
   ]
  },
  {
   "cell_type": "code",
   "execution_count": 9,
   "metadata": {},
   "outputs": [
    {
     "data": {
      "text/plain": [
       "[]"
      ]
     },
     "execution_count": 9,
     "metadata": {},
     "output_type": "execute_result"
    }
   ],
   "source": [
    "wp.CellData.keys()"
   ]
  },
  {
   "cell_type": "code",
   "execution_count": 10,
   "metadata": {},
   "outputs": [
    {
     "data": {
      "text/plain": [
       "['Length', 'Curvature', 'Torsion', 'Tortuosity', 'GroupIds']"
      ]
     },
     "execution_count": 10,
     "metadata": {},
     "output_type": "execute_result"
    }
   ],
   "source": [
    "wp.PointData.keys()"
   ]
  },
  {
   "cell_type": "code",
   "execution_count": 12,
   "metadata": {},
   "outputs": [
    {
     "data": {
      "text/plain": [
       "VTKArray([[ 0.,  0.,  0.],\n",
       "          [ 0.,  0.,  0.],\n",
       "          [ 0.,  0.,  0.]], dtype=float32)"
      ]
     },
     "execution_count": 12,
     "metadata": {},
     "output_type": "execute_result"
    }
   ],
   "source": [
    "wp.Points"
   ]
  },
  {
   "cell_type": "code",
   "execution_count": 22,
   "metadata": {},
   "outputs": [
    {
     "name": "stdout",
     "output_type": "stream",
     "text": [
      "(\"Length\", np.array([35.52495253829437, 35.604787458920114, 34.1129769167953])),\n",
      "(\"Curvature\", np.array([0.01441400600841863, 0.03419512761908704, 0.034160834689055564])),\n",
      "(\"Torsion\", np.array([-0.030372936454314547, -0.17593973521517317, -0.14365517399288139])),\n",
      "(\"Tortuosity\", np.array([0.01062993958363112, 0.01490173952950391, 0.01877139596625832])),\n",
      "(\"GroupIds\", np.array([0.0, 2.0, 3.0])),\n"
     ]
    }
   ],
   "source": [
    "for pointKey in wp.PointData.keys():\n",
    "    print(f'(\"{pointKey}\", np.array([{wp.PointData.GetArray(pointKey)[0]}, {wp.PointData.GetArray(pointKey)[1]}, {wp.PointData.GetArray(pointKey)[2]}])),')\n"
   ]
  },
  {
   "cell_type": "code",
   "execution_count": 7,
   "metadata": {},
   "outputs": [
    {
     "name": "stdout",
     "output_type": "stream",
     "text": [
      "vtkPolyData (0x7ff90fe4b500)\n",
      "  Debug: Off\n",
      "  Modified Time: 991\n",
      "  Reference Count: 1\n",
      "  Registered Events: (none)\n",
      "  Information: 0x7ff90fe570a0\n",
      "  Data Released: False\n",
      "  Global Release Data: Off\n",
      "  UpdateTime: 7266\n",
      "  Field Data:\n",
      "    Debug: Off\n",
      "    Modified Time: 907\n",
      "    Reference Count: 1\n",
      "    Registered Events: (none)\n",
      "    Number Of Arrays: 0\n",
      "    Number Of Components: 0\n",
      "    Number Of Tuples: 0\n",
      "  Number Of Points: 3\n",
      "  Number Of Cells: 3\n",
      "  Cell Data:\n",
      "    Debug: Off\n",
      "    Modified Time: 915\n",
      "    Reference Count: 1\n",
      "    Registered Events: \n",
      "      Registered Observers:\n",
      "        vtkObserver (0x7ff90fe492e0)\n",
      "          Event: 33\n",
      "          EventName: ModifiedEvent\n",
      "          Command: 0x7ff90fe3c5d0\n",
      "          Priority: 0\n",
      "          Tag: 1\n",
      "    Number Of Arrays: 0\n",
      "    Number Of Components: 0\n",
      "    Number Of Tuples: 0\n",
      "    Copy Tuple Flags: ( 1 1 1 1 1 0 1 1 )\n",
      "    Interpolate Flags: ( 1 1 1 1 1 0 0 1 )\n",
      "    Pass Through Flags: ( 1 1 1 1 1 1 1 1 )\n",
      "    Scalars: (none)\n",
      "    Vectors: (none)\n",
      "    Normals: (none)\n",
      "    TCoords: (none)\n",
      "    Tensors: (none)\n",
      "    GlobalIds: (none)\n",
      "    PedigreeIds: (none)\n",
      "    EdgeFlag: (none)\n",
      "  Point Data:\n",
      "    Debug: Off\n",
      "    Modified Time: 972\n",
      "    Reference Count: 1\n",
      "    Registered Events: \n",
      "      Registered Observers:\n",
      "        vtkObserver (0x7ff90fe51d70)\n",
      "          Event: 33\n",
      "          EventName: ModifiedEvent\n",
      "          Command: 0x7ff90fe3c5d0\n",
      "          Priority: 0\n",
      "          Tag: 1\n",
      "    Number Of Arrays: 5\n",
      "    Array 0 name = Length\n",
      "    Array 1 name = Curvature\n",
      "    Array 2 name = Torsion\n",
      "    Array 3 name = Tortuosity\n",
      "    Array 4 name = GroupIds\n",
      "    Number Of Components: 5\n",
      "    Number Of Tuples: 3\n",
      "    Copy Tuple Flags: ( 1 1 1 1 1 0 1 1 )\n",
      "    Interpolate Flags: ( 1 1 1 1 1 0 0 1 )\n",
      "    Pass Through Flags: ( 1 1 1 1 1 1 1 1 )\n",
      "    Scalars: (none)\n",
      "    Vectors: (none)\n",
      "    Normals: (none)\n",
      "    TCoords: (none)\n",
      "    Tensors: (none)\n",
      "    GlobalIds: (none)\n",
      "    PedigreeIds: (none)\n",
      "    EdgeFlag: (none)\n",
      "  Bounds: \n",
      "    Xmin,Xmax: (0, 0)\n",
      "    Ymin,Ymax: (0, 0)\n",
      "    Zmin,Zmax: (0, 0)\n",
      "  Compute Time: 7280\n",
      "  Number Of Points: 3\n",
      "  Point Coordinates: 0x7ff90fe3bb50\n",
      "  Locator: 0x0\n",
      "  Number Of Vertices: 3\n",
      "  Number Of Lines: 0\n",
      "  Number Of Polygons: 0\n",
      "  Number Of Triangle Strips: 0\n",
      "  Number Of Pieces: 1\n",
      "  Piece: 0\n",
      "  Ghost Level: 0\n",
      "\n",
      "\n"
     ]
    }
   ],
   "source": [
    "print(geom)"
   ]
  },
  {
   "cell_type": "code",
   "execution_count": null,
   "metadata": {},
   "outputs": [],
   "source": []
  }
 ],
 "metadata": {
  "kernelspec": {
   "display_name": "Python 3",
   "language": "python",
   "name": "python3"
  },
  "language_info": {
   "codemirror_mode": {
    "name": "ipython",
    "version": 3
   },
   "file_extension": ".py",
   "mimetype": "text/x-python",
   "name": "python",
   "nbconvert_exporter": "python",
   "pygments_lexer": "ipython3",
   "version": "3.6.1"
  }
 },
 "nbformat": 4,
 "nbformat_minor": 2
}
