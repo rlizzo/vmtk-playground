{
 "cells": [
  {
   "cell_type": "markdown",
   "metadata": {},
   "source": [
    "# The Vascular Modeling Toolkit\n",
    "## Pypes Tutorial"
   ]
  },
  {
   "cell_type": "code",
   "execution_count": null,
   "metadata": {},
   "outputs": [],
   "source": [
    "import vmtk"
   ]
  },
  {
   "cell_type": "markdown",
   "metadata": {},
   "source": [
    "With this simple import, we have access to not only `vmtkscripts` but to a new method symbol which has been exported (the `run` method)."
   ]
  },
  {
   "cell_type": "code",
   "execution_count": null,
   "metadata": {},
   "outputs": [],
   "source": [
    "vmtk.__all__"
   ]
  },
  {
   "cell_type": "markdown",
   "metadata": {},
   "source": [
    "We can specify a pype by setting an argument string into the `vmtk.run` interface just as a normal pype would work. The notebook will display all the normal logging data, and any visualizations will appear in a seperate render window"
   ]
  },
  {
   "cell_type": "code",
   "execution_count": null,
   "metadata": {},
   "outputs": [],
   "source": [
    "imagePype = vmtk.run('vmtkimagereader -ifile ./aorta.mha --pipe vmtkimageviewer')"
   ]
  },
  {
   "cell_type": "code",
   "execution_count": null,
   "metadata": {},
   "outputs": [],
   "source": [
    "aortaImage = imagePype.vmtkimagereader.OutputMembers.Image"
   ]
  },
  {
   "cell_type": "markdown",
   "metadata": {},
   "source": [
    "We can inspect the vtkImageData object assigned to the python variable by just printing it"
   ]
  },
  {
   "cell_type": "code",
   "execution_count": null,
   "metadata": {},
   "outputs": [],
   "source": [
    "print(aortaImage)"
   ]
  },
  {
   "cell_type": "markdown",
   "metadata": {},
   "source": [
    "likewise, we can access properties of the render window (even after it has closed out of processing)"
   ]
  },
  {
   "cell_type": "code",
   "execution_count": null,
   "metadata": {},
   "outputs": [],
   "source": [
    "windowLevel = imagePype.vmtkimageviewer.InputMembers.WindowLevel"
   ]
  },
  {
   "cell_type": "markdown",
   "metadata": {},
   "source": [
    "we can view the image in a new pype with the new vmtk.run interface. \n",
    "\n",
    "Just specify a variable name within `{curly braces}` of the input string, and the object will be seamlessly placed as in input into the new pype instance."
   ]
  },
  {
   "cell_type": "code",
   "execution_count": null,
   "metadata": {},
   "outputs": [],
   "source": [
    "imageVolumeViewer = vmtk.run('vmtkimagevolumeviewer -i {imagePype.vmtkimagereader.OutputMembers.Image} -preset CT-AAA2')"
   ]
  },
  {
   "cell_type": "markdown",
   "metadata": {},
   "source": [
    "![imageVolumeViewerPype](./imageVolumeViewer.png)"
   ]
  },
  {
   "cell_type": "markdown",
   "metadata": {},
   "source": [
    "### More Examples assigning variables to a pype"
   ]
  },
  {
   "cell_type": "code",
   "execution_count": null,
   "metadata": {},
   "outputs": [],
   "source": [
    "fileName = './aorta.mha'\n",
    "flip = [0, 0, 0]\n",
    "level = 700"
   ]
  },
  {
   "cell_type": "code",
   "execution_count": null,
   "metadata": {},
   "outputs": [],
   "source": [
    "surfaceExtractorPype = vmtk.run('vmtkimagereader -ifile {fileName} -flip {flip} --pipe vmtkmarchingcubes -l {level} --pipe vmtksurfaceviewer')"
   ]
  },
  {
   "cell_type": "markdown",
   "metadata": {},
   "source": [
    "![surfaceViewerPype](./surfaceViewerPype.png)"
   ]
  },
  {
   "cell_type": "markdown",
   "metadata": {},
   "source": [
    "Variables defined within a pype can be passed as arguments to another pype by simply enclosing them in `{curly braces}`"
   ]
  },
  {
   "cell_type": "code",
   "execution_count": null,
   "metadata": {},
   "outputs": [],
   "source": [
    "myargs = 'vmtkrenderer --pipe vmtksurfaceviewer -i {surfaceExtractorPype.vmtkmarchingcubes.OutputMembers.Surface} --pipe vmtkimageviewer -i {imagePype.vmtkimagereader.OutputMembers.Image}'"
   ]
  },
  {
   "cell_type": "code",
   "execution_count": null,
   "metadata": {},
   "outputs": [],
   "source": [
    "multipleRendererPype = vmtk.run(myargs)"
   ]
  },
  {
   "cell_type": "markdown",
   "metadata": {},
   "source": [
    "![multipleRendererPype](./multipleRendererPype.png)"
   ]
  },
  {
   "cell_type": "code",
   "execution_count": null,
   "metadata": {},
   "outputs": [],
   "source": []
  }
 ],
 "metadata": {
  "kernelspec": {
   "display_name": "Python 3",
   "language": "python",
   "name": "python3"
  },
  "language_info": {
   "codemirror_mode": {
    "name": "ipython",
    "version": 3
   },
   "file_extension": ".py",
   "mimetype": "text/x-python",
   "name": "python",
   "nbconvert_exporter": "python",
   "pygments_lexer": "ipython3",
   "version": "3.6.1"
  }
 },
 "nbformat": 4,
 "nbformat_minor": 2
}
