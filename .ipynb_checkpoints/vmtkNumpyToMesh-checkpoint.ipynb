{
 "cells": [
  {
   "cell_type": "code",
   "execution_count": null,
   "metadata": {},
   "outputs": [],
   "source": [
    "import vtk\n",
    "from vtk.numpy_interface import dataset_adapter as dsa\n",
    "from vmtk import vmtkscripts\n",
    "import numpy as np\n",
    "from itertools import repeat"
   ]
  },
  {
   "cell_type": "code",
   "execution_count": null,
   "metadata": {},
   "outputs": [],
   "source": [
    "surfacereader = vmtkscripts.vmtkSurfaceReader()\n",
    "surfacereader.InputFileName = \"/Users/rick/projects/vmtk/vmtk-test-data/input/aorta-surface.vtp\"\n",
    "surfacereader.Execute()"
   ]
  },
  {
   "cell_type": "code",
   "execution_count": null,
   "metadata": {},
   "outputs": [],
   "source": [
    "meshgen = vmtkscripts.vmtkMeshGenerator()\n",
    "meshgen.Surface = surfacereader.Surface\n",
    "meshgen.Execute()"
   ]
  },
  {
   "cell_type": "code",
   "execution_count": null,
   "metadata": {},
   "outputs": [],
   "source": [
    "writer= vmtkscripts.vmtkMeshWriter()\n",
    "writer.Mesh = meshgen.Mesh\n",
    "writer.OutputFileName = \"/Users/rick/projects/vmtk/vmtk-test-data/input/aorta-mesh.vtu\"\n",
    "writer.Execute()"
   ]
  },
  {
   "cell_type": "code",
   "execution_count": null,
   "metadata": {},
   "outputs": [],
   "source": [
    "mesh = meshgen.Mesh"
   ]
  },
  {
   "cell_type": "code",
   "execution_count": null,
   "metadata": {},
   "outputs": [],
   "source": [
    "class vividict(dict):\n",
    "    def __missing__(self, key):\n",
    "        value = self[key] = type(self)()\n",
    "        return value"
   ]
  },
  {
   "cell_type": "markdown",
   "metadata": {},
   "source": [
    "The unstructured grid dataset consists of arbitrary combinations of any possible cell type. Unstructured grids are defined by points, cells, and cell types. The `CELLS` keyword requires two parameters: the number of cells `n` and the size of the cell list size. The cell list size is the total number of integer values required to represent the list (i. e., sum of numPoints and connectivity indices over each cell). The `CELL_TYPES` keyword requires a single parameter: the number of cells `n`. This value should match the value specified by the `CELLS` keyword. The cell types data is a single integer value per cell that specified cell type (see vtkCell.h)\n",
    "\n",
    "```\n",
    "DATASET UNSTRUCTURED_ GRID \n",
    "POINTS n dataType \n",
    "p 0x p 0y p 0z \n",
    "p 1x p 1y p 1z \n",
    "\n",
    "... \n",
    "p (n-1) x p (n-1) y p (n-1) z \n",
    "\n",
    "CELLS n size \n",
    "numPoints 0 ,i, j, k, l,... \n",
    "numPoints 1 ,i, j, k, l,... \n",
    "numPoints 2 ,i, j, k, l,... \n",
    "... \n",
    "numPoints n-1 ,i, j, k, l,... \n",
    "Simple Legacy Formats 5 \n",
    "CELL_ TYPES n \n",
    "type 0 \n",
    "type 1 \n",
    "type 2 \n",
    "... \n",
    "type n-1 \n",
    "```"
   ]
  },
  {
   "cell_type": "code",
   "execution_count": null,
   "metadata": {},
   "outputs": [],
   "source": [
    "ArrayDict = vividict()\n",
    "returnCellTypesAsStrings = True"
   ]
  },
  {
   "cell_type": "code",
   "execution_count": null,
   "metadata": {},
   "outputs": [],
   "source": [
    "def ConvertFlatCellsArrayToList(cells, cellLocations):\n",
    "    '''convert a flat array defining cells into a list of numpy arrays which each define a cell\n",
    "    \n",
    "    this function is the inverse of vmtknumpytomesh.ConvertListToFlatCellsArray(cellPointIdsList)\n",
    "    \n",
    "    arguments: \n",
    "        - cells: 1D array of format [npointsCell1, cell1PointId_1, .., cell1PointId_npointsCell1, \n",
    "                                     npointsCell2, cell2PointId_1, .., cell2PointId_npointsCell2, \n",
    "                                     ... \n",
    "                                     npointsCell(nCells), cell(nCells)PointId_1, .. cell(nCells)PointId_npointsCell(nCells)]\n",
    "                                     \n",
    "        - cellLocations: flat array of size = nCells. each element in the array defines starts a new cell \n",
    "                        (a location of npointCellFoo) in the cells array\n",
    "    \n",
    "    returns:\n",
    "        - cellPointIdsList: list of numpy arrays (in same order defined in cells), where each array contains \n",
    "                            the cellPointIds for that specific cell. Note: array lengths are not constant, \n",
    "                            each cell can have a different number of constituent points.\n",
    "    '''\n",
    "\n",
    "    splitArrays = np.split(cells, cellLocations[1:]) # start first split after end of Cell1, at nPointsCell2\n",
    "    \n",
    "    cellPointIdsList = []\n",
    "    for subArray in splitArrays:\n",
    "        cellPointIdsList.append(subArray[1:]) # get rid of npointsCell(foo), only keep cellPointIds\n",
    "    \n",
    "    return cellPointIdsList"
   ]
  },
  {
   "cell_type": "code",
   "execution_count": null,
   "metadata": {},
   "outputs": [],
   "source": [
    "def ConvertListToFlatCellsArray(cellPointIdsList):\n",
    "    '''convert a list of numpy arrays defining each cell into a flat array defining cells. \n",
    "    \n",
    "    This function is the inverse of vmtkmeshtonumpy.ConvertFlatCellsArrayToList(cells, cellLocations)\n",
    "    \n",
    "    arguments: \n",
    "        - cellPointIdsList: list of numpy arrays (in same order defined in cells), where each array contains \n",
    "                            the cellPointIds for that specific cell. Note: array lengths are not constant, \n",
    "                            each cell can have a different number of constituent points.\n",
    "    \n",
    "    returns:\n",
    "    \n",
    "        - cells: 1D array of format [npointsCell1, cell1PointId_1, .., cell1PointId_npointsCell1, \n",
    "                                     npointsCell2, cell2PointId_1, .., cell2PointId_npointsCell2, \n",
    "                                     ... \n",
    "                                     npointsCell(nCells), cell(nCells)PointId_1, .. cell(nCells)PointId_npointsCell(nCells)]\n",
    "\n",
    "        - cellLocations: flat array of size = nCells. each element in the array defines starts a new cell \n",
    "                        (a location of npointCellFoo) in the cells array\n",
    "    '''\n",
    "    \n",
    "    cellArrayList = []\n",
    "    cellLocationsList = [np.array([0])]\n",
    "    cellIndex = 0\n",
    "    for cellPointIdArray in cellPointIdsList:\n",
    "        numPointsInArray = cellPointIdArray.size\n",
    "        cellArray = np.concatenate((np.array([numPointsInArray]), cellPointIdArray))\n",
    "        cellArrayList.append(cellArray)\n",
    "        \n",
    "        cellIndex += cellArray.size\n",
    "        cellLocationsList.append(np.array([cellIndex]))\n",
    "    \n",
    "    cellLocations = np.concatenate(cellLocationsList[:-1])\n",
    "    cells = np.concatenate(cellArrayList)\n",
    "    \n",
    "    return cells, cellLocations"
   ]
  },
  {
   "cell_type": "code",
   "execution_count": null,
   "metadata": {},
   "outputs": [],
   "source": [
    "wp = dsa.WrapDataObject(mesh)\n",
    "\n",
    "# (npoints, 3) array of xyz coordinates. values in Cells index to the \n",
    "# rows of this array (Cells.max() = Points.shape[0] - 1)\n",
    "points = np.array(wp.Points)\n",
    "ArrayDict['Points'] = points\n",
    "\n",
    "# flat list of locations which index the beginning of a cell in the \n",
    "# Cell array (same size as CellTypes and CellEntityIds)\n",
    "cellLocations = np.array(wp.CellLocations)\n",
    "\n",
    "# flat array which defines the npoints/cell and indexes of rows \n",
    "# in Points array which define each cell's XYZ locations\n",
    "cells = np.array(wp.Cells)\n",
    "\n",
    "cellPointIdsList = ConvertFlatCellsArrayToList(cells, cellLocations)\n",
    "ArrayDict['Cells']['CellPointIds'] = cellPointIdsList\n",
    "\n",
    "\n",
    "# flat array of shape == cellEntityIds == cellLocations which defines\n",
    "# the intiger descriptor of the VTK_CELL_TYPE for each cell in cells \n",
    "cellTypes = np.array(wp.CellTypes)\n",
    "ArrayDict['Cells']['CellTypes'] = cellTypes\n",
    "\n",
    "\n",
    "\n",
    "if returnCellTypesAsStrings == True:\n",
    "    typeDict = vividict()\n",
    "    uniqueCellTypes = np.unique(cellTypes)\n",
    "    for cellType in uniqueCellTypes:\n",
    "        typeDict[cellType] = vtk.vtkCellTypes.GetClassNameFromTypeId(cellType)\n",
    "    \n",
    "    ArrayDict['Cells']['CellTypesAsStrings'] = typeDict\n",
    "    \n",
    "for cellDataKey in wp.CellData.keys():\n",
    "    cellData = wp.CellData.GetArray(cellDataKey)\n",
    "    ArrayDict['CellData'][cellDataKey] = cellData\n",
    "    \n",
    "for pointDataKey in wp.PointData.keys():\n",
    "    pointData = wp.PointData.GetArray(pointDataKey)\n",
    "    ArrayDict['PointData'][pointDataKey] = pointData\n",
    "    "
   ]
  },
  {
   "cell_type": "code",
   "execution_count": null,
   "metadata": {},
   "outputs": [],
   "source": [
    "gridData = vtk.vtkUnstructuredGrid()"
   ]
  },
  {
   "cell_type": "code",
   "execution_count": null,
   "metadata": {},
   "outputs": [],
   "source": [
    "print('converting points')\n",
    "points = vtk.vtkPoints()\n",
    "for xyzPoint in ArrayDict['Points']:\n",
    "    points.InsertNextPoint(xyzPoint)\n",
    "\n",
    "gridData.SetPoints(points)"
   ]
  },
  {
   "cell_type": "code",
   "execution_count": null,
   "metadata": {},
   "outputs": [],
   "source": [
    "#tests\n",
    "a = mesh.GetPoints()\n",
    "\n",
    "a.GetPoint(5)\n",
    "\n",
    "b = gridData.GetPoints()\n",
    "\n",
    "b.GetPoint(5)\n",
    "\n",
    "for i in range(mesh.GetNumberOfPoints()):\n",
    "    ap = np.array(a.GetPoint(i))\n",
    "    bp = np.array(b.GetPoint(i))\n",
    "    if np.allclose(ap, bp) == False:\n",
    "        print(f'ap: {ap}, bp: {bp}')"
   ]
  },
  {
   "cell_type": "code",
   "execution_count": null,
   "metadata": {},
   "outputs": [],
   "source": [
    "if 'Cells' in ArrayDict.keys():\n",
    "    print('hi')"
   ]
  },
  {
   "cell_type": "code",
   "execution_count": null,
   "metadata": {},
   "outputs": [],
   "source": [
    "if 'Cells' not in ArrayDict.keys():\n",
    "    raise KeyError('Cells Key not found in ArrayDict')"
   ]
  },
  {
   "cell_type": "code",
   "execution_count": null,
   "metadata": {},
   "outputs": [],
   "source": [
    "cpIdsList = ArrayDict['Cells']['CellPointIds']\n",
    "cTypes = ArrayDict['Cells']['CellTypes']\n",
    "reconCells, reconCellLocations = ConvertListToFlatCellsArray(cpIdsList)"
   ]
  },
  {
   "cell_type": "code",
   "execution_count": null,
   "metadata": {},
   "outputs": [],
   "source": [
    "print(CellTypesArray)"
   ]
  },
  {
   "cell_type": "code",
   "execution_count": null,
   "metadata": {},
   "outputs": [],
   "source": [
    "for idx, cType in enumerate(cTypes):\n",
    "    idType.InsertNextValue(cType)"
   ]
  },
  {
   "cell_type": "code",
   "execution_count": null,
   "metadata": {},
   "outputs": [],
   "source": [
    "print(idType)"
   ]
  },
  {
   "cell_type": "code",
   "execution_count": null,
   "metadata": {},
   "outputs": [],
   "source": [
    "cellArray = vtk.vtkCellArray()"
   ]
  },
  {
   "cell_type": "code",
   "execution_count": null,
   "metadata": {},
   "outputs": [],
   "source": []
  },
  {
   "cell_type": "code",
   "execution_count": null,
   "metadata": {},
   "outputs": [],
   "source": [
    "len(cpIdsList)"
   ]
  },
  {
   "cell_type": "code",
   "execution_count": null,
   "metadata": {},
   "outputs": [],
   "source": [
    "cellArray.SetNumberOfCells(len(cpIdsList))\n",
    "cellArray.SetCells()"
   ]
  },
  {
   "cell_type": "code",
   "execution_count": null,
   "metadata": {},
   "outputs": [],
   "source": [
    "cc = mesh.GetCell(3)"
   ]
  },
  {
   "cell_type": "code",
   "execution_count": null,
   "metadata": {},
   "outputs": [],
   "source": [
    "print(cc)"
   ]
  },
  {
   "cell_type": "code",
   "execution_count": null,
   "metadata": {},
   "outputs": [],
   "source": [
    "cellData.SetNumberOfTuples(ArrayDict['Cells']['CellPointIds'])\n",
    "for "
   ]
  },
  {
   "cell_type": "code",
   "execution_count": null,
   "metadata": {},
   "outputs": [],
   "source": [
    "if 'PointData' in ArrayDict.keys():\n",
    "    print('converting point data')\n",
    "    for pointKey in ArrayDict['PointData'].keys():\n",
    "\n",
    "        if np.issubdtype(ArrayDict['PointData'][pointKey].dtype, float):\n",
    "            pointDataArray = vtk.vtkFloatArray()\n",
    "        else:\n",
    "            for checkDt in [int, np.uint8, np.uint16, np.uint32, np.uint64]:\n",
    "                if np.issubdtype(ArrayDict['PointData'][pointKey].dtype, checkDt):\n",
    "                    pointDataArray = vtk.vtkIntArray()\n",
    "                    break\n",
    "                else:\n",
    "                    continue\n",
    "\n",
    "        try:\n",
    "            pointDataComponents = ArrayDict['PointData'][pointKey].shape[1]\n",
    "        except IndexError:\n",
    "            pointDataComponents = 1\n",
    "\n",
    "        if pointDataArray:\n",
    "            pointDataArray.SetNumberOfComponents(pointDataComponents)\n",
    "            pointDataArray.SetName(pointKey)\n",
    "\n",
    "            if pointDataComponents == 1:\n",
    "                pointDataArray.SetNumberOfValues(ArrayDict['PointData'][pointKey].size)\n",
    "                for index, pointData in enumerate(ArrayDict['PointData'][pointKey]):\n",
    "                    pointDataArray.SetValue(index, pointData)\n",
    "                gridData.GetPointData().SetActiveScalars(pointKey)\n",
    "                gridData.GetPointData().SetScalars(pointDataArray)\n",
    "            else:\n",
    "                for pointData in ArrayDict['PointData'][pointKey]:\n",
    "                    pointDataArray.InsertNextTuple(pointData)\n",
    "                gridData.GetPointData().SetActiveVectors(pointKey)\n",
    "                gridData.GetPointData().SetVectors(pointDataArray)\n",
    "\n",
    "print('converting cell data')\n",
    "for cellKey in ArrayDict['CellData'].keys():\n",
    "\n",
    "    if cellKey == 'CellPointIds':\n",
    "        cellDataArray = vtk.vtkCellArray()\n",
    "        cellDataTypes = []\n",
    "        for cellId in ArrayDict['CellData']['CellPointIds']:\n",
    "            numberOfCellPoints = cellId.size\n",
    "            cellDataArray.InsertNextCell(numberOfCellPoints)\n",
    "            for cellPoint in cellId:\n",
    "                cellDataArray.InsertCellPoint(cellPoint)\n",
    "                cellDataTypes.append(int)\n",
    "\n",
    "        gridData.SetCells(cellDataTypes, cellDataArray)\n",
    "\n",
    "    else:\n",
    "\n",
    "        if np.issubdtype(ArrayDict['CellData'][cellKey].dtype, float):\n",
    "            cellDataArray = vtk.vtkFloatArray()\n",
    "        if np.issubdtype(ArrayDict['CellData'][cellKey].dtype, int):\n",
    "            cellDataArray = vtk.vtkIntArray()\n",
    "\n",
    "        try:\n",
    "            cellDataComponents = ArrayDict['CellData'][cellKey].shape[1]\n",
    "        except IndexError:\n",
    "            cellDataComponents = 1\n",
    "\n",
    "        cellDataArray.SetNumberOfComponents(cellDataComponents)\n",
    "        cellDataArray.SetName(cellKey)\n",
    "\n",
    "        if cellDataComponents == 1:\n",
    "            cellDataArray.SetNumberOfValues(ArrayDict['CellData'][cellKey].size)\n",
    "            for index, cellData in enumerate(ArrayDict['CellData'][cellKey]):\n",
    "                cellDataArray.SetValue(index, cellData)\n",
    "            gridData.GetCellData().SetActiveScalars(cellKey)\n",
    "            gridData.GetCellData().SetScalars(cellDataArray)\n",
    "\n",
    "        else:\n",
    "            for cellData in self.ArrayDict['CellData'][cellKey]:\n",
    "                pointDataArray.InsertNextTuple(cellData)\n",
    "            gridData.GetCellData().SetActiveVectors(cellKey)\n",
    "            gridData.GetCellData().SetVectors(cellDataArray)\n"
   ]
  },
  {
   "cell_type": "code",
   "execution_count": null,
   "metadata": {},
   "outputs": [],
   "source": [
    "c = gridData.GetCellData()"
   ]
  },
  {
   "cell_type": "code",
   "execution_count": null,
   "metadata": {},
   "outputs": [],
   "source": [
    "print(c.GetArrayName(0))"
   ]
  },
  {
   "cell_type": "code",
   "execution_count": null,
   "metadata": {},
   "outputs": [],
   "source": [
    "d = mesh.GetCellData()"
   ]
  },
  {
   "cell_type": "code",
   "execution_count": null,
   "metadata": {},
   "outputs": [],
   "source": [
    "d.GetNumberOfArrays()"
   ]
  },
  {
   "cell_type": "code",
   "execution_count": null,
   "metadata": {},
   "outputs": [],
   "source": [
    "viewer = vmtkscripts.vmtkMeshViewer()\n",
    "viewer.Mesh = meshclipper.Mesh\n",
    "viewer.Execute()"
   ]
  },
  {
   "cell_type": "code",
   "execution_count": null,
   "metadata": {},
   "outputs": [],
   "source": []
  }
 ],
 "metadata": {
  "kernelspec": {
   "display_name": "Python 3",
   "language": "python",
   "name": "python3"
  },
  "language_info": {
   "codemirror_mode": {
    "name": "ipython",
    "version": 3
   },
   "file_extension": ".py",
   "mimetype": "text/x-python",
   "name": "python",
   "nbconvert_exporter": "python",
   "pygments_lexer": "ipython3",
   "version": "3.6.1"
  }
 },
 "nbformat": 4,
 "nbformat_minor": 2
}
