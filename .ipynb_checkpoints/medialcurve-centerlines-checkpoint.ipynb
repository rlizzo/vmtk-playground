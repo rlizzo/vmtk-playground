{
 "cells": [
  {
   "cell_type": "code",
   "execution_count": 1,
   "metadata": {},
   "outputs": [],
   "source": [
    "%matplotlib ipympl\n",
    "import matplotlib.pyplot as plt\n",
    "from mpl_toolkits.mplot3d import Axes3D\n",
    "from vtk.numpy_interface import dataset_adapter as dsa\n",
    "import numpy as np\n",
    "from scipy.spatial.distance import cdist\n",
    "from scipy.ndimage import binary_dilation, binary_closing\n",
    "from scipy.ndimage import generate_binary_structure\n",
    "from vmtk import vmtkscripts\n",
    "from vmtk import vtkvmtk\n",
    "import os\n",
    "import sys\n",
    "import numpy as np\n",
    "import random\n",
    "import networkx as nx\n",
    "import sklearn\n",
    "import vtk"
   ]
  },
  {
   "cell_type": "code",
   "execution_count": 2,
   "metadata": {},
   "outputs": [
    {
     "name": "stdout",
     "output_type": "stream",
     "text": [
      "Reading STL surface file.\n"
     ]
    }
   ],
   "source": [
    "surfr = vmtkscripts.vmtkSurfaceReader()\n",
    "surfr.InputFileName = os.path.join(os.getcwd(), 'test-surf-no-hole.stl')\n",
    "surfr.Execute()\n",
    "\n",
    "surf = surfr.Surface"
   ]
  },
  {
   "cell_type": "code",
   "execution_count": 3,
   "metadata": {},
   "outputs": [],
   "source": [
    "def get_network(surface):\n",
    "    fedges = vtk.vtkFeatureEdges()\n",
    "    fedges.BoundaryEdgesOn()\n",
    "    fedges.FeatureEdgesOff()\n",
    "    fedges.ManifoldEdgesOff()\n",
    "    fedges.SetInputData(surface)\n",
    "    fedges.Update()\n",
    "\n",
    "    ofedges = fedges.GetOutput()\n",
    "\n",
    "    numEdges = ofedges.GetNumberOfPoints()\n",
    "    \n",
    "    if numEdges != 0:\n",
    "        tempcapper = vmtkscripts.vmtkSurfaceCapper()\n",
    "        tempcapper.Surface = surface\n",
    "        tempcapper.Interactive = 0\n",
    "        tempcapper.Execute()\n",
    "\n",
    "        networkSurface = vtk.vtkPolyData()\n",
    "        networkSurface.DeepCopy(tempcapper.Surface)\n",
    "    else:\n",
    "        networkSurface = vtk.vtkPolyData()\n",
    "        networkSurface.DeepCopy(surface)\n",
    "        \n",
    "    numCells = surf.GetNumberOfCells()\n",
    "    cellToDelete = random.randrange(0, numCells-1)\n",
    "\n",
    "    networkSurface.BuildLinks()\n",
    "    networkSurface.DeleteCell(cellToDelete)\n",
    "    networkSurface.RemoveDeletedCells()\n",
    "\n",
    "    net = vmtkscripts.vmtkNetworkExtraction()\n",
    "    net.Surface = networkSurface\n",
    "    net.AdvancementRatio = 1.01\n",
    "    net.Execute()\n",
    "\n",
    "    network = net.Network\n",
    "    \n",
    "    convert = vmtkscripts.vmtkCenterlinesToNumpy()\n",
    "    convert.Centerlines = network\n",
    "    convert.Execute()\n",
    "    ad = convert.ArrayDict\n",
    "    \n",
    "    return network, ad"
   ]
  },
  {
   "cell_type": "code",
   "execution_count": 4,
   "metadata": {},
   "outputs": [
    {
     "name": "stdout",
     "output_type": "stream",
     "text": [
      "Progress: 100%Progress: 100%\n",
      "wrapping vtkPolyData object\n",
      "converting cell data: \n",
      "Topology\n",
      "converting points\n",
      "converting point data: \n",
      "Radius\n",
      "converting cell connectivity list\n"
     ]
    }
   ],
   "source": [
    "net, adnet = get_network(surf)"
   ]
  },
  {
   "cell_type": "code",
   "execution_count": 5,
   "metadata": {},
   "outputs": [],
   "source": [
    "connectiv = vtk.vtkPolyDataConnectivityFilter()\n",
    "connectiv.SetInputData(net)\n",
    "connectiv.SetExtractionModeToAllRegions()\n",
    "connectiv.ColorRegionsOn()\n",
    "connectiv.Update()"
   ]
  },
  {
   "cell_type": "code",
   "execution_count": 6,
   "metadata": {},
   "outputs": [],
   "source": [
    "regionnet = connectiv.GetOutput()"
   ]
  },
  {
   "cell_type": "code",
   "execution_count": 7,
   "metadata": {},
   "outputs": [
    {
     "name": "stdout",
     "output_type": "stream",
     "text": [
      "Converting Surface to Image Mask\n",
      "Extracting Centerline Skeleton from Image Mask\n"
     ]
    }
   ],
   "source": [
    "mc = vmtkscripts.vmtkMedialCurveCenterline()\n",
    "mc.Surface = surf\n",
    "mc.PolyDataToImageDataSpacing = [0.4, 0.4, 0.4]\n",
    "mc.Execute()"
   ]
  },
  {
   "cell_type": "code",
   "execution_count": 8,
   "metadata": {},
   "outputs": [],
   "source": [
    "mco = mc.SkeletonImage"
   ]
  },
  {
   "cell_type": "code",
   "execution_count": 9,
   "metadata": {},
   "outputs": [
    {
     "name": "stdout",
     "output_type": "stream",
     "text": [
      "wrapping vtkDataObject\n",
      "setting origin\n",
      "setting dimensions\n",
      "setting spacing\n",
      "writing point data: \n"
     ]
    }
   ],
   "source": [
    "converter = vmtkscripts.vmtkImageToNumpy()\n",
    "converter.Image = mc.SkeletonImage\n",
    "converter.Execute()\n",
    "\n",
    "ad = converter.ArrayDict"
   ]
  },
  {
   "cell_type": "code",
   "execution_count": 10,
   "metadata": {},
   "outputs": [],
   "source": [
    "points = np.where(ad['PointData']['ImageScalars'] == 1)"
   ]
  },
  {
   "cell_type": "code",
   "execution_count": 11,
   "metadata": {},
   "outputs": [],
   "source": [
    "origin = ad['Origin']\n",
    "spacing = ad['Spacing']\n",
    "\n",
    "stackedPoints = np.stack(points).T\n",
    "\n",
    "ptCoords = origin + (stackedPoints * spacing)"
   ]
  },
  {
   "cell_type": "code",
   "execution_count": 12,
   "metadata": {},
   "outputs": [],
   "source": [
    "regionnetPtId = []\n",
    "regionnetPtIdRegionId = []\n",
    "locator = vtk.vtkPointLocator()\n",
    "locator.SetDataSet(regionnet)\n",
    "locator.SetAutomatic(1)\n",
    "for coord in ptCoords:\n",
    "    closestPt = locator.FindClosestPoint(coord[0], coord[1], coord[2])\n",
    "    closestPtRegionId = regionnet.GetPointData().GetArray('RegionId').GetValue(closestPt)\n",
    "    regionnetPtId.append(closestPt)\n",
    "    regionnetPtIdRegionId.append(closestPtRegionId)"
   ]
  },
  {
   "cell_type": "code",
   "execution_count": 13,
   "metadata": {},
   "outputs": [],
   "source": [
    "vtkpoints = vtk.vtkPoints()\n",
    "\n",
    "vtkcl = vtk.vtkPolyData()"
   ]
  },
  {
   "cell_type": "code",
   "execution_count": 14,
   "metadata": {},
   "outputs": [],
   "source": [
    "for i in ptCoords:\n",
    "    vtkpoints.InsertNextPoint(i)"
   ]
  },
  {
   "cell_type": "code",
   "execution_count": 15,
   "metadata": {},
   "outputs": [],
   "source": [
    "vtkPointRegionId = vtk.vtkFloatArray()"
   ]
  },
  {
   "cell_type": "code",
   "execution_count": 16,
   "metadata": {},
   "outputs": [],
   "source": [
    "vtkPointRegionId.SetNumberOfComponents(1)\n",
    "vtkPointRegionId.SetName('RegionId')\n",
    "for i in regionnetPtIdRegionId:\n",
    "    vtkPointRegionId.InsertNextTuple([i])"
   ]
  },
  {
   "cell_type": "code",
   "execution_count": 17,
   "metadata": {},
   "outputs": [],
   "source": [
    "vtkcl.SetPoints(vtkpoints)"
   ]
  },
  {
   "cell_type": "code",
   "execution_count": 20,
   "metadata": {},
   "outputs": [
    {
     "data": {
      "text/plain": [
       "0"
      ]
     },
     "execution_count": 20,
     "metadata": {},
     "output_type": "execute_result"
    }
   ],
   "source": [
    "vtkcl.GetPointData().SetActiveScalars('RegionId')\n",
    "vtkcl.GetPointData().SetScalars(vtkPointRegionId)"
   ]
  },
  {
   "cell_type": "code",
   "execution_count": 22,
   "metadata": {},
   "outputs": [],
   "source": [
    "def get_edge_nodes(allCoords, distance, nodeIdx):\n",
    "    distMatrix = cdist(allCoords, allCoords[nodeIdx:nodeIdx+1])[:, 0]\n",
    "    connectNodes = np.where(distMatrix <= distance)[0]\n",
    "    nodeToRemove = np.where(distMatrix == 0)[0]\n",
    "#     return connectNodes[connectNodes != nodeToRemove].tolist()\n",
    "    return connectNodes.tolist()"
   ]
  },
  {
   "cell_type": "code",
   "execution_count": 23,
   "metadata": {},
   "outputs": [],
   "source": [
    "l = {}\n",
    "for idx, val in enumerate(ptCoords):\n",
    "    l[idx] = get_edge_nodes(ptCoords, 0.6, idx)"
   ]
  },
  {
   "cell_type": "code",
   "execution_count": 24,
   "metadata": {},
   "outputs": [],
   "source": [
    "cellDataArray = vtk.vtkCellArray()\n",
    "for node, val in l.items():\n",
    "    numberOfCellPoints = len(val)\n",
    "    cellDataArray.InsertNextCell(numberOfCellPoints)\n",
    "    for cellPoint in val:\n",
    "        cellDataArray.InsertCellPoint(cellPoint)"
   ]
  },
  {
   "cell_type": "code",
   "execution_count": 25,
   "metadata": {},
   "outputs": [],
   "source": [
    "vtkcl.SetLines(cellDataArray)"
   ]
  },
  {
   "cell_type": "code",
   "execution_count": null,
   "metadata": {},
   "outputs": [],
   "source": [
    "cleaner = vtk.vtkCleanPolyData()\n",
    "cleaner.SetInputData(vtkcl)\n",
    "cleaner.ConvertLinesToPointsOn()\n",
    "cleaner.ConvertPolysToLinesOn()\n",
    "cleaner.Update()"
   ]
  },
  {
   "cell_type": "code",
   "execution_count": 26,
   "metadata": {},
   "outputs": [
    {
     "name": "stdout",
     "output_type": "stream",
     "text": [
      "Quit renderer\n"
     ]
    }
   ],
   "source": [
    "viewer = vmtkscripts.vmtkCenterlineViewer()\n",
    "viewer.Centerlines = vtkcl\n",
    "viewer.PointDataArrayName = 'RegionId'\n",
    "viewer.Execute()"
   ]
  },
  {
   "cell_type": "code",
   "execution_count": null,
   "metadata": {},
   "outputs": [],
   "source": [
    "G = nx.from_dict_of_lists(l)"
   ]
  },
  {
   "cell_type": "code",
   "execution_count": null,
   "metadata": {},
   "outputs": [],
   "source": [
    "pos = nx.nx_agraph.graphviz_layout(G)\n",
    "nx.draw(G, pos=pos, with_labels=True)"
   ]
  },
  {
   "cell_type": "code",
   "execution_count": null,
   "metadata": {},
   "outputs": [],
   "source": [
    "fig = plt.figure()\n",
    "ax = fig.gca(projection='3d')\n",
    "\n",
    "# Plot a sin curve using the x and y axes.\n",
    "ax.scatter(points[0], points[1], points[2], zdir='z', label='curve in (x,y)')\n",
    "ax.view_init(elev=20., azim=-35)\n",
    "\n",
    "plt.show()"
   ]
  },
  {
   "cell_type": "code",
   "execution_count": null,
   "metadata": {},
   "outputs": [],
   "source": [
    "viewer = vmtkscripts.vmtkImageViewer()\n",
    "viewer.Image = conv.Image\n",
    "viewer.Execute()"
   ]
  },
  {
   "cell_type": "code",
   "execution_count": null,
   "metadata": {},
   "outputs": [],
   "source": [
    "write = vmtkscripts.vmtkImageWriter()\n",
    "write.Image = mc.SkeletonImage\n",
    "write.OutputFileName = os.path.join(os.getcwd(), 'realout5.vti')\n",
    "write.Execute()"
   ]
  },
  {
   "cell_type": "markdown",
   "metadata": {},
   "source": [
    "### Previous Method\n",
    "\n",
    "Link Edgels"
   ]
  },
  {
   "cell_type": "code",
   "execution_count": null,
   "metadata": {},
   "outputs": [],
   "source": [
    "caster = vmtkscripts.vmtkImageCast()\n",
    "caster.Image = mc.SkeletonImage\n",
    "caster.OutputType = 'float'\n",
    "caster.Execute()\n",
    "\n",
    "# gradient the image\n",
    "imgGradient = vtk.vtkImageGradient()\n",
    "imgGradient.SetInputData(caster.Image)\n",
    "imgGradient.SetDimensionality(3)\n",
    "imgGradient.Update()\n",
    "\n",
    "imgMagnitude = vtk.vtkImageMagnitude()\n",
    "imgMagnitude.SetInputData(imgGradient.GetOutput())\n",
    "imgMagnitude.Update()\n",
    "\n",
    "# non maximum suppression\n",
    "nonMax = vtk.vtkImageNonMaximumSuppression()\n",
    "nonMax.SetMagnitudeInputData(imgMagnitude.GetOutput())\n",
    "nonMax.SetVectorInputData(imgGradient.GetOutput())\n",
    "nonMax.SetDimensionality(3)\n",
    "nonMax.Update()\n",
    "\n",
    "pad = vtk.vtkImageConstantPad()\n",
    "pad.SetInputData(imgGradient.GetOutput())\n",
    "pad.SetOutputNumberOfScalarComponents(3)\n",
    "pad.SetConstant(0)\n",
    "pad.Update()\n",
    "\n",
    "i2sp1 = vtk.vtkImageToStructuredPoints()\n",
    "i2sp1.SetInputData(nonMax.GetOutput())\n",
    "i2sp1.SetVectorInputData(pad.GetOutput())\n",
    "i2sp1.Update()\n",
    "# link edgles\n",
    "imgLink = vtk.vtkLinkEdgels()\n",
    "imgLink.SetInputData(i2sp1.GetOutput())\n",
    "imgLink.SetGradientThreshold(-1.5)\n",
    "imgLink.SetPhiThreshold(180.0)\n",
    "imgLink.Update()\n",
    "\n",
    "o = imgLink.GetOutput()"
   ]
  },
  {
   "cell_type": "code",
   "execution_count": null,
   "metadata": {},
   "outputs": [],
   "source": [
    "converter = vmtkscripts.vmtkIma"
   ]
  },
  {
   "cell_type": "code",
   "execution_count": null,
   "metadata": {},
   "outputs": [],
   "source": [
    "lines = o.GetLines()"
   ]
  },
  {
   "cell_type": "code",
   "execution_count": null,
   "metadata": {},
   "outputs": [],
   "source": [
    "from vtk.numpy_interface import dataset_adapter as dsa"
   ]
  },
  {
   "cell_type": "code",
   "execution_count": null,
   "metadata": {},
   "outputs": [],
   "source": [
    "npo = dsa.WrapDataObject(o)"
   ]
  },
  {
   "cell_type": "code",
   "execution_count": null,
   "metadata": {},
   "outputs": [],
   "source": [
    "npo.Points.shape"
   ]
  },
  {
   "cell_type": "code",
   "execution_count": null,
   "metadata": {},
   "outputs": [],
   "source": [
    "centers = vtk.vtkCellCenters()\n",
    "centers.SetInputData(o)\n",
    "centers.VertexCellsOn()\n",
    "centers.Update()"
   ]
  },
  {
   "cell_type": "code",
   "execution_count": null,
   "metadata": {},
   "outputs": [],
   "source": [
    "clcent = centers.GetOutput()"
   ]
  },
  {
   "cell_type": "code",
   "execution_count": null,
   "metadata": {},
   "outputs": [],
   "source": [
    "print(clcent)"
   ]
  },
  {
   "cell_type": "code",
   "execution_count": null,
   "metadata": {},
   "outputs": [],
   "source": [
    "clcent.Ge"
   ]
  },
  {
   "cell_type": "code",
   "execution_count": 14,
   "metadata": {},
   "outputs": [
    {
     "name": "stdout",
     "output_type": "stream",
     "text": [
      "Quit renderer\n"
     ]
    }
   ],
   "source": [
    "viewer = vmtkscripts.vmtkCenterlineViewer()\n",
    "viewer.Centerlines = regionnet\n",
    "viewer.PointDataArrayName = 'RegionId'\n",
    "viewer.Execute()"
   ]
  },
  {
   "cell_type": "code",
   "execution_count": null,
   "metadata": {},
   "outputs": [],
   "source": [
    "imgLink.GetLinkThreshold()"
   ]
  },
  {
   "cell_type": "code",
   "execution_count": null,
   "metadata": {},
   "outputs": [],
   "source": [
    "imgLink.GetGradientThreshold()"
   ]
  },
  {
   "cell_type": "code",
   "execution_count": null,
   "metadata": {},
   "outputs": [],
   "source": [
    "imgLink.GetPhiThreshold()"
   ]
  },
  {
   "cell_type": "code",
   "execution_count": null,
   "metadata": {},
   "outputs": [],
   "source": []
  }
 ],
 "metadata": {
  "kernelspec": {
   "display_name": "Python 3",
   "language": "python",
   "name": "python3"
  },
  "language_info": {
   "codemirror_mode": {
    "name": "ipython",
    "version": 3
   },
   "file_extension": ".py",
   "mimetype": "text/x-python",
   "name": "python",
   "nbconvert_exporter": "python",
   "pygments_lexer": "ipython3",
   "version": "3.6.1"
  }
 },
 "nbformat": 4,
 "nbformat_minor": 2
}
