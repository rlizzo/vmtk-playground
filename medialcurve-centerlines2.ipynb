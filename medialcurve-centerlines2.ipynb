{
 "cells": [
  {
   "cell_type": "code",
   "execution_count": 1,
   "metadata": {},
   "outputs": [],
   "source": [
    "%matplotlib ipympl\n",
    "import matplotlib.pyplot as plt\n",
    "from mpl_toolkits.mplot3d import Axes3D\n",
    "from vtk.numpy_interface import dataset_adapter as dsa\n",
    "import numpy as np\n",
    "from scipy.spatial.distance import cdist\n",
    "from scipy.ndimage import binary_dilation, binary_closing\n",
    "from scipy.ndimage import generate_binary_structure\n",
    "from vmtk import vmtkscripts\n",
    "from vmtk import vtkvmtk\n",
    "import os\n",
    "import sys\n",
    "import numpy as np\n",
    "import random\n",
    "import networkx as nx\n",
    "import sklearn\n",
    "import vtk"
   ]
  },
  {
   "cell_type": "code",
   "execution_count": 2,
   "metadata": {},
   "outputs": [
    {
     "name": "stdout",
     "output_type": "stream",
     "text": [
      "Reading STL surface file.\n"
     ]
    }
   ],
   "source": [
    "surfr = vmtkscripts.vmtkSurfaceReader()\n",
    "surfr.InputFileName = os.path.join(os.getcwd(), 'test-surf-no-hole.stl')\n",
    "surfr.Execute()\n",
    "\n",
    "surf = surfr.Surface"
   ]
  },
  {
   "cell_type": "code",
   "execution_count": 3,
   "metadata": {},
   "outputs": [
    {
     "name": "stdout",
     "output_type": "stream",
     "text": [
      "Converting Surface to Image Mask\n",
      "Extracting Centerline Skeleton from Image Mask\n"
     ]
    }
   ],
   "source": [
    "mc = vmtkscripts.vmtkMedialCurveCenterline()\n",
    "mc.Surface = surf\n",
    "# mc.Sigma = 1.5\n",
    "# mc.Threshold = -15.0\n",
    "# mc.PolyDataToImageDataSpacing = [0.2, 0.2, 0.2]\n",
    "mc.Execute()"
   ]
  },
  {
   "cell_type": "code",
   "execution_count": 4,
   "metadata": {},
   "outputs": [
    {
     "name": "stdout",
     "output_type": "stream",
     "text": [
      "wrapping vtkDataObject\n",
      "setting origin\n",
      "setting dimensions\n",
      "setting spacing\n",
      "writing point data: \n"
     ]
    }
   ],
   "source": [
    "converter = vmtkscripts.vmtkImageToNumpy()\n",
    "converter.Image = mc.SkeletonImage\n",
    "converter.Execute()\n",
    "\n",
    "ad = converter.ArrayDict"
   ]
  },
  {
   "cell_type": "code",
   "execution_count": 5,
   "metadata": {},
   "outputs": [],
   "source": [
    "points = np.where(ad['PointData']['ImageScalars'] == 1)"
   ]
  },
  {
   "cell_type": "code",
   "execution_count": 6,
   "metadata": {},
   "outputs": [],
   "source": [
    "origin = ad['Origin']\n",
    "spacing = ad['Spacing']\n",
    "\n",
    "stackedPoints = np.stack(points).T\n",
    "\n",
    "ptCoords = origin + (stackedPoints * spacing)"
   ]
  },
  {
   "cell_type": "code",
   "execution_count": 7,
   "metadata": {},
   "outputs": [],
   "source": [
    "vtkpoints = vtk.vtkPoints()\n",
    "\n",
    "vtkcl = vtk.vtkPolyData()"
   ]
  },
  {
   "cell_type": "code",
   "execution_count": 8,
   "metadata": {},
   "outputs": [],
   "source": [
    "for i in ptCoords:\n",
    "    vtkpoints.InsertNextPoint(i)"
   ]
  },
  {
   "cell_type": "code",
   "execution_count": 9,
   "metadata": {},
   "outputs": [],
   "source": [
    "vtkcl.SetPoints(vtkpoints)"
   ]
  },
  {
   "cell_type": "code",
   "execution_count": 10,
   "metadata": {},
   "outputs": [],
   "source": [
    "pointIds = {}\n",
    "locator = vtk.vtkPointLocator()\n",
    "locator.SetDataSet(vtkcl)\n",
    "locator.SetAutomatic(1)\n",
    "for idx, coord in enumerate(ptCoords):\n",
    "    closestPt = vtk.vtkIdList()\n",
    "    locator.FindClosestNPoints(3, [coord[0], coord[1], coord[2]], closestPt)\n",
    "    pointIds[idx] = [closestPt.GetId(1), closestPt.GetId(0), closestPt.GetId(2)]"
   ]
  },
  {
   "cell_type": "code",
   "execution_count": 11,
   "metadata": {},
   "outputs": [],
   "source": [
    "cellDataArray = vtk.vtkCellArray()\n",
    "for node, val in pointIds.items():\n",
    "    numberOfCellPoints = len(val)\n",
    "    cellDataArray.InsertNextCell(numberOfCellPoints)\n",
    "    for cellPoint in val:\n",
    "        cellDataArray.InsertCellPoint(cellPoint)\n",
    "        \n",
    "vtkcl.SetLines(cellDataArray)"
   ]
  },
  {
   "cell_type": "code",
   "execution_count": 25,
   "metadata": {},
   "outputs": [],
   "source": [
    "import networkx as nx"
   ]
  },
  {
   "cell_type": "code",
   "execution_count": 28,
   "metadata": {},
   "outputs": [
    {
     "data": {
      "text/plain": [
       "AtlasView({58: {}, 60: {}})"
      ]
     },
     "execution_count": 28,
     "metadata": {},
     "output_type": "execute_result"
    }
   ],
   "source": [
    "G[59]"
   ]
  },
  {
   "cell_type": "code",
   "execution_count": 29,
   "metadata": {},
   "outputs": [
    {
     "data": {
      "text/plain": [
       "AtlasView({57: {}, 59: {}, 60: {}})"
      ]
     },
     "execution_count": 29,
     "metadata": {},
     "output_type": "execute_result"
    }
   ],
   "source": [
    "G[58]"
   ]
  },
  {
   "cell_type": "code",
   "execution_count": 30,
   "metadata": {},
   "outputs": [
    {
     "data": {
      "text/plain": [
       "AtlasView({59: {}, 58: {}})"
      ]
     },
     "execution_count": 30,
     "metadata": {},
     "output_type": "execute_result"
    }
   ],
   "source": [
    "G[60]"
   ]
  },
  {
   "cell_type": "code",
   "execution_count": 26,
   "metadata": {},
   "outputs": [],
   "source": [
    "G = nx.from_dict_of_lists(pointIds)"
   ]
  },
  {
   "cell_type": "code",
   "execution_count": 27,
   "metadata": {},
   "outputs": [
    {
     "name": "stderr",
     "output_type": "stream",
     "text": [
      "/Users/rick/miniconda3/envs/vmtkplayground/lib/python3.6/site-packages/matplotlib/__init__.py:942: MatplotlibDeprecationWarning: nbagg.transparent is deprecated and ignored. Use figure.facecolor instead.\n",
      "  mplDeprecation)\n"
     ]
    },
    {
     "data": {
      "application/vnd.jupyter.widget-view+json": {
       "model_id": "c9b409239d414b1ca7b75797a81fe1b0",
       "version_major": 2,
       "version_minor": 0
      },
      "text/plain": [
       "FigureCanvasNbAgg()"
      ]
     },
     "metadata": {},
     "output_type": "display_data"
    }
   ],
   "source": [
    "pos = nx.nx_agraph.graphviz_layout(G)\n",
    "nx.draw(G, pos=pos, with_labels=True)"
   ]
  },
  {
   "cell_type": "code",
   "execution_count": 12,
   "metadata": {},
   "outputs": [],
   "source": [
    "cleaner = vtk.vtkCleanPolyData()\n",
    "cleaner.SetInputData(vtkcl)\n",
    "cleaner.ConvertLinesToPointsOn()\n",
    "cleaner.ConvertPolysToLinesOn()\n",
    "cleaner.ConvertStripsToPolysOn()\n",
    "cleaner.Update()"
   ]
  },
  {
   "cell_type": "code",
   "execution_count": 13,
   "metadata": {},
   "outputs": [
    {
     "name": "stdout",
     "output_type": "stream",
     "text": [
      "Quit renderer\n"
     ]
    }
   ],
   "source": [
    "viewer = vmtkscripts.vmtkCenterlineViewer()\n",
    "viewer.Centerlines = cleaner.GetOutput()\n",
    "# viewer.PointDataArrayName = 'RegionId'\n",
    "viewer.Execute()"
   ]
  },
  {
   "cell_type": "code",
   "execution_count": null,
   "metadata": {},
   "outputs": [],
   "source": [
    "fig = plt.figure()\n",
    "ax = fig.gca(projection='3d')\n",
    "\n",
    "# Plot a sin curve using the x and y axes.\n",
    "ax.scatter(points[0], points[1], points[2], zdir='z', label='curve in (x,y)')\n",
    "ax.view_init(elev=20., azim=-35)\n",
    "\n",
    "plt.show()"
   ]
  },
  {
   "cell_type": "code",
   "execution_count": 4,
   "metadata": {},
   "outputs": [
    {
     "name": "stdout",
     "output_type": "stream",
     "text": [
      "Quit renderer\n"
     ]
    }
   ],
   "source": [
    "viewer = vmtkscripts.vmtkImageViewer()\n",
    "viewer.Image = mc.SkeletonImage\n",
    "viewer.Execute()"
   ]
  },
  {
   "cell_type": "code",
   "execution_count": null,
   "metadata": {},
   "outputs": [],
   "source": [
    "write = vmtkscripts.vmtkImageWriter()\n",
    "write.Image = mc.SkeletonImage\n",
    "write.OutputFileName = os.path.join(os.getcwd(), 'realout5.vti')\n",
    "write.Execute()"
   ]
  },
  {
   "cell_type": "markdown",
   "metadata": {},
   "source": [
    "### Previous Method\n",
    "\n",
    "Link Edgels"
   ]
  },
  {
   "cell_type": "code",
   "execution_count": null,
   "metadata": {},
   "outputs": [],
   "source": [
    "caster = vmtkscripts.vmtkImageCast()\n",
    "caster.Image = mc.SkeletonImage\n",
    "caster.OutputType = 'float'\n",
    "caster.Execute()\n",
    "\n",
    "# gradient the image\n",
    "imgGradient = vtk.vtkImageGradient()\n",
    "imgGradient.SetInputData(caster.Image)\n",
    "imgGradient.SetDimensionality(3)\n",
    "imgGradient.Update()\n",
    "\n",
    "imgMagnitude = vtk.vtkImageMagnitude()\n",
    "imgMagnitude.SetInputData(imgGradient.GetOutput())\n",
    "imgMagnitude.Update()\n",
    "\n",
    "# non maximum suppression\n",
    "nonMax = vtk.vtkImageNonMaximumSuppression()\n",
    "nonMax.SetMagnitudeInputData(imgMagnitude.GetOutput())\n",
    "nonMax.SetVectorInputData(imgGradient.GetOutput())\n",
    "nonMax.SetDimensionality(3)\n",
    "nonMax.Update()\n",
    "\n",
    "pad = vtk.vtkImageConstantPad()\n",
    "pad.SetInputData(imgGradient.GetOutput())\n",
    "pad.SetOutputNumberOfScalarComponents(3)\n",
    "pad.SetConstant(0)\n",
    "pad.Update()\n",
    "\n",
    "i2sp1 = vtk.vtkImageToStructuredPoints()\n",
    "i2sp1.SetInputData(nonMax.GetOutput())\n",
    "i2sp1.SetVectorInputData(pad.GetOutput())\n",
    "i2sp1.Update()\n",
    "# link edgles\n",
    "imgLink = vtk.vtkLinkEdgels()\n",
    "imgLink.SetInputData(i2sp1.GetOutput())\n",
    "imgLink.SetGradientThreshold(-1.5)\n",
    "imgLink.SetPhiThreshold(180.0)\n",
    "imgLink.Update()\n",
    "\n",
    "o = imgLink.GetOutput()"
   ]
  },
  {
   "cell_type": "code",
   "execution_count": null,
   "metadata": {},
   "outputs": [],
   "source": [
    "converter = vmtkscripts.vmtkIma"
   ]
  },
  {
   "cell_type": "code",
   "execution_count": null,
   "metadata": {},
   "outputs": [],
   "source": [
    "lines = o.GetLines()"
   ]
  },
  {
   "cell_type": "code",
   "execution_count": null,
   "metadata": {},
   "outputs": [],
   "source": [
    "from vtk.numpy_interface import dataset_adapter as dsa"
   ]
  },
  {
   "cell_type": "code",
   "execution_count": null,
   "metadata": {},
   "outputs": [],
   "source": [
    "npo = dsa.WrapDataObject(o)"
   ]
  },
  {
   "cell_type": "code",
   "execution_count": null,
   "metadata": {},
   "outputs": [],
   "source": [
    "npo.Points.shape"
   ]
  },
  {
   "cell_type": "code",
   "execution_count": null,
   "metadata": {},
   "outputs": [],
   "source": [
    "centers = vtk.vtkCellCenters()\n",
    "centers.SetInputData(o)\n",
    "centers.VertexCellsOn()\n",
    "centers.Update()"
   ]
  },
  {
   "cell_type": "code",
   "execution_count": null,
   "metadata": {},
   "outputs": [],
   "source": [
    "clcent = centers.GetOutput()"
   ]
  },
  {
   "cell_type": "code",
   "execution_count": null,
   "metadata": {},
   "outputs": [],
   "source": [
    "print(clcent)"
   ]
  },
  {
   "cell_type": "code",
   "execution_count": null,
   "metadata": {},
   "outputs": [],
   "source": [
    "clcent.Ge"
   ]
  },
  {
   "cell_type": "code",
   "execution_count": null,
   "metadata": {},
   "outputs": [],
   "source": [
    "viewer = vmtkscripts.vmtkCenterlineViewer()\n",
    "viewer.Centerlines = regionnet\n",
    "viewer.PointDataArrayName = 'RegionId'\n",
    "viewer.Execute()"
   ]
  },
  {
   "cell_type": "code",
   "execution_count": null,
   "metadata": {},
   "outputs": [],
   "source": [
    "imgLink.GetLinkThreshold()"
   ]
  },
  {
   "cell_type": "code",
   "execution_count": null,
   "metadata": {},
   "outputs": [],
   "source": [
    "imgLink.GetGradientThreshold()"
   ]
  },
  {
   "cell_type": "code",
   "execution_count": null,
   "metadata": {},
   "outputs": [],
   "source": [
    "imgLink.GetPhiThreshold()"
   ]
  },
  {
   "cell_type": "code",
   "execution_count": null,
   "metadata": {},
   "outputs": [],
   "source": []
  }
 ],
 "metadata": {
  "kernelspec": {
   "display_name": "Python 3",
   "language": "python",
   "name": "python3"
  },
  "language_info": {
   "codemirror_mode": {
    "name": "ipython",
    "version": 3
   },
   "file_extension": ".py",
   "mimetype": "text/x-python",
   "name": "python",
   "nbconvert_exporter": "python",
   "pygments_lexer": "ipython3",
   "version": "3.6.1"
  }
 },
 "nbformat": 4,
 "nbformat_minor": 2
}
