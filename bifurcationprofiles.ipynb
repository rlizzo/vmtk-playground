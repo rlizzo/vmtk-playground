{
 "cells": [
  {
   "cell_type": "code",
   "execution_count": 1,
   "metadata": {},
   "outputs": [],
   "source": [
    "import vtk\n",
    "from vtk.numpy_interface import dataset_adapter as dsa\n",
    "from vmtk import vmtkscripts\n",
    "import numpy as np\n",
    "\n",
    "import os"
   ]
  },
  {
   "cell_type": "code",
   "execution_count": 2,
   "metadata": {},
   "outputs": [],
   "source": [
    "datadir = '/Users/rick/projects/vmtk/vmtk-test-data/input/'"
   ]
  },
  {
   "cell_type": "code",
   "execution_count": 3,
   "metadata": {},
   "outputs": [
    {
     "name": "stdout",
     "output_type": "stream",
     "text": [
      "Reading VTK XML surface file.\n"
     ]
    }
   ],
   "source": [
    "centerlinereader = vmtkscripts.vmtkSurfaceReader()\n",
    "centerlinereader.InputFileName = os.path.join(datadir, 'aorta-centerline-branches.vtp')\n",
    "centerlinereader.Execute()"
   ]
  },
  {
   "cell_type": "code",
   "execution_count": 4,
   "metadata": {},
   "outputs": [
    {
     "name": "stdout",
     "output_type": "stream",
     "text": [
      "Reading VTK XML surface file.\n"
     ]
    }
   ],
   "source": [
    "surfacereader = vmtkscripts.vmtkSurfaceReader()\n",
    "surfacereader.InputFileName = os.path.join(datadir, 'aorta-surface-branch-split.vtp')\n",
    "surfacereader.Execute()"
   ]
  },
  {
   "cell_type": "code",
   "execution_count": 6,
   "metadata": {},
   "outputs": [],
   "source": [
    "profiles = vmtkscripts.vmtkBifurcationProfiles()\n",
    "profiles.Surface = surfacereader.Surface\n",
    "profiles.Centerlines = centerlinereader.Surface\n",
    "profiles.RadiusArrayName = 'MaximumInscribedSphereRadius'\n",
    "profiles.GroupIdsArrayName = 'GroupIds'\n",
    "profiles.CenterlineIdsArrayName = 'CenterlineIds'\n",
    "profiles.TractIdsArrayName = 'TractIds'\n",
    "profiles.BlankingArrayName = 'Blanking'\n",
    "\n",
    "profiles.Execute()"
   ]
  },
  {
   "cell_type": "code",
   "execution_count": 7,
   "metadata": {},
   "outputs": [],
   "source": [
    "bifurs = profiles.BifurcationProfiles"
   ]
  },
  {
   "cell_type": "code",
   "execution_count": 8,
   "metadata": {},
   "outputs": [],
   "source": [
    "wp = dsa.WrapDataObject(bifurs)"
   ]
  },
  {
   "cell_type": "code",
   "execution_count": 9,
   "metadata": {},
   "outputs": [
    {
     "data": {
      "text/plain": [
       "['BifurcationProfileGroupIds',\n",
       " 'BifurcationProfileBifurcationGroupIds',\n",
       " 'BifurcationProfileOrientation']"
      ]
     },
     "execution_count": 9,
     "metadata": {},
     "output_type": "execute_result"
    }
   ],
   "source": [
    "wp.CellData.keys()"
   ]
  },
  {
   "cell_type": "code",
   "execution_count": 12,
   "metadata": {},
   "outputs": [],
   "source": [
    "cellDataKeys = ['BifurcationProfileGroupIds',\n",
    "                 'BifurcationProfileBifurcationGroupIds',\n",
    "                 'BifurcationProfileOrientation']"
   ]
  },
  {
   "cell_type": "code",
   "execution_count": 13,
   "metadata": {},
   "outputs": [],
   "source": [
    "objectCellDataKeys = wp.CellData.keys()\n",
    "for cellKey in cellDataKeys:\n",
    "    assert cellKey in objectCellDataKeys\n",
    "    objectCellDataKeys.remove(cellKey)\n",
    "    \n",
    "assert len(objectCellDataKeys) == 0"
   ]
  },
  {
   "cell_type": "code",
   "execution_count": 14,
   "metadata": {},
   "outputs": [],
   "source": [
    "assert len(wp.PointData.keys()) == 0"
   ]
  },
  {
   "cell_type": "code",
   "execution_count": 15,
   "metadata": {},
   "outputs": [
    {
     "name": "stdout",
     "output_type": "stream",
     "text": [
      "BifurcationProfileGroupIds \n",
      " [0 2 3]\n",
      "BifurcationProfileBifurcationGroupIds \n",
      " [1 1 1]\n",
      "BifurcationProfileOrientation \n",
      " [0 1 1]\n"
     ]
    }
   ],
   "source": [
    "for key in cellDataKeys:\n",
    "    print(f'{key} \\n {wp.CellData.GetArray(key)}')"
   ]
  },
  {
   "cell_type": "code",
   "execution_count": 18,
   "metadata": {},
   "outputs": [
    {
     "name": "stdout",
     "output_type": "stream",
     "text": [
      "vtkPolyData (0x7f8bd216d940)\n",
      "  Debug: Off\n",
      "  Modified Time: 1447\n",
      "  Reference Count: 1\n",
      "  Registered Events: (none)\n",
      "  Information: 0x7f8bd216dab0\n",
      "  Data Released: False\n",
      "  Global Release Data: Off\n",
      "  UpdateTime: 3490\n",
      "  Field Data:\n",
      "    Debug: Off\n",
      "    Modified Time: 1383\n",
      "    Reference Count: 1\n",
      "    Registered Events: (none)\n",
      "    Number Of Arrays: 0\n",
      "    Number Of Components: 0\n",
      "    Number Of Tuples: 0\n",
      "  Number Of Points: 358\n",
      "  Number Of Cells: 3\n",
      "  Cell Data:\n",
      "    Debug: Off\n",
      "    Modified Time: 1428\n",
      "    Reference Count: 1\n",
      "    Registered Events: \n",
      "      Registered Observers:\n",
      "        vtkObserver (0x7f8bd2171330)\n",
      "          Event: 33\n",
      "          EventName: ModifiedEvent\n",
      "          Command: 0x7f8bd216cab0\n",
      "          Priority: 0\n",
      "          Tag: 1\n",
      "    Number Of Arrays: 3\n",
      "    Array 0 name = BifurcationProfileGroupIds\n",
      "    Array 1 name = BifurcationProfileBifurcationGroupIds\n",
      "    Array 2 name = BifurcationProfileOrientation\n",
      "    Number Of Components: 3\n",
      "    Number Of Tuples: 3\n",
      "    Copy Tuple Flags: ( 1 1 1 1 1 0 1 1 )\n",
      "    Interpolate Flags: ( 1 1 1 1 1 0 0 1 )\n",
      "    Pass Through Flags: ( 1 1 1 1 1 1 1 1 )\n",
      "    Scalars: (none)\n",
      "    Vectors: (none)\n",
      "    Normals: (none)\n",
      "    TCoords: (none)\n",
      "    Tensors: (none)\n",
      "    GlobalIds: (none)\n",
      "    PedigreeIds: (none)\n",
      "    EdgeFlag: (none)\n",
      "  Point Data:\n",
      "    Debug: Off\n",
      "    Modified Time: 1393\n",
      "    Reference Count: 1\n",
      "    Registered Events: \n",
      "      Registered Observers:\n",
      "        vtkObserver (0x7f8bd216ee60)\n",
      "          Event: 33\n",
      "          EventName: ModifiedEvent\n",
      "          Command: 0x7f8bd216cab0\n",
      "          Priority: 0\n",
      "          Tag: 1\n",
      "    Number Of Arrays: 0\n",
      "    Number Of Components: 0\n",
      "    Number Of Tuples: 0\n",
      "    Copy Tuple Flags: ( 1 1 1 1 1 0 1 1 )\n",
      "    Interpolate Flags: ( 1 1 1 1 1 0 0 1 )\n",
      "    Pass Through Flags: ( 1 1 1 1 1 1 1 1 )\n",
      "    Scalars: (none)\n",
      "    Vectors: (none)\n",
      "    Normals: (none)\n",
      "    TCoords: (none)\n",
      "    Tensors: (none)\n",
      "    GlobalIds: (none)\n",
      "    PedigreeIds: (none)\n",
      "    EdgeFlag: (none)\n",
      "  Bounds: \n",
      "    Xmin,Xmax: (213.113, 230.218)\n",
      "    Ymin,Ymax: (128.383, 139.424)\n",
      "    Zmin,Zmax: (17.8688, 30.4997)\n",
      "  Compute Time: 3511\n",
      "  Number Of Points: 358\n",
      "  Point Coordinates: 0x7f8bd218f210\n",
      "  Locator: 0x0\n",
      "  Number Of Vertices: 0\n",
      "  Number Of Lines: 3\n",
      "  Number Of Polygons: 0\n",
      "  Number Of Triangle Strips: 0\n",
      "  Number Of Pieces: 1\n",
      "  Piece: 0\n",
      "  Ghost Level: 0\n",
      "\n",
      "\n"
     ]
    }
   ],
   "source": [
    "print(bifurs)"
   ]
  },
  {
   "cell_type": "code",
   "execution_count": 21,
   "metadata": {},
   "outputs": [
    {
     "name": "stdout",
     "output_type": "stream",
     "text": [
      "For cell: 0\n",
      "Number Of Points: 132 \n",
      " Point Id Start: 0 \n",
      " Point Id End: 131 \n",
      " Point Location Start: [ 221.89123535  135.91229248   17.98954964] \n",
      " Point Location End: [ 221.82603455  135.88433838   18.00107956] \n",
      "\n",
      "For cell: 1\n",
      "Number Of Points: 106 \n",
      " Point Id Start: 132 \n",
      " Point Id End: 237 \n",
      " Point Location Start: [ 222.36294556  136.11395264   17.92448616] \n",
      " Point Location End: [ 222.40290833  136.13102722   17.91927338] \n",
      "\n",
      "For cell: 2\n",
      "Number Of Points: 120 \n",
      " Point Id Start: 238 \n",
      " Point Id End: 357 \n",
      " Point Location Start: [ 221.05075073  132.63262939   19.5011692 ] \n",
      " Point Location End: [ 221.05207825  132.61680603   19.50825119] \n",
      "\n"
     ]
    }
   ],
   "source": [
    "for idx in range(3):\n",
    "    print(f'For cell: {idx}')\n",
    "    bcx = bifurs.GetCell(idx)\n",
    "    numberOfPoints = bcx.GetNumberOfPoints()\n",
    "    pointIdStart = bcx.GetPointId(0)\n",
    "    pointIdEnd = bcx.GetPointId(numberOfPoints - 1)\n",
    "    pointLocationStart = wp.Points[pointIdStart]\n",
    "    pointLocationEnd = wp.Points[pointIdEnd]\n",
    "    print(f'Number Of Points: {numberOfPoints} \\n',\n",
    "          f'Point Id Start: {pointIdStart} \\n',\n",
    "          f'Point Id End: {pointIdEnd} \\n',\n",
    "          f'Point Location Start: {pointLocationStart} \\n',\n",
    "          f'Point Location End: {pointLocationEnd} \\n')"
   ]
  },
  {
   "cell_type": "code",
   "execution_count": 20,
   "metadata": {},
   "outputs": [
    {
     "data": {
      "text/plain": [
       "(vtkCommonDataModelPython.vtkPolyLine)0x11a3f19a8"
      ]
     },
     "execution_count": 20,
     "metadata": {},
     "output_type": "execute_result"
    }
   ],
   "source": [
    "bcx"
   ]
  },
  {
   "cell_type": "code",
   "execution_count": 32,
   "metadata": {},
   "outputs": [],
   "source": [
    "assert wp.Points.shape == (280, 3)"
   ]
  },
  {
   "cell_type": "code",
   "execution_count": null,
   "metadata": {},
   "outputs": [],
   "source": []
  },
  {
   "cell_type": "code",
   "execution_count": 17,
   "metadata": {},
   "outputs": [
    {
     "name": "stdout",
     "output_type": "stream",
     "text": [
      "vtkPolyData (0x7f8bd216d940)\n",
      "  Debug: Off\n",
      "  Modified Time: 1447\n",
      "  Reference Count: 1\n",
      "  Registered Events: (none)\n",
      "  Information: 0x7f8bd216dab0\n",
      "  Data Released: False\n",
      "  Global Release Data: Off\n",
      "  UpdateTime: 3490\n",
      "  Field Data:\n",
      "    Debug: Off\n",
      "    Modified Time: 1383\n",
      "    Reference Count: 1\n",
      "    Registered Events: (none)\n",
      "    Number Of Arrays: 0\n",
      "    Number Of Components: 0\n",
      "    Number Of Tuples: 0\n",
      "  Number Of Points: 358\n",
      "  Number Of Cells: 3\n",
      "  Cell Data:\n",
      "    Debug: Off\n",
      "    Modified Time: 1428\n",
      "    Reference Count: 1\n",
      "    Registered Events: \n",
      "      Registered Observers:\n",
      "        vtkObserver (0x7f8bd2171330)\n",
      "          Event: 33\n",
      "          EventName: ModifiedEvent\n",
      "          Command: 0x7f8bd216cab0\n",
      "          Priority: 0\n",
      "          Tag: 1\n",
      "    Number Of Arrays: 3\n",
      "    Array 0 name = BifurcationProfileGroupIds\n",
      "    Array 1 name = BifurcationProfileBifurcationGroupIds\n",
      "    Array 2 name = BifurcationProfileOrientation\n",
      "    Number Of Components: 3\n",
      "    Number Of Tuples: 3\n",
      "    Copy Tuple Flags: ( 1 1 1 1 1 0 1 1 )\n",
      "    Interpolate Flags: ( 1 1 1 1 1 0 0 1 )\n",
      "    Pass Through Flags: ( 1 1 1 1 1 1 1 1 )\n",
      "    Scalars: (none)\n",
      "    Vectors: (none)\n",
      "    Normals: (none)\n",
      "    TCoords: (none)\n",
      "    Tensors: (none)\n",
      "    GlobalIds: (none)\n",
      "    PedigreeIds: (none)\n",
      "    EdgeFlag: (none)\n",
      "  Point Data:\n",
      "    Debug: Off\n",
      "    Modified Time: 1393\n",
      "    Reference Count: 1\n",
      "    Registered Events: \n",
      "      Registered Observers:\n",
      "        vtkObserver (0x7f8bd216ee60)\n",
      "          Event: 33\n",
      "          EventName: ModifiedEvent\n",
      "          Command: 0x7f8bd216cab0\n",
      "          Priority: 0\n",
      "          Tag: 1\n",
      "    Number Of Arrays: 0\n",
      "    Number Of Components: 0\n",
      "    Number Of Tuples: 0\n",
      "    Copy Tuple Flags: ( 1 1 1 1 1 0 1 1 )\n",
      "    Interpolate Flags: ( 1 1 1 1 1 0 0 1 )\n",
      "    Pass Through Flags: ( 1 1 1 1 1 1 1 1 )\n",
      "    Scalars: (none)\n",
      "    Vectors: (none)\n",
      "    Normals: (none)\n",
      "    TCoords: (none)\n",
      "    Tensors: (none)\n",
      "    GlobalIds: (none)\n",
      "    PedigreeIds: (none)\n",
      "    EdgeFlag: (none)\n",
      "  Bounds: \n",
      "    Xmin,Xmax: (213.113, 230.218)\n",
      "    Ymin,Ymax: (128.383, 139.424)\n",
      "    Zmin,Zmax: (17.8688, 30.4997)\n",
      "  Compute Time: 3511\n",
      "  Number Of Points: 358\n",
      "  Point Coordinates: 0x7f8bd218f210\n",
      "  Locator: 0x0\n",
      "  Number Of Vertices: 0\n",
      "  Number Of Lines: 3\n",
      "  Number Of Polygons: 0\n",
      "  Number Of Triangle Strips: 0\n",
      "  Number Of Pieces: 1\n",
      "  Piece: 0\n",
      "  Ghost Level: 0\n",
      "\n",
      "\n"
     ]
    }
   ],
   "source": [
    "print(bifurs)"
   ]
  },
  {
   "cell_type": "code",
   "execution_count": 12,
   "metadata": {},
   "outputs": [
    {
     "data": {
      "text/plain": [
       "0.0"
      ]
     },
     "execution_count": 12,
     "metadata": {},
     "output_type": "execute_result"
    }
   ],
   "source": [
    "sections.OutputSectionArea"
   ]
  },
  {
   "cell_type": "code",
   "execution_count": 8,
   "metadata": {},
   "outputs": [
    {
     "name": "stdout",
     "output_type": "stream",
     "text": [
      "Quit renderer\n"
     ]
    }
   ],
   "source": [
    "surfaceviewer = vmtkscripts.vmtkSurfaceViewer()\n",
    "surfaceviewer.Surface = sections.Surface\n",
    "surfaceviewer.ArrayName = 'BifurcationSectionGroupIds'\n",
    "surfaceviewer.Execute()"
   ]
  },
  {
   "cell_type": "code",
   "execution_count": null,
   "metadata": {},
   "outputs": [],
   "source": []
  }
 ],
 "metadata": {
  "kernelspec": {
   "display_name": "Python 3",
   "language": "python",
   "name": "python3"
  },
  "language_info": {
   "codemirror_mode": {
    "name": "ipython",
    "version": 3
   },
   "file_extension": ".py",
   "mimetype": "text/x-python",
   "name": "python",
   "nbconvert_exporter": "python",
   "pygments_lexer": "ipython3",
   "version": "3.6.1"
  }
 },
 "nbformat": 4,
 "nbformat_minor": 2
}
