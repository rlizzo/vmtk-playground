{
 "cells": [
  {
   "cell_type": "code",
   "execution_count": 1,
   "metadata": {},
   "outputs": [],
   "source": [
    "import os\n",
    "import sys\n",
    "import numpy as np\n",
    "from vmtk import vmtkscripts\n",
    "import vtk\n",
    "from vtk.numpy_interface import dataset_adapter as dsa"
   ]
  },
  {
   "cell_type": "code",
   "execution_count": 2,
   "metadata": {},
   "outputs": [
    {
     "name": "stdout",
     "output_type": "stream",
     "text": [
      "Spacing 0.878906 0.878906 1.500090\n",
      "Origin 156.445000 24.609400 0.000000\n",
      "Dimensions 157 393 34\n"
     ]
    }
   ],
   "source": [
    "imgr = vmtkscripts.vmtkImageReader()\n",
    "imgr.InputFileName = os.path.join(os.getcwd(), 'aorta.mha')\n",
    "imgr.Execute()\n",
    "\n",
    "mc = vmtkscripts.vmtkMarchingCubes()\n",
    "mc.Image = imgr.Image\n",
    "mc.Level = 1000.0\n",
    "mc.Execute()"
   ]
  },
  {
   "cell_type": "code",
   "execution_count": 3,
   "metadata": {},
   "outputs": [],
   "source": [
    "capper = vmtkscripts.vmtkSurfaceCapper()\n",
    "capper.Surface = mc.Surface\n",
    "capper.Interactive = 0\n",
    "capper.Execute()"
   ]
  },
  {
   "cell_type": "code",
   "execution_count": 4,
   "metadata": {},
   "outputs": [],
   "source": [
    "connect = vmtkscripts.vmtkSurfaceConnectivity()\n",
    "\n",
    "connect.Method = 'largest'\n",
    "connect.Surface = capper.Surface\n",
    "connect.Execute()"
   ]
  },
  {
   "cell_type": "code",
   "execution_count": 5,
   "metadata": {},
   "outputs": [
    {
     "name": "stdout",
     "output_type": "stream",
     "text": [
      "Cleaning surface.\n",
      "Triangulating surface.\n",
      "Capping surface.\n",
      "Please position the mouse and press space to add source points, 'u' to undo\n",
      "Quit renderer\n",
      "Please position the mouse and press space to add target points, 'u' to undo\n",
      "Quit renderer\n",
      "Computing centerlines.\n",
      "Computing centerlines..."
     ]
    }
   ],
   "source": [
    "centl = vmtkscripts.vmtkCenterlines()\n",
    "centl.Surface = connect.Surface\n",
    "centl.Execute()"
   ]
  },
  {
   "cell_type": "code",
   "execution_count": 7,
   "metadata": {},
   "outputs": [],
   "source": [
    "surf = connect.Surface"
   ]
  },
  {
   "cell_type": "code",
   "execution_count": null,
   "metadata": {},
   "outputs": [],
   "source": []
  },
  {
   "cell_type": "code",
   "execution_count": 9,
   "metadata": {},
   "outputs": [
    {
     "name": "stdout",
     "output_type": "stream",
     "text": [
      "Quit renderer\n"
     ]
    }
   ],
   "source": [
    "sviewer = vmtkscripts.vmtkSurfaceViewer()\n",
    "sviewer.Surface = connect.Surface\n",
    "sviewer.Execute()"
   ]
  },
  {
   "cell_type": "code",
   "execution_count": 6,
   "metadata": {},
   "outputs": [
    {
     "name": "stdout",
     "output_type": "stream",
     "text": [
      "Quit renderer\n"
     ]
    }
   ],
   "source": [
    "clviewer = vmtkscripts.vmtkCenterlineViewer()\n",
    "clviewer.Centerlines = centl.Centerlines\n",
    "clviewer.Execute()"
   ]
  },
  {
   "cell_type": "code",
   "execution_count": 12,
   "metadata": {},
   "outputs": [
    {
     "name": "stdout",
     "output_type": "stream",
     "text": [
      "Quit renderer\n",
      "Quit renderer\n"
     ]
    }
   ],
   "source": [
    "rend = vmtkscripts.vmtkRenderer()\n",
    "rend.Execute()\n",
    "\n",
    "view = vmtkscripts.vmtkImageViewer()\n",
    "view.vmtkRenderer = rend.vmtkRenderer\n",
    "view.Image = imgr.Image\n",
    "view.Execute()\n",
    "\n",
    "view2 = vmtkscripts.vmtkCenterlineViewer()\n",
    "view2.vmtkRenderer = rend.vmtkRenderer\n",
    "view2.Centerlines = centl.Centerlines\n",
    "view2.Execute()"
   ]
  },
  {
   "cell_type": "code",
   "execution_count": null,
   "metadata": {},
   "outputs": [],
   "source": []
  }
 ],
 "metadata": {
  "kernelspec": {
   "display_name": "Python 3",
   "language": "python",
   "name": "python3"
  },
  "language_info": {
   "codemirror_mode": {
    "name": "ipython",
    "version": 3
   },
   "file_extension": ".py",
   "mimetype": "text/x-python",
   "name": "python",
   "nbconvert_exporter": "python",
   "pygments_lexer": "ipython3",
   "version": "3.6.1"
  }
 },
 "nbformat": 4,
 "nbformat_minor": 2
}
