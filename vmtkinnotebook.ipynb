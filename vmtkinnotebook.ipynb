{
 "cells": [
  {
   "cell_type": "markdown",
   "metadata": {},
   "source": [
    "# The Vascular Modeling Toolkit\n",
    "## Pypes Tutorial"
   ]
  },
  {
   "cell_type": "markdown",
   "metadata": {},
   "source": [
    "### Overview\n",
    "\n",
    "PypeS is a small high-level framework of Python pipeable scripts.\n",
    "\n",
    "### Motivation\n",
    "\n",
    "Writing classes implementing algorithms and writing actual tools to be used for everyday work are two distinct tasks. Very often a well-designed object-oriented library ends up to be used in ever-growing collections of shell, Python or Tcl scripts or small C programs, each with its own argument parsing and I/O sections. Very often high-level code is duplicated to provide slightly different functionality. On the other side, writing a GUI is a time-consuming task, and adding new functionality requires time, which might deter experimentation. PypeS goes in the direction of providing a flexible framework for high-level code, both from the user's and from the developer's points of view. The user wants to get things done minimizing the work required and the amount of intermediate data generated. The coder wants to limit the amount of code, she/he has to cut and paste (and maintain), and to quickly add new functionality and make it interact with what she/he's ever written before.\n",
    "\n",
    "### Description\n",
    "\n",
    "PypeS is basically made up of two main classes:\n",
    "\n",
    "- PypeScript: the base class for every high-level script. It manages parsing, instantiates proper input/output methods for the script and keeps the script structure consistent\n",
    "- Pype: the class that orchestrates the interaction among PypeScripts. It enables one to pipe one PypeScript after another, and it takes care of connecting the right arguments from one script to the other. It can be called from the command line by issuing \n",
    "        pype pype-arguments \n",
    "or automatically instantiated from a pypescript. \n",
    "\n",
    "Each PypeScript is at the same time:\n",
    "\n",
    "- a script which can be called from the command line and piped to other scripts\n",
    "- a class which can be called from Python code (e.g. inside a tkinter GUI or JupyterNotebook) \n",
    "\n",
    "### Historic Methods of Interacting with Pypes\n",
    "\n",
    "- [vmtk Scripts Tutorial](http://www.vmtk.org/tutorials/ScriptsBasic.html)\n",
    "- [Basic PypeS tutorial](http://www.vmtk.org/tutorials/PypesBasic.html)\n",
    "\n",
    "### Using VMTK Within Interactive Pypes Sessions\n",
    "VMTK 2.0 provides seamless integration of vmtk pypes within the interactive Jupyter Notebook interpreter. By using the new `vmtk.run()` interface, the power of pypes has been extended, allowing for easy access and specification to vmtk data objects within an interactive python session. \n",
    "\n",
    "For those familiar with the pypes interface, there are no backwards incompatible API changes. \n",
    "\n",
    "To begin to use the new interface, simply `import vmtk`"
   ]
  },
  {
   "cell_type": "code",
   "execution_count": null,
   "metadata": {},
   "outputs": [],
   "source": [
    "import vmtk"
   ]
  },
  {
   "cell_type": "markdown",
   "metadata": {},
   "source": [
    "With this simple import, we have access to not only `vmtkscripts` but to a new method symbol which has been exported (the `run` method)."
   ]
  },
  {
   "cell_type": "code",
   "execution_count": null,
   "metadata": {},
   "outputs": [],
   "source": [
    "vmtk.__all__"
   ]
  },
  {
   "cell_type": "markdown",
   "metadata": {},
   "source": [
    "We can specify a pype by setting an argument string into the `vmtk.run` interface just as a normal pype would work. The notebook will display all the normal logging data, and any visualizations will appear in a seperate render window"
   ]
  },
  {
   "cell_type": "code",
   "execution_count": null,
   "metadata": {},
   "outputs": [],
   "source": [
    "imagePype = vmtk.run('vmtkimagereader -ifile ./aorta.mha --pipe vmtkimageviewer -windowlevel 0.0 500')"
   ]
  },
  {
   "cell_type": "markdown",
   "metadata": {},
   "source": [
    "![vmtk imagePype](./imageViewerPype.png)"
   ]
  },
  {
   "cell_type": "markdown",
   "metadata": {},
   "source": [
    "### Accessing Pype Members from vmtk.run()\n",
    "\n",
    "By setting the name `imagePype` to our vmtk.run method, we now have access to every input/output member for every script specified within the pype.\n",
    "\n",
    "If we wanted to access to vtkImageData which is used to store our image while it's in memory, we can simply assign it to:"
   ]
  },
  {
   "cell_type": "code",
   "execution_count": null,
   "metadata": {},
   "outputs": [],
   "source": [
    "aortaImage = imagePype.vmtkimagereader.OutputMembers.Image"
   ]
  },
  {
   "cell_type": "markdown",
   "metadata": {},
   "source": [
    "We can inspect the vtkImageData object assigned to the python variable by just printing it"
   ]
  },
  {
   "cell_type": "code",
   "execution_count": null,
   "metadata": {},
   "outputs": [],
   "source": [
    "print(aortaImage)"
   ]
  },
  {
   "cell_type": "markdown",
   "metadata": {},
   "source": [
    "likewise, we can access properties of the render window (even after it has closed out of processing)"
   ]
  },
  {
   "cell_type": "code",
   "execution_count": null,
   "metadata": {},
   "outputs": [],
   "source": [
    "windowLevel = imagePype.vmtkimageviewer.InputMembers.WindowLevel"
   ]
  },
  {
   "cell_type": "code",
   "execution_count": null,
   "metadata": {},
   "outputs": [],
   "source": [
    "windowLevel"
   ]
  },
  {
   "cell_type": "markdown",
   "metadata": {},
   "source": [
    "we can view the image in a new pype with the new vmtk.run interface. \n",
    "\n",
    "Just specify a variable name within `{curly braces}` of the input string, and the object will be seamlessly placed as in input into the new pype instance."
   ]
  },
  {
   "cell_type": "code",
   "execution_count": null,
   "metadata": {},
   "outputs": [],
   "source": [
    "imageVolumeViewer = vmtk.run('vmtkimagevolumeviewer -i {aortaImage} -preset CT-AAA2')"
   ]
  },
  {
   "cell_type": "markdown",
   "metadata": {},
   "source": [
    "![imageVolumeViewerPype](./imageVolumeViewer.png)"
   ]
  },
  {
   "cell_type": "markdown",
   "metadata": {},
   "source": [
    "### More Examples assigning variables to a pype"
   ]
  },
  {
   "cell_type": "code",
   "execution_count": null,
   "metadata": {},
   "outputs": [],
   "source": [
    "fileName = './aorta.mha'\n",
    "flip = [0, 1, 1]\n",
    "level = 700"
   ]
  },
  {
   "cell_type": "code",
   "execution_count": null,
   "metadata": {},
   "outputs": [],
   "source": [
    "surfaceExtractorPype = vmtk.run('vmtkimagereader -ifile {fileName} -flip {flip} --pipe vmtkmarchingcubes -l {level} --pipe vmtksurfaceviewer')"
   ]
  },
  {
   "cell_type": "markdown",
   "metadata": {},
   "source": [
    "![surfaceViewerPype](./surfaceViewerPype.png)"
   ]
  },
  {
   "cell_type": "markdown",
   "metadata": {},
   "source": [
    "Variables defined within a pype can be passed as arguments to another pype by simply enclosing them in `{curly braces}`"
   ]
  },
  {
   "cell_type": "code",
   "execution_count": null,
   "metadata": {},
   "outputs": [],
   "source": [
    "myargs = 'vmtkrenderer --pipe vmtksurfaceviewer -i {surfaceExtractorPype.vmtkmarchingcubes.OutputMembers.Surface} --pipe vmtkimageviewer -i {imagePype.vmtkimagereader.OutputMembers.Image}'"
   ]
  },
  {
   "cell_type": "code",
   "execution_count": null,
   "metadata": {},
   "outputs": [],
   "source": [
    "multipleRendererPype = vmtk.run(myargs)"
   ]
  },
  {
   "cell_type": "markdown",
   "metadata": {},
   "source": [
    "![multipleRendererPype](./multipleRendererPype.png)"
   ]
  },
  {
   "cell_type": "code",
   "execution_count": null,
   "metadata": {},
   "outputs": [],
   "source": []
  }
 ],
 "metadata": {
  "kernelspec": {
   "display_name": "Python 3",
   "language": "python",
   "name": "python3"
  },
  "language_info": {
   "codemirror_mode": {
    "name": "ipython",
    "version": 3
   },
   "file_extension": ".py",
   "mimetype": "text/x-python",
   "name": "python",
   "nbconvert_exporter": "python",
   "pygments_lexer": "ipython3",
   "version": "3.6.1"
  }
 },
 "nbformat": 4,
 "nbformat_minor": 2
}
