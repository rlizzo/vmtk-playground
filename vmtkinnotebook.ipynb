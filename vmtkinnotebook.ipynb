{
 "cells": [
  {
   "cell_type": "markdown",
   "metadata": {},
   "source": [
    "## The Vascular Modeling Toolkit"
   ]
  },
  {
   "cell_type": "markdown",
   "metadata": {},
   "source": [
    "VMTK 2.0 provides seamless integration of vmtk pypes within the interactive Jupyter Notebook interpreter. By using the new `vmtk.run()` interface, the power of pypes has been extended, allowing for easy access and specification to vmtk data objects within an interactive python session. \n",
    "\n",
    "For those familiar with the pypes interface, there are no backwards incompatible API changes. \n",
    "\n",
    "To begin to use the new interface, simply `import vmtk`"
   ]
  },
  {
   "cell_type": "code",
   "execution_count": 1,
   "metadata": {},
   "outputs": [],
   "source": [
    "import vmtk"
   ]
  },
  {
   "cell_type": "markdown",
   "metadata": {},
   "source": [
    "We can specify a pype by setting an argument string into the vmtk.run interface as normal. The notebook will display all the normal logging data, and any visualizations will appear in a seperate render window"
   ]
  },
  {
   "cell_type": "code",
   "execution_count": 2,
   "metadata": {},
   "outputs": [
    {
     "name": "stdout",
     "output_type": "stream",
     "text": [
      "\n",
      "Automatic piping vmtkimagereader\n",
      "Parsing options vmtkimagereader\n",
      "    InputFileName = ./aorta.mha\n",
      "Explicit piping vmtkimagereader\n",
      "Input vmtkimagereader members:\n",
      "    Id = 0\n",
      "    Disabled = 0\n",
      "    Format = \n",
      "    GuessFormat = 1\n",
      "    UseITKIO = 1\n",
      "    Image = 0\n",
      "    InputFileName = ./aorta.mha\n",
      "    InputFilePrefix = \n",
      "    InputFilePattern = \n",
      "    DataExtent = [-1, -1, -1, -1, -1, -1]\n",
      "    HeaderSize = 0\n",
      "    DataSpacing = [1.0, 1.0, 1.0]\n",
      "    DataOrigin = [0.0, 0.0, 0.0]\n",
      "    DesiredOrientation = native\n",
      "    DataByteOrder = littleendian\n",
      "    DataScalarType = float\n",
      "    FileDimensionality = 3\n",
      "    Flip = [0, 0, 0]\n",
      "    AutoOrientDICOMImage = 1\n",
      "    ImageOutputFileName = \n",
      "Executing vmtkimagereader ...\n",
      "Spacing 0.878906 0.878906 1.500090\n",
      "Origin 156.445000 24.609400 0.000000\n",
      "Dimensions 157 393 34\n",
      "Done executing vmtkimagereader.\n",
      "Output vmtkimagereader members:\n",
      "    Id = 0\n",
      "    Image = vtkImageData\n",
      "    RasToIjkMatrixCoefficients = [1.137778101412438, -0.0, 0.0, -177.99969507546882, -0.0, 1.137778101412438, -0.0, -28.000036408899245, 0.0, -0.0, 0.6666266690665227, -0.0, -0.0, 0.0, -0.0, 1.0]\n",
      "    XyzToRasMatrixCoefficients = [1.0, 0.0, 0.0, 0.0, 0.0, 1.0, 0.0, 0.0, 0.0, 0.0, 1.0, 0.0, 0.0, 0.0, 0.0, 1.0]\n",
      "\n",
      "Automatic piping vmtkimageviewer\n",
      "    Image = vmtkimagereader-0.Image\n",
      "Parsing options vmtkimageviewer\n",
      "Explicit piping vmtkimageviewer\n",
      "Input vmtkimageviewer members:\n",
      "    Id = 0\n",
      "    Disabled = 0\n",
      "    Image = vtkImageData\n",
      "    ImageInputFileName = \n",
      "    ArrayName = \n",
      "    vmtkRenderer = None\n",
      "    WindowLevel = [0.0, 0.0]\n",
      "    Display = 1\n",
      "    Margins = 0\n",
      "    TextureInterpolation = 1\n",
      "    ContinuousCursor = 0\n",
      "    ImageOutputFileName = \n",
      "Executing vmtkimageviewer ...\n",
      "Quit renderer\n",
      "Done executing vmtkimageviewer.\n",
      "Output vmtkimageviewer members:\n",
      "    Id = 0\n",
      "    Image = vtkImageData\n",
      "    PlaneWidgetX = vtkImagePlaneWidget\n",
      "    PlaneWidgetY = vtkImagePlaneWidget\n",
      "    PlaneWidgetZ = vtkImagePlaneWidget\n"
     ]
    }
   ],
   "source": [
    "imagePype = vmtk.run('vmtkimagereader -ifile ./aorta.mha --pipe vmtkimageviewer')"
   ]
  },
  {
   "cell_type": "markdown",
   "metadata": {},
   "source": [
    "By setting the name `imagePype` to our vmtk.run method, we now have access to every input/output member for every script specified within the pype.\n",
    "\n",
    "If we wanted to access to vtkImageData which is used to store our image while it's in memory, we can simply assign it to:"
   ]
  },
  {
   "cell_type": "code",
   "execution_count": 3,
   "metadata": {},
   "outputs": [],
   "source": [
    "aortaImage = imagePype.vmtkimagereader.OutputMembers.Image"
   ]
  },
  {
   "cell_type": "code",
   "execution_count": 4,
   "metadata": {},
   "outputs": [
    {
     "data": {
      "text/plain": [
       "(vtkCommonDataModelPython.vtkImageData)0x1217be348"
      ]
     },
     "execution_count": 4,
     "metadata": {},
     "output_type": "execute_result"
    }
   ],
   "source": [
    "aortaImage"
   ]
  },
  {
   "cell_type": "markdown",
   "metadata": {},
   "source": [
    "likewise, we can access properties of the render window (even after it has closed out of processing)"
   ]
  },
  {
   "cell_type": "code",
   "execution_count": 5,
   "metadata": {},
   "outputs": [],
   "source": [
    "windowLevel = imagePype.vmtkimageviewer.InputMembers.WindowLevel"
   ]
  },
  {
   "cell_type": "code",
   "execution_count": 6,
   "metadata": {},
   "outputs": [
    {
     "data": {
      "text/plain": [
       "[0.0, 0.0]"
      ]
     },
     "execution_count": 6,
     "metadata": {},
     "output_type": "execute_result"
    }
   ],
   "source": [
    "windowLevel"
   ]
  },
  {
   "cell_type": "markdown",
   "metadata": {},
   "source": [
    "we can view the image in a new pype with the new vmtk.run interface. \n",
    "\n",
    "Just specify a variable name within `{curly braces}` of the input string, and the object will be seamlessly placed as in input into the new pype instance."
   ]
  },
  {
   "cell_type": "code",
   "execution_count": 11,
   "metadata": {},
   "outputs": [
    {
     "name": "stdout",
     "output_type": "stream",
     "text": [
      "\n",
      "Automatic piping vmtkimagevolumeviewer\n",
      "Parsing options vmtkimagevolumeviewer\n",
      "    Image = vtkImageData\n",
      "    Preset = CT-MIP\n",
      "Explicit piping vmtkimagevolumeviewer\n",
      "Input vmtkimagevolumeviewer members:\n",
      "    Id = 0\n",
      "    Disabled = 0\n",
      "    Image = vtkImageData\n",
      "    ImageInputFileName = \n",
      "    ArrayName = \n",
      "    vmtkRenderer = None\n",
      "    Display = 1\n",
      "    Preset = CT-MIP\n",
      "    VolumeRenderingMethod = default\n",
      "    BoxOutline = 0\n",
      "    ImageOutputFileName = \n",
      "Executing vmtkimagevolumeviewer ...\n",
      "Quit renderer\n",
      "Done executing vmtkimagevolumeviewer.\n",
      "Output vmtkimagevolumeviewer members:\n",
      "    Id = 0\n",
      "    Image = vtkImageData\n",
      "    ColorTransferFunction = vtkColorTransferFunction\n",
      "    GradientOpacityTransferFunction = vtkPiecewiseFunction\n",
      "    OpacityTransferFunction = vtkPiecewiseFunction\n",
      "    InterpolationType = 1\n",
      "    Shade = 1\n",
      "    SpecularPower = 10.0\n",
      "    Specular = 0.2\n",
      "    Diffuse = 0.9\n",
      "    Ambient = 0.1\n"
     ]
    }
   ],
   "source": [
    "secondImageViewer = vmtk.run('vmtkimagevolumeviewer -i {aortaImage} -preset CT-MIP')"
   ]
  },
  {
   "cell_type": "code",
   "execution_count": null,
   "metadata": {},
   "outputs": [],
   "source": []
  },
  {
   "cell_type": "code",
   "execution_count": 2,
   "metadata": {},
   "outputs": [],
   "source": [
    "fileName = './aorta.mha'\n",
    "flip = [0, 1, 1]\n",
    "level = 700"
   ]
  },
  {
   "cell_type": "code",
   "execution_count": 4,
   "metadata": {},
   "outputs": [
    {
     "name": "stdout",
     "output_type": "stream",
     "text": [
      "\n",
      "Automatic piping vmtkimagereader\n",
      "Parsing options vmtkimagereader\n",
      "    InputFileName = ./aorta.mha\n",
      "    Flip = [0, 1, 1]\n",
      "Explicit piping vmtkimagereader\n",
      "Input vmtkimagereader members:\n",
      "    Id = 0\n",
      "    Disabled = 0\n",
      "    Format = \n",
      "    GuessFormat = 1\n",
      "    UseITKIO = 1\n",
      "    Image = 0\n",
      "    InputFileName = ./aorta.mha\n",
      "    InputFilePrefix = \n",
      "    InputFilePattern = \n",
      "    DataExtent = [-1, -1, -1, -1, -1, -1]\n",
      "    HeaderSize = 0\n",
      "    DataSpacing = [1.0, 1.0, 1.0]\n",
      "    DataOrigin = [0.0, 0.0, 0.0]\n",
      "    DesiredOrientation = native\n",
      "    DataByteOrder = littleendian\n",
      "    DataScalarType = float\n",
      "    FileDimensionality = 3\n",
      "    Flip = [0, 1, 1]\n",
      "    AutoOrientDICOMImage = 1\n",
      "    ImageOutputFileName = \n",
      "Executing vmtkimagereader ...\n",
      "Spacing 0.878906 0.878906 1.500090\n",
      "Origin 156.445000 24.609400 0.000000\n",
      "Dimensions 157 393 34\n",
      "Done executing vmtkimagereader.\n",
      "Output vmtkimagereader members:\n",
      "    Id = 0\n",
      "    Image = vtkImageData\n",
      "    RasToIjkMatrixCoefficients = [1.137778101412438, -0.0, 0.0, -177.99969507546882, -0.0, 1.137778101412438, -0.0, -28.000036408899245, 0.0, -0.0, 0.6666266690665227, -0.0, -0.0, 0.0, -0.0, 1.0]\n",
      "    XyzToRasMatrixCoefficients = [1.0, 0.0, 0.0, 0.0, 0.0, 1.0, 0.0, 0.0, 0.0, 0.0, 1.0, 0.0, 0.0, 0.0, 0.0, 1.0]\n",
      "\n",
      "Automatic piping vmtkmarchingcubes\n",
      "    Image = vmtkimagereader-0.Image\n",
      "Parsing options vmtkmarchingcubes\n",
      "    Level = 700\n",
      "Explicit piping vmtkmarchingcubes\n",
      "Input vmtkmarchingcubes members:\n",
      "    Id = 0\n",
      "    Disabled = 0\n",
      "    Image = vtkImageData\n",
      "    ImageInputFileName = \n",
      "    ArrayName = \n",
      "    Level = 700\n",
      "    Connectivity = 0\n",
      "    SurfaceOutputFileName = \n",
      "Executing vmtkmarchingcubes ...\n",
      "Done executing vmtkmarchingcubes.\n",
      "Output vmtkmarchingcubes members:\n",
      "    Id = 0\n",
      "    Surface = vtkPolyData\n",
      "\n",
      "Automatic piping vmtksurfaceviewer\n",
      "    Surface = vmtkmarchingcubes-0.Surface\n",
      "Parsing options vmtksurfaceviewer\n",
      "Explicit piping vmtksurfaceviewer\n",
      "Input vmtksurfaceviewer members:\n",
      "    Id = 0\n",
      "    Disabled = 0\n",
      "    Surface = vtkPolyData\n",
      "    SurfaceInputFileName = \n",
      "    vmtkRenderer = None\n",
      "    Display = 1\n",
      "    Representation = surface\n",
      "    Opacity = 1.0\n",
      "    ArrayName = \n",
      "    ScalarRange = [0.0, 0.0]\n",
      "    ColorMap = cooltowarm\n",
      "    NumberOfColors = 256\n",
      "    Legend = 0\n",
      "    FlatInterpolation = 0\n",
      "    DisplayCellData = 0\n",
      "    DisplayTag = False\n",
      "    RegionTagArrayName = RegionTagArray\n",
      "    Color = [-1.0, -1.0, -1.0]\n",
      "    LineWidth = 1\n",
      "    LegendTitle = \n",
      "    SurfaceOutputFileName = \n",
      "Executing vmtksurfaceviewer ...\n",
      "Quit renderer\n",
      "Done executing vmtksurfaceviewer.\n",
      "Output vmtksurfaceviewer members:\n",
      "    Id = 0\n",
      "    Surface = vtkPolyData\n",
      "    Actor = vtkActor\n"
     ]
    }
   ],
   "source": [
    "a = vmtk.run('vmtkimagereader -ifile {fileName} -flip {flip} --pipe vmtkmarchingcubes -l {level} --pipe vmtksurfaceviewer')"
   ]
  },
  {
   "cell_type": "code",
   "execution_count": 4,
   "metadata": {},
   "outputs": [],
   "source": [
    "myargs2 = 'vmtkcenterlines -i {a.vmtkmarchingcubes.OutputMembers.Surface} --pipe vmtkcenterlineviewer'"
   ]
  },
  {
   "cell_type": "code",
   "execution_count": 5,
   "metadata": {},
   "outputs": [],
   "source": [
    "myargs2 = 'vmtkrenderer --pipe vmtksurfaceviewer -i {a.vmtkmarchingcubes.OutputMembers.Surface} --pipe vmtkimageviewer -i {a.vmtkimagereader.OutputMembers.Image}'"
   ]
  },
  {
   "cell_type": "code",
   "execution_count": 6,
   "metadata": {},
   "outputs": [
    {
     "name": "stdout",
     "output_type": "stream",
     "text": [
      "\n",
      "Automatic piping vmtkrenderer\n",
      "Parsing options vmtkrenderer\n",
      "Explicit piping vmtkrenderer\n",
      "Input vmtkrenderer members:\n",
      "    Id = 0\n",
      "    Disabled = 0\n",
      "    WindowSize = [1200, 900]\n",
      "    WindowPosition = [50, 50]\n",
      "    PointSmoothing = 1\n",
      "    LineSmoothing = 1\n",
      "    PolygonSmoothing = 0\n",
      "    Annotations = 1\n",
      "    Background = [0.1, 0.1, 0.2]\n",
      "    ScreenshotMagnification = 4\n",
      "Executing vmtkrenderer ...\n",
      "Done executing vmtkrenderer.\n",
      "Output vmtkrenderer members:\n",
      "    Id = 0\n",
      "    vmtkRenderer = vmtkRenderer\n",
      "\n",
      "Automatic piping vmtksurfaceviewer\n",
      "    vmtkRenderer = vmtkrenderer-0.vmtkRenderer\n",
      "Parsing options vmtksurfaceviewer\n",
      "    Surface = vtkPolyData\n",
      "Explicit piping vmtksurfaceviewer\n",
      "Input vmtksurfaceviewer members:\n",
      "    Id = 0\n",
      "    Disabled = 0\n",
      "    Surface = vtkPolyData\n",
      "    SurfaceInputFileName = \n",
      "    vmtkRenderer = vmtkRenderer\n",
      "    Display = 1\n",
      "    Representation = surface\n",
      "    Opacity = 1.0\n",
      "    ArrayName = \n",
      "    ScalarRange = [0.0, 0.0]\n",
      "    ColorMap = cooltowarm\n",
      "    NumberOfColors = 256\n",
      "    Legend = 0\n",
      "    FlatInterpolation = 0\n",
      "    DisplayCellData = 0\n",
      "    DisplayTag = False\n",
      "    RegionTagArrayName = RegionTagArray\n",
      "    Color = [-1.0, -1.0, -1.0]\n",
      "    LineWidth = 1\n",
      "    LegendTitle = \n",
      "    SurfaceOutputFileName = \n",
      "Executing vmtksurfaceviewer ...\n",
      "Quit renderer\n",
      "Done executing vmtksurfaceviewer.\n",
      "Output vmtksurfaceviewer members:\n",
      "    Id = 0\n",
      "    Surface = vtkPolyData\n",
      "    Actor = vtkActor\n",
      "\n",
      "Automatic piping vmtkimageviewer\n",
      "    vmtkRenderer = vmtkrenderer-0.vmtkRenderer\n",
      "Parsing options vmtkimageviewer\n",
      "    Image = vtkImageData\n",
      "Explicit piping vmtkimageviewer\n",
      "Input vmtkimageviewer members:\n",
      "    Id = 0\n",
      "    Disabled = 0\n",
      "    Image = vtkImageData\n",
      "    ImageInputFileName = \n",
      "    ArrayName = \n",
      "    vmtkRenderer = vmtkRenderer\n",
      "    WindowLevel = [0.0, 0.0]\n",
      "    Display = 1\n",
      "    Margins = 0\n",
      "    TextureInterpolation = 1\n",
      "    ContinuousCursor = 0\n",
      "    ImageOutputFileName = \n",
      "Executing vmtkimageviewer ...\n",
      "Quit renderer\n",
      "Done executing vmtkimageviewer.\n",
      "Output vmtkimageviewer members:\n",
      "    Id = 0\n",
      "    Image = vtkImageData\n",
      "    PlaneWidgetX = vtkImagePlaneWidget\n",
      "    PlaneWidgetY = vtkImagePlaneWidget\n",
      "    PlaneWidgetZ = vtkImagePlaneWidget\n"
     ]
    }
   ],
   "source": [
    "b = vmtk.run(myargs2)"
   ]
  },
  {
   "cell_type": "code",
   "execution_count": 6,
   "metadata": {},
   "outputs": [
    {
     "data": {
      "text/plain": [
       "[50, 50]"
      ]
     },
     "execution_count": 6,
     "metadata": {},
     "output_type": "execute_result"
    }
   ],
   "source": [
    "b.vmtkrenderer.OutputMembers.vmtkRenderer.WindowPosition"
   ]
  },
  {
   "cell_type": "code",
   "execution_count": 6,
   "metadata": {},
   "outputs": [],
   "source": [
    "x = 5"
   ]
  },
  {
   "cell_type": "code",
   "execution_count": null,
   "metadata": {},
   "outputs": [],
   "source": [
    "b.vmtkcenterlines.OutputMembers."
   ]
  }
 ],
 "metadata": {
  "kernelspec": {
   "display_name": "Python 3",
   "language": "python",
   "name": "python3"
  },
  "language_info": {
   "codemirror_mode": {
    "name": "ipython",
    "version": 3
   },
   "file_extension": ".py",
   "mimetype": "text/x-python",
   "name": "python",
   "nbconvert_exporter": "python",
   "pygments_lexer": "ipython3",
   "version": "3.6.1"
  }
 },
 "nbformat": 4,
 "nbformat_minor": 2
}
