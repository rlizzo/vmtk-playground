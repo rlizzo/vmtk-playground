{
 "cells": [
  {
   "cell_type": "code",
   "execution_count": null,
   "metadata": {},
   "outputs": [],
   "source": [
    "import vtk\n",
    "from vtk.numpy_interface import dataset_adapter as dsa\n",
    "from vmtk import vmtkscripts\n",
    "import numpy as np\n",
    "\n",
    "import os"
   ]
  },
  {
   "cell_type": "code",
   "execution_count": null,
   "metadata": {},
   "outputs": [],
   "source": [
    "datadir = '/Users/rick/projects/vmtk/vmtk-test-data/input/'"
   ]
  },
  {
   "cell_type": "code",
   "execution_count": null,
   "metadata": {},
   "outputs": [],
   "source": [
    "centerlinereader = vmtkscripts.vmtkSurfaceReader()\n",
    "centerlinereader.InputFileName = os.path.join(datadir, 'aorta-centerline.vtp')\n",
    "centerlinereader.Execute()"
   ]
  },
  {
   "cell_type": "code",
   "execution_count": null,
   "metadata": {},
   "outputs": [],
   "source": [
    "attrib = vmtkscripts.vmtkCenterlineAttributes()\n",
    "attrib.Centerlines = centerlinereader.Surface\n",
    "attrib.Execute()"
   ]
  },
  {
   "cell_type": "code",
   "execution_count": null,
   "metadata": {},
   "outputs": [],
   "source": [
    "branchextractor = vmtkscripts.vmtkBranchExtractor()\n",
    "branchextractor.Centerlines = attrib.Centerlines\n",
    "branchextractor.RadiusArrayName = 'MaximumInscribedSphereRadius'\n",
    "branchextractor.Execute()"
   ]
  },
  {
   "cell_type": "code",
   "execution_count": null,
   "metadata": {},
   "outputs": [],
   "source": [
    "bifur = vmtkscripts.vmtkBifurcationReferenceSystems()\n",
    "bifur.Centerlines = branchextractor.Centerlines\n",
    "bifur.RadiusArrayName = 'MaximumInscribedSphereRadius'\n",
    "bifur.BlankingArrayName = 'Blanking'\n",
    "bifur.GroupIdsArrayName = 'GroupIds'\n",
    "bifur.Execute()"
   ]
  },
  {
   "cell_type": "code",
   "execution_count": null,
   "metadata": {},
   "outputs": [],
   "source": [
    "offset = vmtkscripts.vmtkCenterlineOffsetAttributes()\n",
    "offset.Centerlines = branchextractor.Centerlines\n",
    "offset.ReferenceSystems = bifur.ReferenceSystems\n",
    "offset.AbscissasArrayName = \"Abscissas\"\n",
    "offset.NormalsArrayName = \"ParallelTransportNormals\"\n",
    "offset.GroupIdsArrayName = \"GroupIds\"\n",
    "offset.CenterlineIdsArrayName = \"CenterlineIds\"\n",
    "offset.ReferenceSystemsNormalArrayName = \"Normal\"\n",
    "offset.OffsetAbscissasArrayName = \"OffsetAbscissas\"\n",
    "offset.OffsetNormalsArrayName = \"OffsetNormals\"\n",
    "offset.ReplaceAttributes = 0\n",
    "offset.Execute()"
   ]
  },
  {
   "cell_type": "code",
   "execution_count": null,
   "metadata": {},
   "outputs": [],
   "source": [
    "print(offset.Centerlines)"
   ]
  },
  {
   "cell_type": "code",
   "execution_count": null,
   "metadata": {},
   "outputs": [],
   "source": [
    "surfaceviewer = vmtkscripts.vmtkSurfaceViewer()\n",
    "surfaceviewer.Surface = branchclipper.Surface\n",
    "surfaceviewer.ArrayName = 'GroupIds'\n",
    "surfaceviewer.Execute()"
   ]
  },
  {
   "cell_type": "code",
   "execution_count": null,
   "metadata": {},
   "outputs": [],
   "source": [
    "centerlineviewer = vmtkscripts.vmtkCenterlineViewer()\n",
    "centerlineviewer.Centerlines = offset.Centerlines\n",
    "centerlineviewer.PointDataArrayName = 'Abscissas'\n",
    "centerlineviewer.Execute()"
   ]
  },
  {
   "cell_type": "code",
   "execution_count": null,
   "metadata": {},
   "outputs": [],
   "source": []
  }
 ],
 "metadata": {
  "kernelspec": {
   "display_name": "Python 3",
   "language": "python",
   "name": "python3"
  },
  "language_info": {
   "codemirror_mode": {
    "name": "ipython",
    "version": 3
   },
   "file_extension": ".py",
   "mimetype": "text/x-python",
   "name": "python",
   "nbconvert_exporter": "python",
   "pygments_lexer": "ipython3",
   "version": "3.6.1"
  }
 },
 "nbformat": 4,
 "nbformat_minor": 2
}
