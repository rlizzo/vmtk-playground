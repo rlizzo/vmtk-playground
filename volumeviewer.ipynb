{
 "cells": [
  {
   "cell_type": "code",
   "execution_count": 1,
   "metadata": {},
   "outputs": [],
   "source": [
    "import vtk\n",
    "from vmtk import vmtkscripts\n",
    "import os\n",
    "import sys"
   ]
  },
  {
   "cell_type": "code",
   "execution_count": 2,
   "metadata": {},
   "outputs": [],
   "source": [
    "import xml.etree.ElementTree as ET\n",
    "tree = ET.parse('vmtkimagevolumeviewerpresets.xml')\n",
    "root = tree.getroot()"
   ]
  },
  {
   "cell_type": "code",
   "execution_count": 3,
   "metadata": {},
   "outputs": [],
   "source": [
    "oList = []\n",
    "for item in root:\n",
    "    oList.append(item.attrib['name'])"
   ]
  },
  {
   "cell_type": "code",
   "execution_count": 4,
   "metadata": {},
   "outputs": [
    {
     "data": {
      "text/plain": [
       "['CT-AAA',\n",
       " 'CT-AAA2',\n",
       " 'CT-Bone',\n",
       " 'CT-Bones',\n",
       " 'CT-Cardiac',\n",
       " 'CT-Cardiac2',\n",
       " 'CT-Cardiac3',\n",
       " 'CT-Chest-Contrast-Enhanced',\n",
       " 'CT-Chest-Vessels',\n",
       " 'CT-Coronary-Arteries',\n",
       " 'CT-Coronary-Arteries-2',\n",
       " 'CT-Coronary-Arteries-3',\n",
       " 'CT-Cropped-Volume-Bone',\n",
       " 'CT-Fat',\n",
       " 'CT-Liver-Vasculature',\n",
       " 'CT-Lung',\n",
       " 'CT-MIP',\n",
       " 'CT-Muscle',\n",
       " 'CT-Pulmonary-Arteries',\n",
       " 'CT-Soft-Tissue',\n",
       " 'MR-Angio',\n",
       " 'MR-Default',\n",
       " 'MR-MIP',\n",
       " 'MR-T2-Brain',\n",
       " 'DTI-FA-Brain']"
      ]
     },
     "execution_count": 4,
     "metadata": {},
     "output_type": "execute_result"
    }
   ],
   "source": [
    "['CT-AAA','CT-AAA2','CT-Bone','CT-Bones','CT-Cardiac','CT-Cardiac2','CT-Cardiac3','CT-Chest-Contrast-Enhanced','CT-Chest-Vessels','CT-Coronary-Arteries',\n",
    " 'CT-Coronary-Arteries-2','CT-Coronary-Arteries-3','CT-Cropped-Volume-Bone','CT-Fat','CT-Liver-Vasculature','CT-Lung',\n",
    " 'CT-MIP','CT-Muscle','CT-Pulmonary-Arteries','CT-Soft-Tissue','MR-Angio','MR-Default','MR-MIP','MR-T2-Brain','DTI-FA-Brain']"
   ]
  },
  {
   "cell_type": "code",
   "execution_count": 37,
   "metadata": {},
   "outputs": [],
   "source": [
    "volumeProperties = root.findall('VolumeProperty[@name=\"CT-AAA\"]')"
   ]
  },
  {
   "cell_type": "code",
   "execution_count": 56,
   "metadata": {},
   "outputs": [
    {
     "data": {
      "text/plain": [
       "[24.0,\n",
       " -3024.0,\n",
       " 0.0,\n",
       " 0.0,\n",
       " 0.0,\n",
       " 143.556,\n",
       " 0.615686,\n",
       " 0.356863,\n",
       " 0.184314,\n",
       " 166.222,\n",
       " 0.882353,\n",
       " 0.603922,\n",
       " 0.290196,\n",
       " 214.389,\n",
       " 1.0,\n",
       " 1.0,\n",
       " 1.0,\n",
       " 419.736,\n",
       " 1.0,\n",
       " 0.937033,\n",
       " 0.954531,\n",
       " 3071.0,\n",
       " 0.827451,\n",
       " 0.658824,\n",
       " 1.0]"
      ]
     },
     "execution_count": 56,
     "metadata": {},
     "output_type": "execute_result"
    }
   ],
   "source": [
    "[float(i) for i in volumeProperties[0].attrib['colorTransfer'].split()]"
   ]
  },
  {
   "cell_type": "code",
   "execution_count": 50,
   "metadata": {},
   "outputs": [
    {
     "data": {
      "text/plain": [
       "{'ambient': '0.1',\n",
       " 'colorTransfer': '24 -3024 0 0 0 143.556 0.615686 0.356863 0.184314 166.222 0.882353 0.603922 0.290196 214.389 1 1 1 419.736 1 0.937033 0.954531 3071 0.827451 0.658824 1',\n",
       " 'diffuse': '0.9',\n",
       " 'effectiveRange': '143.556 419.736',\n",
       " 'gradientOpacity': '4 0 1 255 1',\n",
       " 'interpolation': '1',\n",
       " 'name': 'CT-AAA',\n",
       " 'scalarOpacity': '12 -3024 0 143.556 0 166.222 0.686275 214.389 0.696078 419.736 0.833333 3071 0.803922',\n",
       " 'shade': '1',\n",
       " 'specular': '0.2',\n",
       " 'specularPower': '10'}"
      ]
     },
     "execution_count": 50,
     "metadata": {},
     "output_type": "execute_result"
    }
   ],
   "source": [
    "volumeProperties[0].attrib"
   ]
  },
  {
   "cell_type": "code",
   "execution_count": null,
   "metadata": {},
   "outputs": [],
   "source": []
  }
 ],
 "metadata": {
  "kernelspec": {
   "display_name": "Python 3",
   "language": "python",
   "name": "python3"
  },
  "language_info": {
   "codemirror_mode": {
    "name": "ipython",
    "version": 3
   },
   "file_extension": ".py",
   "mimetype": "text/x-python",
   "name": "python",
   "nbconvert_exporter": "python",
   "pygments_lexer": "ipython3",
   "version": "3.6.1"
  }
 },
 "nbformat": 4,
 "nbformat_minor": 2
}
