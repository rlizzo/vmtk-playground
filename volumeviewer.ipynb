{
 "cells": [
  {
   "cell_type": "code",
   "execution_count": null,
   "metadata": {},
   "outputs": [],
   "source": [
    "import vtk\n",
    "from vmtk import vmtkscripts\n",
    "import os\n",
    "import sys"
   ]
  },
  {
   "cell_type": "code",
   "execution_count": null,
   "metadata": {},
   "outputs": [],
   "source": [
    "imgr = vmtkscripts.vmtkImageReader()\n",
    "imgr.InputFileName = os.path.join(os.getcwd(), 'aorta.mha')\n",
    "imgr.Execute()\n",
    "\n",
    "img = imgr.Image"
   ]
  },
  {
   "cell_type": "code",
   "execution_count": null,
   "metadata": {},
   "outputs": [],
   "source": [
    "presets = [\"CT-AAA\",\"CT-AAA2\",\"CT-Bone\",\"CT-Bones\",\n",
    "            \"CT-Cardiac\",\"CT-Cardiac2\",\"CT-Cardiac3\",\"CT-Chest-Contrast-Enhanced\",\n",
    "            \"CT-Chest-Vessels\",\"CT-Coronary-Arteries\",\"CT-Coronary-Arteries-2\",\n",
    "            \"CT-Coronary-Arteries-3\",\"CT-Cropped-Volume-Bone\",\"CT-Fat\",\"CT-Liver-Vasculature\",\n",
    "            \"CT-Lung\",\"CT-MIP\",\"CT-Muscle\",\"CT-Pulmonary-Arteries\",\"CT-Soft-Tissue\",\"MR-Angio\",\n",
    "            \"MR-Default\",\"MR-MIP\",\"MR-T2-Brain\",\"DTI-FA-Brain\"]"
   ]
  },
  {
   "cell_type": "code",
   "execution_count": null,
   "metadata": {},
   "outputs": [],
   "source": [
    "for i in presets:\n",
    "    print(f'(\\\"{i}\\\"),')"
   ]
  },
  {
   "cell_type": "code",
   "execution_count": null,
   "metadata": {},
   "outputs": [],
   "source": [
    "d = {}\n",
    "for i in presets:\n",
    "    a = vmtkscripts.vmtkImageVolumeViewer()\n",
    "    a.Preset = i\n",
    "    a.Image = img\n",
    "    a.Display = 0\n",
    "    a.Execute()\n",
    "    \n",
    "    colorTransferFunctionPointMin = a.ColorTransferFunction.GetRange()[0]\n",
    "    colorTransferFunctionPointMax = a.ColorTransferFunction.GetRange()[1]\n",
    "    colorTransferFunctionRangeWidth = colorTransferFunctionPointMax - colorTransferFunctionPointMin\n",
    "    colorTransferFunctionSamplePointSmall = colorTransferFunctionPointMin + (colorTransferFunctionRangeWidth * 0.1)\n",
    "    colorTransferFunctionSamplePointLarge = colorTransferFunctionPointMax - (colorTransferFunctionRangeWidth * 0.1)\n",
    "    \n",
    "    opacityTransferFunctionPointMin = a.OpacityTransferFunction.GetRange()[0]\n",
    "    opacityTransferFunctionPointMax = a.OpacityTransferFunction.GetRange()[1]\n",
    "    opacityTransferFunctionRangeWidth = opacityTransferFunctionPointMax - opacityTransferFunctionPointMin\n",
    "    opacityTransferFunctionSamplePointSmall = opacityTransferFunctionPointMin + (opacityTransferFunctionRangeWidth * 0.1)\n",
    "    opacityTransferFunctionSamplePointLarge = opacityTransferFunctionPointMax - (opacityTransferFunctionRangeWidth * 0.1)\n",
    "\n",
    "    gradientOpacityTransferFunctionPointMin = a.GradientOpacityTransferFunction.GetRange()[0]\n",
    "    gradientOpacityTransferFunctionPointMax = a.GradientOpacityTransferFunction.GetRange()[1]\n",
    "    gradientOpacityTransferFunctionRangeWidth = gradientOpacityTransferFunctionPointMax - gradientOpacityTransferFunctionPointMin\n",
    "    gradientOpacityTransferFunctionSamplePointSmall = gradientOpacityTransferFunctionPointMin + (gradientOpacityTransferFunctionRangeWidth * 0.1)\n",
    "    gradientOpacityTransferFunctionSamplePointLarge = gradientOpacityTransferFunctionPointMax - (gradientOpacityTransferFunctionRangeWidth * 0.1)  \n",
    "    \n",
    "    d[a.Preset] = {'ColorTransferFunctionPointMin': colorTransferFunctionPointMin,\n",
    "                   'ColorTransferFunctionPointMax': colorTransferFunctionPointMax,\n",
    "                   'ColorTransferFunctionRangeWidth': colorTransferFunctionRangeWidth,\n",
    "                   'ColorTransferFunctionSamplePointSmall': colorTransferFunctionSamplePointSmall,\n",
    "                   'ColorTransferFunctionSamplePointLarge': colorTransferFunctionSamplePointLarge,\n",
    "                   'ColorTransferFunctionColorAtSamplePointSmall': a.ColorTransferFunction.GetColor(colorTransferFunctionSamplePointSmall),\n",
    "                   'ColorTransferFunctionColorAtSamplePointLarge': a.ColorTransferFunction.GetColor(colorTransferFunctionSamplePointLarge),\n",
    "                   'OpacityTransferFunctionPointMin': opacityTransferFunctionPointMin,\n",
    "                   'OpacityTransferFunctionPointMax': opacityTransferFunctionPointMax,\n",
    "                   'OpacityTransferFunctionRangeWidth': opacityTransferFunctionRangeWidth,\n",
    "                   'OpacityTransferFunctionSamplePointSmall': opacityTransferFunctionSamplePointSmall,\n",
    "                   'OpacityTransferFunctionSamplePointLarge': opacityTransferFunctionSamplePointLarge,\n",
    "                   'OpacityTransferFunctionColorAtSamplePointSmall': a.OpacityTransferFunction.GetValue(opacityTransferFunctionSamplePointSmall),\n",
    "                   'OpacityTransferFunctionColorAtSamplePointLarge': a.OpacityTransferFunction.GetValue(opacityTransferFunctionSamplePointLarge),\n",
    "                   'GradientOpacityTransferFunctionPointMin': gradientOpacityTransferFunctionPointMin,\n",
    "                   'GradientOpacityTransferFunctionPointMax': gradientOpacityTransferFunctionPointMax,\n",
    "                   'GradientOpacityTransferFunctionRangeWidth': gradientOpacityTransferFunctionRangeWidth,\n",
    "                   'GradientOpacityTransferFunctionSamplePointSmall': gradientOpacityTransferFunctionSamplePointSmall,\n",
    "                   'GradientOpacityTransferFunctionSamplePointLarge': gradientOpacityTransferFunctionSamplePointLarge,\n",
    "                   'GradientOpacityTransferFunctionColorAtSamplePointSmall': a.GradientOpacityTransferFunction.GetValue(gradientOpacityTransferFunctionSamplePointSmall),\n",
    "                   'GradientOpacityTransferFunctionColorAtSamplePointLarge': a.GradientOpacityTransferFunction.GetValue(gradientOpacityTransferFunctionSamplePointLarge),\n",
    "                   'InterpolationType': a.InterpolationType,\n",
    "                   'Shade': a.Shade,\n",
    "                   'SpecularPower': a.SpecularPower,\n",
    "                   'Specular': a.Specular,\n",
    "                   'Diffuse': a.Diffuse,\n",
    "                   'Ambient': a.Ambient}\n"
   ]
  },
  {
   "cell_type": "code",
   "execution_count": null,
   "metadata": {},
   "outputs": [],
   "source": [
    "import json"
   ]
  },
  {
   "cell_type": "code",
   "execution_count": null,
   "metadata": {},
   "outputs": [],
   "source": [
    "with open(os.path.join(os.getcwd(), 'out.json'), 'w') as f:\n",
    "    json.dump(d, f)"
   ]
  },
  {
   "cell_type": "code",
   "execution_count": null,
   "metadata": {},
   "outputs": [],
   "source": [
    "with open(os.path.join(os.getcwd(), 'out.json'), 'r') as f:\n",
    "    js = json.load(f)"
   ]
  },
  {
   "cell_type": "code",
   "execution_count": null,
   "metadata": {},
   "outputs": [],
   "source": [
    "for k in js['CT-AAA']:\n",
    "    print(f'assert {k} == resultsDict[\\\"{k}\\\"]')"
   ]
  },
  {
   "cell_type": "code",
   "execution_count": null,
   "metadata": {},
   "outputs": [],
   "source": [
    "a.Opa"
   ]
  },
  {
   "cell_type": "code",
   "execution_count": null,
   "metadata": {},
   "outputs": [],
   "source": [
    "print(cf.GetValue(0.2))"
   ]
  },
  {
   "cell_type": "code",
   "execution_count": null,
   "metadata": {},
   "outputs": [],
   "source": [
    "from vtk.numpy_interface import dataset_adapter as dsa"
   ]
  },
  {
   "cell_type": "code",
   "execution_count": null,
   "metadata": {},
   "outputs": [],
   "source": [
    "cfn = dsa.WrapDataObject(cf)"
   ]
  },
  {
   "cell_type": "code",
   "execution_count": null,
   "metadata": {},
   "outputs": [],
   "source": [
    "print(cf.GetRange())"
   ]
  },
  {
   "cell_type": "code",
   "execution_count": null,
   "metadata": {},
   "outputs": [],
   "source": [
    "cf.GetColor(0.)"
   ]
  },
  {
   "cell_type": "code",
   "execution_count": null,
   "metadata": {},
   "outputs": [],
   "source": [
    "b = a.OutputMembers[4]"
   ]
  },
  {
   "cell_type": "code",
   "execution_count": null,
   "metadata": {},
   "outputs": [],
   "source": [
    "b.Member"
   ]
  },
  {
   "cell_type": "code",
   "execution_count": null,
   "metadata": {},
   "outputs": [],
   "source": [
    "a = vmtkscripts.vmtkImageVolumeViewer()\n",
    "a.Preset = 'CT-AAA'\n",
    "a.Image = img\n",
    "a.Disabled = 1\n",
    "a.Execute()"
   ]
  },
  {
   "cell_type": "code",
   "execution_count": null,
   "metadata": {},
   "outputs": [],
   "source": [
    "a.O"
   ]
  },
  {
   "cell_type": "code",
   "execution_count": null,
   "metadata": {},
   "outputs": [],
   "source": [
    "a.GetUsageString()"
   ]
  },
  {
   "cell_type": "code",
   "execution_count": null,
   "metadata": {},
   "outputs": [],
   "source": [
    "import xml.etree.ElementTree as ET\n",
    "tree = ET.parse('vmtkimagevolumeviewerpresets.xml')\n",
    "root = tree.getroot()"
   ]
  },
  {
   "cell_type": "code",
   "execution_count": null,
   "metadata": {},
   "outputs": [],
   "source": [
    "oList = []\n",
    "for item in root:\n",
    "    oList.append(item.attrib['name'])"
   ]
  },
  {
   "cell_type": "code",
   "execution_count": null,
   "metadata": {},
   "outputs": [],
   "source": [
    "['CT-AAA','CT-AAA2','CT-Bone','CT-Bones','CT-Cardiac','CT-Cardiac2','CT-Cardiac3','CT-Chest-Contrast-Enhanced','CT-Chest-Vessels','CT-Coronary-Arteries',\n",
    " 'CT-Coronary-Arteries-2','CT-Coronary-Arteries-3','CT-Cropped-Volume-Bone','CT-Fat','CT-Liver-Vasculature','CT-Lung',\n",
    " 'CT-MIP','CT-Muscle','CT-Pulmonary-Arteries','CT-Soft-Tissue','MR-Angio','MR-Default','MR-MIP','MR-T2-Brain','DTI-FA-Brain']"
   ]
  },
  {
   "cell_type": "code",
   "execution_count": null,
   "metadata": {},
   "outputs": [],
   "source": [
    "volumeProperties = root.findall('VolumeProperty[@name=\"CT-AAA\"]')"
   ]
  },
  {
   "cell_type": "code",
   "execution_count": null,
   "metadata": {},
   "outputs": [],
   "source": [
    "[float(i) for i in volumeProperties[0].attrib['colorTransfer'].split()]"
   ]
  },
  {
   "cell_type": "code",
   "execution_count": null,
   "metadata": {},
   "outputs": [],
   "source": [
    "volumeProperties[0].attrib"
   ]
  },
  {
   "cell_type": "code",
   "execution_count": null,
   "metadata": {},
   "outputs": [],
   "source": []
  }
 ],
 "metadata": {
  "kernelspec": {
   "display_name": "Python 3",
   "language": "python",
   "name": "python3"
  },
  "language_info": {
   "codemirror_mode": {
    "name": "ipython",
    "version": 3
   },
   "file_extension": ".py",
   "mimetype": "text/x-python",
   "name": "python",
   "nbconvert_exporter": "python",
   "pygments_lexer": "ipython3",
   "version": "3.6.1"
  }
 },
 "nbformat": 4,
 "nbformat_minor": 2
}
