{
 "cells": [
  {
   "cell_type": "code",
   "execution_count": 20,
   "metadata": {},
   "outputs": [],
   "source": [
    "import vtk\n",
    "from vtk.numpy_interface import dataset_adapter as dsa\n",
    "from vmtk import vmtkscripts\n",
    "import numpy as np\n",
    "from itertools import repeat"
   ]
  },
  {
   "cell_type": "code",
   "execution_count": 2,
   "metadata": {},
   "outputs": [
    {
     "name": "stdout",
     "output_type": "stream",
     "text": [
      "Reading VTK XML surface file.\n"
     ]
    }
   ],
   "source": [
    "surfacereader = vmtkscripts.vmtkSurfaceReader()\n",
    "surfacereader.InputFileName = \"/Users/rick/projects/vmtk/vmtk-test-data/input/aorta-surface.vtp\"\n",
    "surfacereader.Execute()"
   ]
  },
  {
   "cell_type": "code",
   "execution_count": 3,
   "metadata": {},
   "outputs": [
    {
     "name": "stdout",
     "output_type": "stream",
     "text": [
      "Capping surface\n",
      "Remeshing surface\n",
      "Computing sizing function\n",
      "Converting surface to mesh\n",
      "Generating volume mesh\n"
     ]
    }
   ],
   "source": [
    "meshgen = vmtkscripts.vmtkMeshGenerator()\n",
    "meshgen.Surface = surfacereader.Surface\n",
    "meshgen.Execute()"
   ]
  },
  {
   "cell_type": "code",
   "execution_count": 4,
   "metadata": {},
   "outputs": [],
   "source": [
    "mesh = meshgen.Mesh"
   ]
  },
  {
   "cell_type": "code",
   "execution_count": 5,
   "metadata": {},
   "outputs": [],
   "source": [
    "class vividict(dict):\n",
    "    def __missing__(self, key):\n",
    "        value = self[key] = type(self)()\n",
    "        return value"
   ]
  },
  {
   "cell_type": "code",
   "execution_count": 6,
   "metadata": {},
   "outputs": [],
   "source": [
    "ArrayDict = vividict()"
   ]
  },
  {
   "cell_type": "code",
   "execution_count": 7,
   "metadata": {},
   "outputs": [
    {
     "name": "stdout",
     "output_type": "stream",
     "text": [
      "wrapping vtkPolyData object\n",
      "converting cell data: \n",
      "CellEntityIds\n",
      "converting points\n",
      "converting point data: \n",
      "converting cell connectivity list\n"
     ]
    }
   ],
   "source": [
    "print('wrapping vtkPolyData object')\n",
    "clWrapper = dsa.WrapDataObject(mesh)\n",
    "\n",
    "print('converting cell data: ')\n",
    "for cellKey in clWrapper.CellData.keys():\n",
    "    print(cellKey)\n",
    "    ArrayDict['CellData'][cellKey] = np.array(clWrapper.CellData.GetArray(cellKey))\n",
    "\n",
    "print('converting points')\n",
    "ArrayDict['Points'] = np.array(clWrapper.Points)\n",
    "\n",
    "print('converting point data: ')\n",
    "if len(clWrapper.PointData.keys()) == 0:\n",
    "    ArrayDict['PointData'] = None\n",
    "else:\n",
    "    for pointKey in clWrapper.PointData.keys():\n",
    "        print(pointKey)\n",
    "        ArrayDict['PointData'][pointKey] = np.array(clWrapper.PointData.GetArray(pointKey))\n",
    "\n",
    "print('converting cell connectivity list')\n",
    "cellPointIdsList = []\n",
    "numberOfCells = clWrapper.VTKObject.GetNumberOfCells()\n",
    "for cellId in range(numberOfCells):\n",
    "    cell = clWrapper.VTKObject.GetCell(cellId)\n",
    "    numberOfPointsPerCell = cell.GetNumberOfPoints()\n",
    "    cellArray = np.zeros(shape=numberOfPointsPerCell, dtype=np.int32)\n",
    "    for point in range(numberOfPointsPerCell):\n",
    "        cellArray[point] = cell.GetPointId(point)\n",
    "    cellPointIdsList.append(cellArray)\n",
    "\n",
    "ArrayDict['CellData']['CellPointIds'] = cellPointIdsList"
   ]
  },
  {
   "cell_type": "code",
   "execution_count": 23,
   "metadata": {},
   "outputs": [
    {
     "name": "stdout",
     "output_type": "stream",
     "text": [
      "converting points\n",
      "converting cell data\n"
     ]
    },
    {
     "ename": "TypeError",
     "evalue": "arguments do not match any overloaded methods",
     "output_type": "error",
     "traceback": [
      "\u001b[0;31m---------------------------------------------------------------------------\u001b[0m",
      "\u001b[0;31mTypeError\u001b[0m                                 Traceback (most recent call last)",
      "\u001b[0;32m<ipython-input-23-c188084af423>\u001b[0m in \u001b[0;36m<module>\u001b[0;34m()\u001b[0m\n\u001b[1;32m     56\u001b[0m                 \u001b[0mcellDataTypes\u001b[0m\u001b[0;34m.\u001b[0m\u001b[0mappend\u001b[0m\u001b[0;34m(\u001b[0m\u001b[0mint\u001b[0m\u001b[0;34m)\u001b[0m\u001b[0;34m\u001b[0m\u001b[0m\n\u001b[1;32m     57\u001b[0m \u001b[0;34m\u001b[0m\u001b[0m\n\u001b[0;32m---> 58\u001b[0;31m         \u001b[0mgridData\u001b[0m\u001b[0;34m.\u001b[0m\u001b[0mSetCells\u001b[0m\u001b[0;34m(\u001b[0m\u001b[0mcellDataTypes\u001b[0m\u001b[0;34m,\u001b[0m \u001b[0mcellDataArray\u001b[0m\u001b[0;34m)\u001b[0m\u001b[0;34m\u001b[0m\u001b[0m\n\u001b[0m\u001b[1;32m     59\u001b[0m \u001b[0;34m\u001b[0m\u001b[0m\n\u001b[1;32m     60\u001b[0m     \u001b[0;32melse\u001b[0m\u001b[0;34m:\u001b[0m\u001b[0;34m\u001b[0m\u001b[0m\n",
      "\u001b[0;31mTypeError\u001b[0m: arguments do not match any overloaded methods"
     ]
    }
   ],
   "source": [
    "gridData = vtk.vtkUnstructuredGrid()\n",
    "\n",
    "print('converting points')\n",
    "points = vtk.vtkPoints()\n",
    "for xyzPoint in ArrayDict['Points']:\n",
    "    points.InsertNextPoint(xyzPoint)\n",
    "\n",
    "gridData.SetPoints(points)\n",
    "    \n",
    "if ArrayDict['PointData']:\n",
    "    print('converting point data')\n",
    "    for pointKey in ArrayDict['PointData'].keys():\n",
    "\n",
    "        if np.issubdtype(ArrayDict['PointData'][pointKey].dtype, float):\n",
    "            pointDataArray = vtk.vtkFloatArray()\n",
    "        else:\n",
    "            for checkDt in [int, np.uint8, np.uint16, np.uint32, np.uint64]:\n",
    "                if np.issubdtype(ArrayDict['PointData'][pointKey].dtype, checkDt):\n",
    "                    pointDataArray = vtk.vtkIntArray()\n",
    "                    break\n",
    "                else:\n",
    "                    continue\n",
    "\n",
    "        try:\n",
    "            pointDataComponents = ArrayDict['PointData'][pointKey].shape[1]\n",
    "        except IndexError:\n",
    "            pointDataComponents = 1\n",
    "\n",
    "        if pointDataArray:\n",
    "            pointDataArray.SetNumberOfComponents(pointDataComponents)\n",
    "            pointDataArray.SetName(pointKey)\n",
    "\n",
    "            if pointDataComponents == 1:\n",
    "                pointDataArray.SetNumberOfValues(ArrayDict['PointData'][pointKey].size)\n",
    "                for index, pointData in enumerate(ArrayDict['PointData'][pointKey]):\n",
    "                    pointDataArray.SetValue(index, pointData)\n",
    "                gridData.GetPointData().SetActiveScalars(pointKey)\n",
    "                gridData.GetPointData().SetScalars(pointDataArray)\n",
    "            else:\n",
    "                for pointData in ArrayDict['PointData'][pointKey]:\n",
    "                    pointDataArray.InsertNextTuple(pointData)\n",
    "                gridData.GetPointData().SetActiveVectors(pointKey)\n",
    "                gridData.GetPointData().SetVectors(pointDataArray)\n",
    "\n",
    "print('converting cell data')\n",
    "for cellKey in ArrayDict['CellData'].keys():\n",
    "\n",
    "    if cellKey == 'CellPointIds':\n",
    "        cellDataArray = vtk.vtkCellArray()\n",
    "        cellDataTypes = []\n",
    "        for cellId in ArrayDict['CellData']['CellPointIds']:\n",
    "            numberOfCellPoints = cellId.size\n",
    "            cellDataArray.InsertNextCell(numberOfCellPoints)\n",
    "            for cellPoint in cellId:\n",
    "                cellDataArray.InsertCellPoint(cellPoint)\n",
    "                cellDataTypes.append(int)\n",
    "\n",
    "        gridData.SetCells(cellDataTypes, cellDataArray)\n",
    "\n",
    "    else:\n",
    "\n",
    "        if np.issubdtype(ArrayDict['CellData'][cellKey].dtype, float):\n",
    "            cellDataArray = vtk.vtkFloatArray()\n",
    "        if np.issubdtype(ArrayDict['CellData'][cellKey].dtype, int):\n",
    "            cellDataArray = vtk.vtkIntArray()\n",
    "\n",
    "        try:\n",
    "            cellDataComponents = ArrayDict['CellData'][cellKey].shape[1]\n",
    "        except IndexError:\n",
    "            cellDataComponents = 1\n",
    "\n",
    "        cellDataArray.SetNumberOfComponents(cellDataComponents)\n",
    "        cellDataArray.SetName(cellKey)\n",
    "\n",
    "        if cellDataComponents == 1:\n",
    "            cellDataArray.SetNumberOfValues(ArrayDict['CellData'][cellKey].size)\n",
    "            for index, cellData in enumerate(ArrayDict['CellData'][cellKey]):\n",
    "                cellDataArray.SetValue(index, cellData)\n",
    "            gridData.GetCellData().SetActiveScalars(cellKey)\n",
    "            gridData.GetCellData().SetScalars(cellDataArray)\n",
    "\n",
    "        else:\n",
    "            for cellData in self.ArrayDict['CellData'][cellKey]:\n",
    "                pointDataArray.InsertNextTuple(cellData)\n",
    "            gridData.GetCellData().SetActiveVectors(cellKey)\n",
    "            gridData.GetCellData().SetVectors(cellDataArray)\n"
   ]
  },
  {
   "cell_type": "code",
   "execution_count": 4,
   "metadata": {},
   "outputs": [
    {
     "name": "stdout",
     "output_type": "stream",
     "text": [
      "Quit renderer\n"
     ]
    }
   ],
   "source": [
    "meshclipper = vmtkscripts.vmtkMeshClipper()\n",
    "meshclipper.Mesh = meshgen.Mesh\n",
    "meshclipper.Execute()\n"
   ]
  },
  {
   "cell_type": "code",
   "execution_count": 5,
   "metadata": {},
   "outputs": [
    {
     "name": "stdout",
     "output_type": "stream",
     "text": [
      "Quit renderer\n"
     ]
    }
   ],
   "source": [
    "viewer = vmtkscripts.vmtkMeshViewer()\n",
    "viewer.Mesh = meshclipper.Mesh\n",
    "viewer.Execute()"
   ]
  },
  {
   "cell_type": "code",
   "execution_count": null,
   "metadata": {},
   "outputs": [],
   "source": []
  }
 ],
 "metadata": {
  "kernelspec": {
   "display_name": "Python 3",
   "language": "python",
   "name": "python3"
  },
  "language_info": {
   "codemirror_mode": {
    "name": "ipython",
    "version": 3
   },
   "file_extension": ".py",
   "mimetype": "text/x-python",
   "name": "python",
   "nbconvert_exporter": "python",
   "pygments_lexer": "ipython3",
   "version": "3.6.1"
  }
 },
 "nbformat": 4,
 "nbformat_minor": 2
}
