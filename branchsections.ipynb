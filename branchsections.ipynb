{
 "cells": [
  {
   "cell_type": "code",
   "execution_count": 1,
   "metadata": {},
   "outputs": [],
   "source": [
    "import vtk\n",
    "from vtk.numpy_interface import dataset_adapter as dsa\n",
    "from vmtk import vmtkscripts\n",
    "import numpy as np\n",
    "\n",
    "import os"
   ]
  },
  {
   "cell_type": "code",
   "execution_count": 2,
   "metadata": {},
   "outputs": [],
   "source": [
    "datadir = '/Users/rick/projects/vmtk/vmtk-test-data/input/'"
   ]
  },
  {
   "cell_type": "code",
   "execution_count": 3,
   "metadata": {},
   "outputs": [
    {
     "name": "stdout",
     "output_type": "stream",
     "text": [
      "Reading VTK XML surface file.\n"
     ]
    }
   ],
   "source": [
    "centerlinereader = vmtkscripts.vmtkSurfaceReader()\n",
    "centerlinereader.InputFileName = os.path.join(datadir, 'aorta-centerline-branches.vtp')\n",
    "centerlinereader.Execute()"
   ]
  },
  {
   "cell_type": "code",
   "execution_count": 4,
   "metadata": {},
   "outputs": [
    {
     "name": "stdout",
     "output_type": "stream",
     "text": [
      "Reading VTK XML surface file.\n"
     ]
    }
   ],
   "source": [
    "surfacereader = vmtkscripts.vmtkSurfaceReader()\n",
    "surfacereader.InputFileName = os.path.join(datadir, 'aorta-surface-branch-split.vtp')\n",
    "surfacereader.Execute()"
   ]
  },
  {
   "cell_type": "code",
   "execution_count": 7,
   "metadata": {},
   "outputs": [
    {
     "name": "stdout",
     "output_type": "stream",
     "text": [
      "done with spheres: 1, reverse: 0\n",
      "done with spheres: 2, reverse: 0\n"
     ]
    }
   ],
   "source": [
    "numSpheres = [1, 2]\n",
    "reverseDirection = [0]\n",
    "branches = []\n",
    "\n",
    "for numberSpheres in numSpheres:\n",
    "    for reverseIdx in reverseDirection:\n",
    "                         \n",
    "        sections = vmtkscripts.vmtkBranchSections()\n",
    "        sections.Surface = surfacereader.Surface\n",
    "        sections.Centerlines = centerlinereader.Surface\n",
    "        sections.NumberOfDistanceSpheres = numberSpheres\n",
    "        sections.ReverseDirection = reverseIdx\n",
    "        sections.RadiusArrayName = 'MaximumInscribedSphereRadius'\n",
    "        sections.GroupIdsArrayName = 'GroupIds'\n",
    "        sections.CenterlineIdsArrayName = 'CenterlineIds'\n",
    "        sections.TractIdsArrayName = 'TractIds'\n",
    "        sections.BlankingArrayName = 'Blanking'\n",
    "\n",
    "        sections.Execute()\n",
    "        \n",
    "        print(f'done with spheres: {numberSpheres}, reverse: {reverseIdx}')\n",
    "        \n",
    "        branches.append(sections.BranchSections)"
   ]
  },
  {
   "cell_type": "code",
   "execution_count": 16,
   "metadata": {},
   "outputs": [],
   "source": [
    "wp = dsa.WrapDataObject(branches[1])"
   ]
  },
  {
   "cell_type": "code",
   "execution_count": 17,
   "metadata": {},
   "outputs": [
    {
     "data": {
      "text/plain": [
       "[]"
      ]
     },
     "execution_count": 17,
     "metadata": {},
     "output_type": "execute_result"
    }
   ],
   "source": [
    "wp.PointData.keys()"
   ]
  },
  {
   "cell_type": "code",
   "execution_count": 18,
   "metadata": {},
   "outputs": [],
   "source": [
    "cellDataKeys = ['BranchSectionGroupIds',\n",
    "                 'BranchSectionArea',\n",
    "                 'BranchSectionMinSize',\n",
    "                 'BranchSectionMaxSize',\n",
    "                 'BranchSectionShape',\n",
    "                 'BranchSectionClosed',\n",
    "                 'BranchSectionDistanceSpheres']"
   ]
  },
  {
   "cell_type": "code",
   "execution_count": 19,
   "metadata": {},
   "outputs": [],
   "source": [
    "objectCellDataKeys = wp.CellData.keys()\n",
    "for cellKey in cellDataKeys:\n",
    "    assert cellKey in objectCellDataKeys\n",
    "    objectCellDataKeys.remove(cellKey)\n",
    "    \n",
    "assert len(objectCellDataKeys) == 0"
   ]
  },
  {
   "cell_type": "code",
   "execution_count": 20,
   "metadata": {},
   "outputs": [],
   "source": [
    "assert len(wp.PointData.keys()) == 0"
   ]
  },
  {
   "cell_type": "code",
   "execution_count": 21,
   "metadata": {},
   "outputs": [
    {
     "name": "stdout",
     "output_type": "stream",
     "text": [
      "BranchSectionGroupIds \n",
      " [0 0 0 2 2 2 2 2 3 3 3 3 3]\n",
      "BranchSectionArea \n",
      " [ 195.53117732  186.21267186  177.20153242   85.82336158   63.50445732\n",
      "   62.22208797   60.78477703   63.08210028   99.06819265   64.12766266\n",
      "   67.13289619   59.98268905   58.6038296 ]\n",
      "BranchSectionMinSize \n",
      " [ 15.25387687  14.66768231  14.6356421   10.89010723   8.86926931\n",
      "   8.56866816   8.58205574   8.73891524  11.33372646   8.91067727\n",
      "   8.87761983   8.53398992   8.73934951]\n",
      "BranchSectionMaxSize \n",
      " [ 17.08821628  16.22629607  16.01361226  11.69644525   9.35342472\n",
      "   9.21275981   9.04795408   9.37937275  12.45697059   9.27120319\n",
      "   9.83837421   9.13391134   8.86614888]\n",
      "BranchSectionShape \n",
      " [ 0.89265472  0.90394519  0.91395007  0.93106127  0.94823763  0.930087\n",
      "  0.94850788  0.93171638  0.90983007  0.96111336  0.90234622  0.93431933\n",
      "  0.98569848]\n",
      "BranchSectionClosed \n",
      " [1 1 1 0 1 1 1 1 0 1 1 1 1]\n",
      "BranchSectionDistanceSpheres \n",
      " [0 2 4 0 2 4 6 8 0 2 4 6 8]\n"
     ]
    }
   ],
   "source": [
    "for key in cellDataKeys:\n",
    "    print(f'{key} \\n {wp.CellData.GetArray(key)}')"
   ]
  },
  {
   "cell_type": "code",
   "execution_count": 22,
   "metadata": {},
   "outputs": [
    {
     "data": {
      "text/plain": [
       "(1111, 3)"
      ]
     },
     "execution_count": 22,
     "metadata": {},
     "output_type": "execute_result"
    }
   ],
   "source": [
    "wp.Points.shape"
   ]
  },
  {
   "cell_type": "code",
   "execution_count": 15,
   "metadata": {},
   "outputs": [],
   "source": [
    "assert wp.Points.shape == (2065, 3)"
   ]
  },
  {
   "cell_type": "markdown",
   "metadata": {},
   "source": [
    "### Number of Cells"
   ]
  },
  {
   "cell_type": "code",
   "execution_count": 25,
   "metadata": {},
   "outputs": [
    {
     "name": "stdout",
     "output_type": "stream",
     "text": [
      "pytest.mark.parametrize(\"expectedValue,paramid\",[\n",
      "    (24, 0),\n",
      "    (13, 1),\n",
      "])\n"
     ]
    }
   ],
   "source": [
    "print(f'pytest.mark.parametrize(\"expectedValue,paramid\",[')\n",
    "for idx, branch in enumerate(branches):\n",
    "    print(f'    ({branch.GetNumberOfCells()}, {idx}),')\n",
    "print('])')"
   ]
  },
  {
   "cell_type": "markdown",
   "metadata": {},
   "source": [
    "### start indices"
   ]
  },
  {
   "cell_type": "code",
   "execution_count": 30,
   "metadata": {},
   "outputs": [
    {
     "name": "stdout",
     "output_type": "stream",
     "text": [
      "@pytest.mark.parametrize(\"expectedValue,paramid\",[\n",
      "    (0, 0),\n",
      "    (129, 1),\n",
      "    (246, 2),\n",
      "    (369, 3),\n",
      "    (491, 4),\n",
      "    (610, 5),\n",
      "    (712, 6),\n",
      "    (784, 7),\n",
      "    (864, 8),\n",
      "    (938, 9),\n",
      "    (1012, 10),\n",
      "    (1084, 11),\n",
      "    (1157, 12),\n",
      "    (1227, 13),\n",
      "    (1294, 14),\n",
      "    (1362, 15),\n",
      "    (1440, 16),\n",
      "    (1530, 17),\n",
      "    (1604, 18),\n",
      "    (1685, 19),\n",
      "    (1760, 20),\n",
      "    (1838, 21),\n",
      "    (1916, 22),\n",
      "    (1986, 23),\n",
      "])\n",
      "@pytest.mark.parametrize(\"expectedValue,paramid\",[\n",
      "    (0, 0),\n",
      "    (129, 1),\n",
      "    (252, 2),\n",
      "    (371, 3),\n",
      "    (443, 4),\n",
      "    (517, 5),\n",
      "    (589, 6),\n",
      "    (659, 7),\n",
      "    (727, 8),\n",
      "    (805, 9),\n",
      "    (879, 10),\n",
      "    (954, 11),\n",
      "    (1032, 12),\n",
      "])\n"
     ]
    }
   ],
   "source": [
    "for idx, branch in enumerate(branches):\n",
    "    numCells = branch.GetNumberOfCells()\n",
    "    print(f'@pytest.mark.parametrize(\"expectedValue,paramid\",[')\n",
    "    for idc in range(numCells):\n",
    "        bcx = branch.GetCell(idc)\n",
    "        pointIdStart = bcx.GetPointId(0)\n",
    "        print(f'    ({pointIdStart}, {idc}),')\n",
    "    print('])')"
   ]
  },
  {
   "cell_type": "markdown",
   "metadata": {},
   "source": [
    "### end indices"
   ]
  },
  {
   "cell_type": "code",
   "execution_count": 31,
   "metadata": {},
   "outputs": [
    {
     "name": "stdout",
     "output_type": "stream",
     "text": [
      "@pytest.mark.parametrize(\"expectedValue,numberofpoints,paramid\",[\n",
      "    (128, 129, 0),\n",
      "    (245, 117, 1),\n",
      "    (368, 123, 2),\n",
      "    (490, 122, 3),\n",
      "    (609, 119, 4),\n",
      "    (711, 102, 5),\n",
      "    (783, 72, 6),\n",
      "    (863, 80, 7),\n",
      "    (937, 74, 8),\n",
      "    (1011, 74, 9),\n",
      "    (1083, 72, 10),\n",
      "    (1156, 73, 11),\n",
      "    (1226, 70, 12),\n",
      "    (1293, 67, 13),\n",
      "    (1361, 68, 14),\n",
      "    (1439, 78, 15),\n",
      "    (1529, 90, 16),\n",
      "    (1603, 74, 17),\n",
      "    (1684, 81, 18),\n",
      "    (1759, 75, 19),\n",
      "    (1837, 78, 20),\n",
      "    (1915, 78, 21),\n",
      "    (1985, 70, 22),\n",
      "    (2064, 79, 23),\n",
      "])\n",
      "@pytest.mark.parametrize(\"expectedValue,numberofpoints,paramid\",[\n",
      "    (128, 129, 0),\n",
      "    (251, 123, 1),\n",
      "    (370, 119, 2),\n",
      "    (442, 72, 3),\n",
      "    (516, 74, 4),\n",
      "    (588, 72, 5),\n",
      "    (658, 70, 6),\n",
      "    (726, 68, 7),\n",
      "    (804, 78, 8),\n",
      "    (878, 74, 9),\n",
      "    (953, 75, 10),\n",
      "    (1031, 78, 11),\n",
      "    (1110, 79, 12),\n",
      "])\n"
     ]
    }
   ],
   "source": [
    "for idx, branch in enumerate(branches):\n",
    "    numCells = branch.GetNumberOfCells()\n",
    "    print(f'@pytest.mark.parametrize(\"expectedValue,numberofpoints,paramid\",[')\n",
    "    for idc in range(numCells):\n",
    "        bcx = branch.GetCell(idc)\n",
    "        numberOfPoints = bcx.GetNumberOfPoints()\n",
    "        pointIdEnd = bcx.GetPointId(numberOfPoints - 1)\n",
    "        print(f'    ({pointIdEnd}, {numberOfPoints}, {idc}),')\n",
    "    print('])')\n",
    "\n"
   ]
  },
  {
   "cell_type": "markdown",
   "metadata": {},
   "source": [
    "### start and end locations"
   ]
  },
  {
   "cell_type": "code",
   "execution_count": 28,
   "metadata": {},
   "outputs": [
    {
     "name": "stdout",
     "output_type": "stream",
     "text": [
      "pytest.mark.prametrize(\"pointidstart,numberofpoints,expectedlocationstart,expectedlocationend,paramid\",[\n",
      "    (0, 129, np.array([217.96841430664062, 173.62118530273438, 13.255617141723633]), np.array([218.3564910888672, 173.5325927734375, 13.078214645385742]), 0),\n",
      "    (129, 117, np.array([220.60513305664062, 168.85765075683594, 14.689851760864258]), np.array([220.7154998779297, 168.8603515625, 14.662433624267578]), 1),\n",
      "    (246, 123, np.array([220.60513305664062, 161.35403442382812, 14.91808795928955]), np.array([221.1270294189453, 161.36172485351562, 14.869494438171387]), 2),\n",
      "    (369, 122, np.array([217.96841430664062, 153.799560546875, 16.24483871459961]), np.array([218.7977752685547, 153.759033203125, 15.950116157531738]), 3),\n",
      "    (491, 119, np.array([220.60513305664062, 147.16163635253906, 16.457529067993164]), np.array([220.84371948242188, 147.17149353027344, 16.445602416992188]), 4),\n",
      "    (610, 102, np.array([214.2646026611328, 138.3168182373047, 20.781129837036133]), np.array([215.2498321533203, 139.0978546142578, 28.59796714782715]), 5),\n",
      "    (712, 72, np.array([221.03619384765625, 133.0021209716797, 19.41550064086914]), np.array([223.09197998046875, 133.60549926757812, 29.31968116760254]), 6),\n",
      "    (784, 80, np.array([225.22320556640625, 128.92987060546875, 19.44786834716797]), np.array([225.2543182373047, 128.94456481933594, 19.4281005859375]), 7),\n",
      "    (864, 74, np.array([224.99966430664062, 125.61617279052734, 20.987215042114258]), np.array([225.03799438476562, 125.61742401123047, 20.96105194091797]), 8),\n",
      "    (938, 74, np.array([226.9380340576172, 121.55354309082031, 20.983095169067383]), np.array([227.32139587402344, 121.60404968261719, 20.776121139526367]), 9),\n",
      "    (1012, 72, np.array([230.27310180664062, 117.59968566894531, 20.985858917236328]), np.array([230.3741455078125, 117.61669921875, 20.980459213256836]), 10),\n",
      "    (1084, 73, np.array([229.39419555664062, 112.8595962524414, 22.42799949645996]), np.array([229.47718811035156, 112.87579345703125, 22.390670776367188]), 11),\n",
      "    (1157, 70, np.array([230.27310180664062, 108.89535522460938, 23.66469383239746]), np.array([230.82315063476562, 108.984375, 23.356685638427734]), 12),\n",
      "    (1227, 67, np.array([232.90982055664062, 105.00150299072266, 23.84995460510254]), np.array([232.92904663085938, 105.00645446777344, 23.845577239990234]), 13),\n",
      "    (1294, 68, np.array([232.12461853027344, 101.83521270751953, 25.46320915222168]), np.array([232.1511993408203, 101.83283996582031, 25.44672393798828]), 14),\n",
      "    (1362, 78, np.array([221.04122924804688, 132.8127899169922, 19.44769287109375]), np.array([223.05599975585938, 133.10491943359375, 29.166749954223633]), 15),\n",
      "    (1440, 90, np.array([221.40382385253906, 128.67816162109375, 22.391569137573242]), np.array([221.80430603027344, 128.6477508544922, 24.464847564697266]), 16),\n",
      "    (1530, 74, np.array([216.21060180664062, 125.59019470214844, 21.670682907104492]), np.array([216.93014526367188, 125.52423095703125, 21.99653434753418]), 17),\n",
      "    (1604, 81, np.array([214.45278930664062, 121.28471374511719, 22.488676071166992]), np.array([214.6112518310547, 121.27181243896484, 22.50135040283203]), 18),\n",
      "    (1685, 75, np.array([212.6949920654297, 117.73933410644531, 23.282371520996094]), np.array([213.42185974121094, 117.62139892578125, 23.06829071044922]), 19),\n",
      "    (1760, 78, np.array([213.5738983154297, 113.08839416503906, 23.80427360534668]), np.array([214.01332092285156, 112.93942260742188, 23.97063446044922]), 20),\n",
      "    (1838, 78, np.array([210.9371795654297, 108.91300201416016, 24.94631004333496]), np.array([211.59010314941406, 108.7583999633789, 24.869142532348633]), 21),\n",
      "    (1916, 70, np.array([211.8160858154297, 104.5389404296875, 25.843137741088867]), np.array([212.57681274414062, 104.47166442871094, 26.245433807373047]), 22),\n",
      "    (1986, 79, np.array([210.0582733154297, 101.82815551757812, 26.50916290283203]), np.array([210.67491149902344, 101.69086456298828, 26.563392639160156]), 23),\n",
      "])\n",
      "pytest.mark.prametrize(\"pointidstart,numberofpoints,expectedlocationstart,expectedlocationend,paramid\",[\n",
      "    (0, 129, np.array([217.96841430664062, 173.62118530273438, 13.255617141723633]), np.array([218.3564910888672, 173.5325927734375, 13.078214645385742]), 0),\n",
      "    (129, 123, np.array([220.60513305664062, 161.35403442382812, 14.91808795928955]), np.array([221.1270294189453, 161.36172485351562, 14.869494438171387]), 1),\n",
      "    (252, 119, np.array([220.60513305664062, 147.16163635253906, 16.457529067993164]), np.array([220.84371948242188, 147.17149353027344, 16.445602416992188]), 2),\n",
      "    (371, 72, np.array([221.03619384765625, 133.0021209716797, 19.41550064086914]), np.array([223.09197998046875, 133.60549926757812, 29.31968116760254]), 3),\n",
      "    (443, 74, np.array([224.99966430664062, 125.61617279052734, 20.987215042114258]), np.array([225.03799438476562, 125.61742401123047, 20.96105194091797]), 4),\n",
      "    (517, 72, np.array([230.27310180664062, 117.59968566894531, 20.985858917236328]), np.array([230.3741455078125, 117.61669921875, 20.980459213256836]), 5),\n",
      "    (589, 70, np.array([230.27310180664062, 108.89535522460938, 23.66469383239746]), np.array([230.82315063476562, 108.984375, 23.356685638427734]), 6),\n",
      "    (659, 68, np.array([232.12461853027344, 101.83521270751953, 25.46320915222168]), np.array([232.1511993408203, 101.83283996582031, 25.44672393798828]), 7),\n",
      "    (727, 78, np.array([221.04122924804688, 132.8127899169922, 19.44769287109375]), np.array([223.05599975585938, 133.10491943359375, 29.166749954223633]), 8),\n",
      "    (805, 74, np.array([216.21060180664062, 125.59019470214844, 21.670682907104492]), np.array([216.93014526367188, 125.52423095703125, 21.99653434753418]), 9),\n",
      "    (879, 75, np.array([212.6949920654297, 117.73933410644531, 23.282371520996094]), np.array([213.42185974121094, 117.62139892578125, 23.06829071044922]), 10),\n",
      "    (954, 78, np.array([210.9371795654297, 108.91300201416016, 24.94631004333496]), np.array([211.59010314941406, 108.7583999633789, 24.869142532348633]), 11),\n",
      "    (1032, 79, np.array([210.0582733154297, 101.82815551757812, 26.50916290283203]), np.array([210.67491149902344, 101.69086456298828, 26.563392639160156]), 12),\n",
      "])\n"
     ]
    }
   ],
   "source": [
    "for idx, branch in enumerate(branches):\n",
    "    numCells = branch.GetNumberOfCells()\n",
    "    wp = dsa.WrapDataObject(branch)\n",
    "    print(f'pytest.mark.prametrize(\"pointidstart,numberofpoints,expectedlocationstart,expectedlocationend,paramid\",[')\n",
    "    for idc in range(numCells):\n",
    "        bcx = branch.GetCell(idc)\n",
    "        numberOfPoints = bcx.GetNumberOfPoints()\n",
    "        pointIdStart = bcx.GetPointId(0)\n",
    "        pointIdEnd = bcx.GetPointId(numberOfPoints - 1)\n",
    "        pointLocationStart = wp.Points[pointIdStart]\n",
    "        pointLocationEnd = wp.Points[pointIdEnd]\n",
    "        print(f'    ({pointIdStart}, {numberOfPoints}, np.array([{pointLocationStart[0]}, {pointLocationStart[1]}, {pointLocationStart[2]}]), np.array([{pointLocationEnd[0]}, {pointLocationEnd[1]}, {pointLocationEnd[2]}]), {idc}),')\n",
    "    print('])')"
   ]
  },
  {
   "cell_type": "code",
   "execution_count": 25,
   "metadata": {},
   "outputs": [
    {
     "name": "stdout",
     "output_type": "stream",
     "text": [
      "For cell: 0\n",
      "Number Of Points: 129 \n",
      " Point Id Start: 0 \n",
      " Point Id End: 128 \n",
      " np.array([ 217.96841431  173.6211853    13.25561714]), np.array([ 218.35649109  173.53259277   13.07821465]) \n",
      "\n",
      "For cell: 1\n",
      "Number Of Points: 117 \n",
      " Point Id Start: 129 \n",
      " Point Id End: 245 \n",
      " np.array([ 220.60513306  168.85765076   14.68985176]), np.array([ 220.71549988  168.86035156   14.66243362]) \n",
      "\n",
      "For cell: 2\n",
      "Number Of Points: 123 \n",
      " Point Id Start: 246 \n",
      " Point Id End: 368 \n",
      " np.array([ 220.60513306  161.35403442   14.91808796]), np.array([ 221.12702942  161.36172485   14.86949444]) \n",
      "\n",
      "For cell: 3\n",
      "Number Of Points: 122 \n",
      " Point Id Start: 369 \n",
      " Point Id End: 490 \n",
      " np.array([ 217.96841431  153.79956055   16.24483871]), np.array([ 218.79777527  153.7590332    15.95011616]) \n",
      "\n",
      "For cell: 4\n",
      "Number Of Points: 119 \n",
      " Point Id Start: 491 \n",
      " Point Id End: 609 \n",
      " np.array([ 220.60513306  147.16163635   16.45752907]), np.array([ 220.84371948  147.17149353   16.44560242]) \n",
      "\n",
      "For cell: 5\n",
      "Number Of Points: 102 \n",
      " Point Id Start: 610 \n",
      " Point Id End: 711 \n",
      " np.array([ 214.26460266  138.31681824   20.78112984]), np.array([ 215.24983215  139.09785461   28.59796715]) \n",
      "\n",
      "For cell: 6\n",
      "Number Of Points: 72 \n",
      " Point Id Start: 712 \n",
      " Point Id End: 783 \n",
      " np.array([ 221.03619385  133.00212097   19.41550064]), np.array([ 223.09197998  133.60549927   29.31968117]) \n",
      "\n",
      "For cell: 7\n",
      "Number Of Points: 80 \n",
      " Point Id Start: 784 \n",
      " Point Id End: 863 \n",
      " np.array([ 225.22320557  128.92987061   19.44786835]), np.array([ 225.25431824  128.94456482   19.42810059]) \n",
      "\n",
      "For cell: 8\n",
      "Number Of Points: 74 \n",
      " Point Id Start: 864 \n",
      " Point Id End: 937 \n",
      " np.array([ 224.99966431  125.61617279   20.98721504]), np.array([ 225.03799438  125.61742401   20.96105194]) \n",
      "\n",
      "For cell: 9\n",
      "Number Of Points: 74 \n",
      " Point Id Start: 938 \n",
      " Point Id End: 1011 \n",
      " np.array([ 226.93803406  121.55354309   20.98309517]), np.array([ 227.32139587  121.60404968   20.77612114]) \n",
      "\n",
      "For cell: 10\n",
      "Number Of Points: 72 \n",
      " Point Id Start: 1012 \n",
      " Point Id End: 1083 \n",
      " np.array([ 230.27310181  117.59968567   20.98585892]), np.array([ 230.37414551  117.61669922   20.98045921]) \n",
      "\n",
      "For cell: 11\n",
      "Number Of Points: 73 \n",
      " Point Id Start: 1084 \n",
      " Point Id End: 1156 \n",
      " np.array([ 229.39419556  112.85959625   22.4279995 ]), np.array([ 229.47718811  112.87579346   22.39067078]) \n",
      "\n",
      "For cell: 12\n",
      "Number Of Points: 70 \n",
      " Point Id Start: 1157 \n",
      " Point Id End: 1226 \n",
      " np.array([ 230.27310181  108.89535522   23.66469383]), np.array([ 230.82315063  108.984375     23.35668564]) \n",
      "\n",
      "For cell: 13\n",
      "Number Of Points: 67 \n",
      " Point Id Start: 1227 \n",
      " Point Id End: 1293 \n",
      " np.array([ 232.90982056  105.00150299   23.84995461]), np.array([ 232.92904663  105.00645447   23.84557724]) \n",
      "\n",
      "For cell: 14\n",
      "Number Of Points: 68 \n",
      " Point Id Start: 1294 \n",
      " Point Id End: 1361 \n",
      " np.array([ 232.12461853  101.83521271   25.46320915]), np.array([ 232.15119934  101.83283997   25.44672394]) \n",
      "\n",
      "For cell: 15\n",
      "Number Of Points: 78 \n",
      " Point Id Start: 1362 \n",
      " Point Id End: 1439 \n",
      " np.array([ 221.04122925  132.81278992   19.44769287]), np.array([ 223.05599976  133.10491943   29.16674995]) \n",
      "\n",
      "For cell: 16\n",
      "Number Of Points: 90 \n",
      " Point Id Start: 1440 \n",
      " Point Id End: 1529 \n",
      " np.array([ 221.40382385  128.67816162   22.39156914]), np.array([ 221.80430603  128.64775085   24.46484756]) \n",
      "\n",
      "For cell: 17\n",
      "Number Of Points: 74 \n",
      " Point Id Start: 1530 \n",
      " Point Id End: 1603 \n",
      " np.array([ 216.21060181  125.5901947    21.67068291]), np.array([ 216.93014526  125.52423096   21.99653435]) \n",
      "\n",
      "For cell: 18\n",
      "Number Of Points: 81 \n",
      " Point Id Start: 1604 \n",
      " Point Id End: 1684 \n",
      " np.array([ 214.45278931  121.28471375   22.48867607]), np.array([ 214.61125183  121.27181244   22.5013504 ]) \n",
      "\n",
      "For cell: 19\n",
      "Number Of Points: 75 \n",
      " Point Id Start: 1685 \n",
      " Point Id End: 1759 \n",
      " np.array([ 212.69499207  117.73933411   23.28237152]), np.array([ 213.42185974  117.62139893   23.06829071]) \n",
      "\n",
      "For cell: 20\n",
      "Number Of Points: 78 \n",
      " Point Id Start: 1760 \n",
      " Point Id End: 1837 \n",
      " np.array([ 213.57389832  113.08839417   23.80427361]), np.array([ 214.01332092  112.93942261   23.97063446]) \n",
      "\n",
      "For cell: 21\n",
      "Number Of Points: 78 \n",
      " Point Id Start: 1838 \n",
      " Point Id End: 1915 \n",
      " np.array([ 210.93717957  108.91300201   24.94631004]), np.array([ 211.59010315  108.75839996   24.86914253]) \n",
      "\n",
      "For cell: 22\n",
      "Number Of Points: 70 \n",
      " Point Id Start: 1916 \n",
      " Point Id End: 1985 \n",
      " np.array([ 211.81608582  104.53894043   25.84313774]), np.array([ 212.57681274  104.47166443   26.24543381]) \n",
      "\n",
      "For cell: 23\n",
      "Number Of Points: 79 \n",
      " Point Id Start: 1986 \n",
      " Point Id End: 2064 \n",
      " np.array([ 210.05827332  101.82815552   26.5091629 ]), np.array([ 210.6749115   101.69086456   26.56339264]) \n",
      "\n"
     ]
    }
   ],
   "source": [
    "for idx in range(numCells):\n",
    "    print(f'For cell: {idx}')\n",
    "    bcx = branches.GetCell(idx)\n",
    "    numberOfPoints = bcx.GetNumberOfPoints()\n",
    "    pointIdStart = bcx.GetPointId(0)\n",
    "    pointIdEnd = bcx.GetPointId(numberOfPoints - 1)\n",
    "    pointLocationStart = wp.Points[pointIdStart]\n",
    "    pointLocationEnd = wp.Points[pointIdEnd]\n",
    "    print(f'Number Of Points: {numberOfPoints} \\n',\n",
    "          f'Point Id Start: {pointIdStart} \\n',\n",
    "          f'Point Id End: {pointIdEnd} \\n',\n",
    "          f'np.array({pointLocationStart}), np.array({pointLocationEnd}) \\n')"
   ]
  },
  {
   "cell_type": "code",
   "execution_count": 17,
   "metadata": {},
   "outputs": [
    {
     "name": "stdout",
     "output_type": "stream",
     "text": [
      "vtkPolyData (0x7fb3126b2380)\n",
      "  Debug: Off\n",
      "  Modified Time: 1491\n",
      "  Reference Count: 1\n",
      "  Registered Events: (none)\n",
      "  Information: 0x7fb3126b24f0\n",
      "  Data Released: False\n",
      "  Global Release Data: Off\n",
      "  UpdateTime: 51856\n",
      "  Field Data:\n",
      "    Debug: Off\n",
      "    Modified Time: 1387\n",
      "    Reference Count: 1\n",
      "    Registered Events: (none)\n",
      "    Number Of Arrays: 0\n",
      "    Number Of Components: 0\n",
      "    Number Of Tuples: 0\n",
      "  Number Of Points: 2065\n",
      "  Number Of Cells: 24\n",
      "  Cell Data:\n",
      "    Debug: Off\n",
      "    Modified Time: 1491\n",
      "    Reference Count: 1\n",
      "    Registered Events: \n",
      "      Registered Observers:\n",
      "        vtkObserver (0x7fb3126b2a40)\n",
      "          Event: 33\n",
      "          EventName: ModifiedEvent\n",
      "          Command: 0x7fb3126b2770\n",
      "          Priority: 0\n",
      "          Tag: 1\n",
      "    Number Of Arrays: 7\n",
      "    Array 0 name = BranchSectionGroupIds\n",
      "    Array 1 name = BranchSectionArea\n",
      "    Array 2 name = BranchSectionMinSize\n",
      "    Array 3 name = BranchSectionMaxSize\n",
      "    Array 4 name = BranchSectionShape\n",
      "    Array 5 name = BranchSectionClosed\n",
      "    Array 6 name = BranchSectionDistanceSpheres\n",
      "    Number Of Components: 7\n",
      "    Number Of Tuples: 24\n",
      "    Copy Tuple Flags: ( 1 1 1 1 1 0 1 1 )\n",
      "    Interpolate Flags: ( 1 1 1 1 1 0 0 1 )\n",
      "    Pass Through Flags: ( 1 1 1 1 1 1 1 1 )\n",
      "    Scalars: (none)\n",
      "    Vectors: (none)\n",
      "    Normals: (none)\n",
      "    TCoords: (none)\n",
      "    Tensors: (none)\n",
      "    GlobalIds: (none)\n",
      "    PedigreeIds: (none)\n",
      "    EdgeFlag: (none)\n",
      "  Point Data:\n",
      "    Debug: Off\n",
      "    Modified Time: 1397\n",
      "    Reference Count: 1\n",
      "    Registered Events: \n",
      "      Registered Observers:\n",
      "        vtkObserver (0x7fb3126b28e0)\n",
      "          Event: 33\n",
      "          EventName: ModifiedEvent\n",
      "          Command: 0x7fb3126b2770\n",
      "          Priority: 0\n",
      "          Tag: 1\n",
      "    Number Of Arrays: 0\n",
      "    Number Of Components: 0\n",
      "    Number Of Tuples: 0\n",
      "    Copy Tuple Flags: ( 1 1 1 1 1 0 1 1 )\n",
      "    Interpolate Flags: ( 1 1 1 1 1 0 0 1 )\n",
      "    Pass Through Flags: ( 1 1 1 1 1 1 1 1 )\n",
      "    Scalars: (none)\n",
      "    Vectors: (none)\n",
      "    Normals: (none)\n",
      "    TCoords: (none)\n",
      "    Tensors: (none)\n",
      "    GlobalIds: (none)\n",
      "    PedigreeIds: (none)\n",
      "    EdgeFlag: (none)\n",
      "  Bounds: \n",
      "    Xmin,Xmax: (205.831, 239.817)\n",
      "    Ymin,Ymax: (101.514, 178.233)\n",
      "    Zmin,Zmax: (12.8273, 35.0091)\n",
      "  Compute Time: 52284\n",
      "  Number Of Points: 2065\n",
      "  Point Coordinates: 0x7fb3126b8080\n",
      "  Locator: 0x0\n",
      "  Number Of Vertices: 0\n",
      "  Number Of Lines: 0\n",
      "  Number Of Polygons: 24\n",
      "  Number Of Triangle Strips: 0\n",
      "  Number Of Pieces: 1\n",
      "  Piece: 0\n",
      "  Ghost Level: 0\n",
      "\n",
      "\n"
     ]
    }
   ],
   "source": [
    "print(branches)"
   ]
  },
  {
   "cell_type": "code",
   "execution_count": null,
   "metadata": {},
   "outputs": [],
   "source": [
    "sections.OutputSectionArea"
   ]
  },
  {
   "cell_type": "code",
   "execution_count": null,
   "metadata": {},
   "outputs": [],
   "source": [
    "surfaceviewer = vmtkscripts.vmtkSurfaceViewer()\n",
    "surfaceviewer.Surface = sections.Surface\n",
    "surfaceviewer.ArrayName = 'BifurcationSectionGroupIds'\n",
    "surfaceviewer.Execute()"
   ]
  },
  {
   "cell_type": "code",
   "execution_count": null,
   "metadata": {},
   "outputs": [],
   "source": []
  }
 ],
 "metadata": {
  "kernelspec": {
   "display_name": "Python 3",
   "language": "python",
   "name": "python3"
  },
  "language_info": {
   "codemirror_mode": {
    "name": "ipython",
    "version": 3
   },
   "file_extension": ".py",
   "mimetype": "text/x-python",
   "name": "python",
   "nbconvert_exporter": "python",
   "pygments_lexer": "ipython3",
   "version": "3.6.1"
  }
 },
 "nbformat": 4,
 "nbformat_minor": 2
}
