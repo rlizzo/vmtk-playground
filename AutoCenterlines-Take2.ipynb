{
 "cells": [
  {
   "cell_type": "markdown",
   "metadata": {},
   "source": [
    "\n",
    "## Compute the associated average outward flux\n",
    "\n",
    "To have a good quality gradient of the distance map, perform a light smooth over it. Define convolution kernels in each direction and use them recursively. "
   ]
  },
  {
   "cell_type": "code",
   "execution_count": 1,
   "metadata": {},
   "outputs": [],
   "source": [
    "import matplotlib.pyplot as plt\n",
    "from vmtk import vmtkscripts\n",
    "from vmtk import vtkvmtk\n",
    "import os\n",
    "import sys\n",
    "import numpy as np\n",
    "import random\n",
    "import networkx as nx\n",
    "import vtk"
   ]
  },
  {
   "cell_type": "markdown",
   "metadata": {},
   "source": [
    "imgr = vmtkscripts.vmtkImageReader()\n",
    "imgr.InputFileName = os.path.join(os.getcwd(), 'test-surf-normal-hole.mha')\n",
    "imgr.Execute()\n",
    "\n",
    "mc = vmtkscripts.vmtkMarchingCubes()\n",
    "mc.Image = imgr.Image\n",
    "mc.Level = 1000.0\n",
    "mc.Execute()"
   ]
  },
  {
   "cell_type": "code",
   "execution_count": 2,
   "metadata": {},
   "outputs": [
    {
     "name": "stdout",
     "output_type": "stream",
     "text": [
      "Reading STL surface file.\n"
     ]
    }
   ],
   "source": [
    "surfr = vmtkscripts.vmtkSurfaceReader()\n",
    "surfr.InputFileName = os.path.join(os.getcwd(), 'realtest.stl')\n",
    "surfr.Execute()\n",
    "\n",
    "surf = surfr.Surface"
   ]
  },
  {
   "cell_type": "code",
   "execution_count": 3,
   "metadata": {},
   "outputs": [],
   "source": [
    "fedges = vtk.vtkFeatureEdges()\n",
    "fedges.BoundaryEdgesOn()\n",
    "fedges.FeatureEdgesOff()\n",
    "fedges.ManifoldEdgesOff()\n",
    "fedges.SetInputData(surf)\n",
    "fedges.Update()\n",
    "\n",
    "ofedges = fedges.GetOutput()\n",
    "\n",
    "numEdges = ofedges.GetNumberOfPoints()"
   ]
  },
  {
   "cell_type": "code",
   "execution_count": 4,
   "metadata": {},
   "outputs": [],
   "source": [
    "if numEdges != 0:\n",
    "    tempcapper = vmtkscripts.vmtkSurfaceCapper()\n",
    "    tempcapper.Surface = surf\n",
    "    tempcapper.Interactive = 0\n",
    "    tempcapper.Execute()\n",
    "    \n",
    "    networkSurface = tempcapper.Surface\n",
    "else:\n",
    "    networkSurface = surf"
   ]
  },
  {
   "cell_type": "code",
   "execution_count": 5,
   "metadata": {},
   "outputs": [
    {
     "name": "stdout",
     "output_type": "stream",
     "text": [
      "Progress: 100%Progress: 100%\n"
     ]
    }
   ],
   "source": [
    "numCells = surf.GetNumberOfCells()\n",
    "cellToDelete = random.randrange(0, numCells-1)\n",
    "\n",
    "networkSurface.BuildLinks()\n",
    "networkSurface.DeleteCell(cellToDelete)\n",
    "networkSurface.RemoveDeletedCells()\n",
    "\n",
    "net = vmtkscripts.vmtkNetworkExtraction()\n",
    "net.Surface = networkSurface\n",
    "net.AdvancementRatio = 1.01\n",
    "net.Execute()\n",
    "\n",
    "network = net.Network"
   ]
  },
  {
   "cell_type": "code",
   "execution_count": 6,
   "metadata": {},
   "outputs": [
    {
     "name": "stdout",
     "output_type": "stream",
     "text": [
      "wrapping vtkPolyData object\n",
      "converting cell data: \n",
      "Topology\n",
      "converting points\n",
      "converting point data: \n",
      "Radius\n",
      "converting cell connectivity list\n"
     ]
    }
   ],
   "source": [
    "convert = vmtkscripts.vmtkCenterlinesToNumpy()\n",
    "convert.Centerlines = network\n",
    "convert.Execute()\n",
    "ad = convert.ArrayDict"
   ]
  },
  {
   "cell_type": "code",
   "execution_count": 7,
   "metadata": {},
   "outputs": [],
   "source": [
    "cellDataTopology = ad['CellData']['Topology']"
   ]
  },
  {
   "cell_type": "code",
   "execution_count": 8,
   "metadata": {},
   "outputs": [
    {
     "data": {
      "text/plain": [
       "array([[ 0,  1],\n",
       "       [ 1,  2],\n",
       "       [ 2,  4],\n",
       "       [ 2,  5],\n",
       "       [ 3, -1],\n",
       "       [ 3, 50],\n",
       "       [ 4,  6],\n",
       "       [ 4,  7],\n",
       "       [ 5, -1],\n",
       "       [ 5, -1],\n",
       "       [ 6,  8],\n",
       "       [ 6,  9],\n",
       "       [ 7, -1],\n",
       "       [ 8, 10],\n",
       "       [ 8, 11],\n",
       "       [ 9, 12],\n",
       "       [10, -1],\n",
       "       [10, 14],\n",
       "       [11, -1],\n",
       "       [11, -1],\n",
       "       [13, -1],\n",
       "       [13, -1],\n",
       "       [14, 15],\n",
       "       [14, 16],\n",
       "       [15, 17],\n",
       "       [15, 18],\n",
       "       [16, 19],\n",
       "       [17, -1],\n",
       "       [18, 20],\n",
       "       [19, 21],\n",
       "       [19, 22],\n",
       "       [20, -1],\n",
       "       [20, -1],\n",
       "       [21, -1],\n",
       "       [21, -1],\n",
       "       [22, 25],\n",
       "       [22, 26],\n",
       "       [23, 27],\n",
       "       [23, 28],\n",
       "       [24, 29],\n",
       "       [24, -1],\n",
       "       [25, 30],\n",
       "       [25, -1],\n",
       "       [26, -1],\n",
       "       [27, 31],\n",
       "       [27, -1],\n",
       "       [28, 32],\n",
       "       [28, -1],\n",
       "       [29, 33],\n",
       "       [29, -1],\n",
       "       [30, 34],\n",
       "       [30, -1],\n",
       "       [31, 36],\n",
       "       [31, -1],\n",
       "       [32, -1],\n",
       "       [32, -1],\n",
       "       [33, 37],\n",
       "       [33, 38],\n",
       "       [34, 39],\n",
       "       [34, 40],\n",
       "       [35, 41],\n",
       "       [35, -1],\n",
       "       [36, -1],\n",
       "       [37, -1],\n",
       "       [37, 42],\n",
       "       [38, 42],\n",
       "       [38, 43],\n",
       "       [39, 44],\n",
       "       [40, -1],\n",
       "       [41, -1],\n",
       "       [41, -1],\n",
       "       [42, 45],\n",
       "       [43, -1],\n",
       "       [44, 46],\n",
       "       [44, -1],\n",
       "       [45, 47],\n",
       "       [45, 46],\n",
       "       [47, -1],\n",
       "       [47, -1],\n",
       "       [48, 49],\n",
       "       [49, -1],\n",
       "       [49, -1],\n",
       "       [ 1,  3],\n",
       "       [ 4, -1],\n",
       "       [ 7, 13],\n",
       "       [ 9, -1],\n",
       "       [12, -1],\n",
       "       [16, 23],\n",
       "       [17, 24],\n",
       "       [18, -1],\n",
       "       [-1, 51],\n",
       "       [26, 35],\n",
       "       [36, 52],\n",
       "       [39, -1],\n",
       "       [40, -1],\n",
       "       [43, -1],\n",
       "       [46, 48],\n",
       "       [48, -1]])"
      ]
     },
     "execution_count": 8,
     "metadata": {},
     "output_type": "execute_result"
    }
   ],
   "source": [
    "cellDataTopology"
   ]
  },
  {
   "cell_type": "code",
   "execution_count": 9,
   "metadata": {},
   "outputs": [],
   "source": [
    "fullTopology = np.array(cellDataTopology)"
   ]
  },
  {
   "cell_type": "code",
   "execution_count": 10,
   "metadata": {},
   "outputs": [],
   "source": [
    "topologyToKeep = np.where(fullTopology[:,0] != 0)[0]"
   ]
  },
  {
   "cell_type": "code",
   "execution_count": 11,
   "metadata": {},
   "outputs": [],
   "source": [
    "topol = fullTopology[topologyToKeep]"
   ]
  },
  {
   "cell_type": "code",
   "execution_count": 12,
   "metadata": {},
   "outputs": [
    {
     "data": {
      "text/plain": [
       "(97, 2)"
      ]
     },
     "execution_count": 12,
     "metadata": {},
     "output_type": "execute_result"
    }
   ],
   "source": [
    "topol.shape"
   ]
  },
  {
   "cell_type": "code",
   "execution_count": 13,
   "metadata": {},
   "outputs": [
    {
     "data": {
      "text/plain": [
       "array([[ 1,  2],\n",
       "       [ 2,  4],\n",
       "       [ 2,  5],\n",
       "       [ 3, -1],\n",
       "       [ 3, 50],\n",
       "       [ 4,  6],\n",
       "       [ 4,  7],\n",
       "       [ 5, -1],\n",
       "       [ 5, -1],\n",
       "       [ 6,  8],\n",
       "       [ 6,  9],\n",
       "       [ 7, -1],\n",
       "       [ 8, 10],\n",
       "       [ 8, 11],\n",
       "       [ 9, 12],\n",
       "       [10, -1],\n",
       "       [10, 14],\n",
       "       [11, -1],\n",
       "       [11, -1],\n",
       "       [13, -1],\n",
       "       [13, -1],\n",
       "       [14, 15],\n",
       "       [14, 16],\n",
       "       [15, 17],\n",
       "       [15, 18],\n",
       "       [16, 19],\n",
       "       [17, -1],\n",
       "       [18, 20],\n",
       "       [19, 21],\n",
       "       [19, 22],\n",
       "       [20, -1],\n",
       "       [20, -1],\n",
       "       [21, -1],\n",
       "       [21, -1],\n",
       "       [22, 25],\n",
       "       [22, 26],\n",
       "       [23, 27],\n",
       "       [23, 28],\n",
       "       [24, 29],\n",
       "       [24, -1],\n",
       "       [25, 30],\n",
       "       [25, -1],\n",
       "       [26, -1],\n",
       "       [27, 31],\n",
       "       [27, -1],\n",
       "       [28, 32],\n",
       "       [28, -1],\n",
       "       [29, 33],\n",
       "       [29, -1],\n",
       "       [30, 34],\n",
       "       [30, -1],\n",
       "       [31, 36],\n",
       "       [31, -1],\n",
       "       [32, -1],\n",
       "       [32, -1],\n",
       "       [33, 37],\n",
       "       [33, 38],\n",
       "       [34, 39],\n",
       "       [34, 40],\n",
       "       [35, 41],\n",
       "       [35, -1],\n",
       "       [36, -1],\n",
       "       [37, -1],\n",
       "       [37, 42],\n",
       "       [38, 42],\n",
       "       [38, 43],\n",
       "       [39, 44],\n",
       "       [40, -1],\n",
       "       [41, -1],\n",
       "       [41, -1],\n",
       "       [42, 45],\n",
       "       [43, -1],\n",
       "       [44, 46],\n",
       "       [44, -1],\n",
       "       [45, 47],\n",
       "       [45, 46],\n",
       "       [47, -1],\n",
       "       [47, -1],\n",
       "       [48, 49],\n",
       "       [49, -1],\n",
       "       [49, -1],\n",
       "       [ 1,  3],\n",
       "       [ 4, -1],\n",
       "       [ 7, 13],\n",
       "       [ 9, -1],\n",
       "       [12, -1],\n",
       "       [16, 23],\n",
       "       [17, 24],\n",
       "       [18, -1],\n",
       "       [-1, 51],\n",
       "       [26, 35],\n",
       "       [36, 52],\n",
       "       [39, -1],\n",
       "       [40, -1],\n",
       "       [43, -1],\n",
       "       [46, 48],\n",
       "       [48, -1]])"
      ]
     },
     "execution_count": 13,
     "metadata": {},
     "output_type": "execute_result"
    }
   ],
   "source": [
    "topol"
   ]
  },
  {
   "cell_type": "code",
   "execution_count": 14,
   "metadata": {},
   "outputs": [],
   "source": [
    "nodes = np.arange(1, topol.shape[0]+1)"
   ]
  },
  {
   "cell_type": "code",
   "execution_count": 15,
   "metadata": {},
   "outputs": [
    {
     "data": {
      "text/plain": [
       "array([ 1,  2,  3,  4,  5,  6,  7,  8,  9, 10, 11, 12, 13, 14, 15, 16, 17,\n",
       "       18, 19, 20, 21, 22, 23, 24, 25, 26, 27, 28, 29, 30, 31, 32, 33, 34,\n",
       "       35, 36, 37, 38, 39, 40, 41, 42, 43, 44, 45, 46, 47, 48, 49, 50, 51,\n",
       "       52, 53, 54, 55, 56, 57, 58, 59, 60, 61, 62, 63, 64, 65, 66, 67, 68,\n",
       "       69, 70, 71, 72, 73, 74, 75, 76, 77, 78, 79, 80, 81, 82, 83, 84, 85,\n",
       "       86, 87, 88, 89, 90, 91, 92, 93, 94, 95, 96, 97])"
      ]
     },
     "execution_count": 15,
     "metadata": {},
     "output_type": "execute_result"
    }
   ],
   "source": [
    "nodes"
   ]
  },
  {
   "cell_type": "code",
   "execution_count": 16,
   "metadata": {},
   "outputs": [],
   "source": [
    "topolWithNodes = np.copy(topol)"
   ]
  },
  {
   "cell_type": "code",
   "execution_count": 17,
   "metadata": {},
   "outputs": [],
   "source": [
    "endEdgesToReplace = np.where(topolWithNodes[:, :] == -1)[0]"
   ]
  },
  {
   "cell_type": "code",
   "execution_count": 21,
   "metadata": {},
   "outputs": [
    {
     "data": {
      "text/plain": [
       "array([[ 1,  2],\n",
       "       [ 2,  4],\n",
       "       [ 2,  5],\n",
       "       [ 3, -1],\n",
       "       [ 3, 50],\n",
       "       [ 4,  6],\n",
       "       [ 4,  7],\n",
       "       [ 5, -1],\n",
       "       [ 5, -1],\n",
       "       [ 6,  8],\n",
       "       [ 6,  9],\n",
       "       [ 7, -1],\n",
       "       [ 8, 10],\n",
       "       [ 8, 11],\n",
       "       [ 9, 12],\n",
       "       [10, -1],\n",
       "       [10, 14],\n",
       "       [11, -1],\n",
       "       [11, -1],\n",
       "       [13, -1],\n",
       "       [13, -1],\n",
       "       [14, 15],\n",
       "       [14, 16],\n",
       "       [15, 17],\n",
       "       [15, 18],\n",
       "       [16, 19],\n",
       "       [17, -1],\n",
       "       [18, 20],\n",
       "       [19, 21],\n",
       "       [19, 22],\n",
       "       [20, -1],\n",
       "       [20, -1],\n",
       "       [21, -1],\n",
       "       [21, -1],\n",
       "       [22, 25],\n",
       "       [22, 26],\n",
       "       [23, 27],\n",
       "       [23, 28],\n",
       "       [24, 29],\n",
       "       [24, -1],\n",
       "       [25, 30],\n",
       "       [25, -1],\n",
       "       [26, -1],\n",
       "       [27, 31],\n",
       "       [27, -1],\n",
       "       [28, 32],\n",
       "       [28, -1],\n",
       "       [29, 33],\n",
       "       [29, -1],\n",
       "       [30, 34],\n",
       "       [30, -1],\n",
       "       [31, 36],\n",
       "       [31, -1],\n",
       "       [32, -1],\n",
       "       [32, -1],\n",
       "       [33, 37],\n",
       "       [33, 38],\n",
       "       [34, 39],\n",
       "       [34, 40],\n",
       "       [35, 41],\n",
       "       [35, -1],\n",
       "       [36, -1],\n",
       "       [37, -1],\n",
       "       [37, 42],\n",
       "       [38, 42],\n",
       "       [38, 43],\n",
       "       [39, 44],\n",
       "       [40, -1],\n",
       "       [41, -1],\n",
       "       [41, -1],\n",
       "       [42, 45],\n",
       "       [43, -1],\n",
       "       [44, 46],\n",
       "       [44, -1],\n",
       "       [45, 47],\n",
       "       [45, 46],\n",
       "       [47, -1],\n",
       "       [47, -1],\n",
       "       [48, 49],\n",
       "       [49, -1],\n",
       "       [49, -1],\n",
       "       [ 1,  3],\n",
       "       [ 4, -1],\n",
       "       [ 7, 13],\n",
       "       [ 9, -1],\n",
       "       [12, -1],\n",
       "       [16, 23],\n",
       "       [17, 24],\n",
       "       [18, -1],\n",
       "       [-1, 51],\n",
       "       [26, 35],\n",
       "       [36, 52],\n",
       "       [39, -1],\n",
       "       [40, -1],\n",
       "       [43, -1],\n",
       "       [46, 48],\n",
       "       [48, -1]])"
      ]
     },
     "execution_count": 21,
     "metadata": {},
     "output_type": "execute_result"
    }
   ],
   "source": [
    "topolWithNodes"
   ]
  },
  {
   "cell_type": "code",
   "execution_count": 18,
   "metadata": {},
   "outputs": [
    {
     "data": {
      "text/plain": [
       "array([ 3,  7,  8, 11, 15, 17, 18, 19, 20, 26, 30, 31, 32, 33, 39, 41, 42,\n",
       "       44, 46, 48, 50, 52, 53, 54, 60, 61, 62, 67, 68, 69, 71, 73, 76, 77,\n",
       "       79, 80, 82, 84, 85, 88, 89, 92, 93, 94, 96])"
      ]
     },
     "execution_count": 18,
     "metadata": {},
     "output_type": "execute_result"
    }
   ],
   "source": [
    "endEdgesToReplace"
   ]
  },
  {
   "cell_type": "code",
   "execution_count": 22,
   "metadata": {},
   "outputs": [],
   "source": [
    "for idx in endEdgesToReplace:\n",
    "    if topolWithNodes[idx, 1] == -1:\n",
    "        topolWithNodes[idx, 1] = nodes[idx]\n",
    "    elif topolWithNodes[idx, 0] == -1:\n",
    "        topolWithNodes[idx, 0] = nodes[idx]\n",
    "    else:\n",
    "        print('bad')"
   ]
  },
  {
   "cell_type": "code",
   "execution_count": 24,
   "metadata": {},
   "outputs": [],
   "source": [
    "G = nx.Graph()"
   ]
  },
  {
   "cell_type": "code",
   "execution_count": 26,
   "metadata": {},
   "outputs": [],
   "source": [
    "G.add_edges_from(topolWithNodes)"
   ]
  },
  {
   "cell_type": "code",
   "execution_count": 27,
   "metadata": {},
   "outputs": [
    {
     "data": {
      "text/plain": [
       "97"
      ]
     },
     "execution_count": 27,
     "metadata": {},
     "output_type": "execute_result"
    }
   ],
   "source": [
    "G.number_of_edges()"
   ]
  },
  {
   "cell_type": "code",
   "execution_count": 30,
   "metadata": {},
   "outputs": [
    {
     "data": {
      "image/png": "[encoded data removed]",
      "text/plain": [
       "<matplotlib.figure.Figure at 0x130c49588>"
      ]
     },
     "metadata": {},
     "output_type": "display_data"
    }
   ],
   "source": [
    "pos = nx.nx_agraph.graphviz_layout(G)\n",
    "nx.draw(G, pos=pos, with_labels=True)\n"
   ]
  },
  {
   "cell_type": "code",
   "execution_count": 38,
   "metadata": {},
   "outputs": [
    {
     "name": "stdout",
     "output_type": "stream",
     "text": [
      "50: [3]\n",
      "53: [31]\n",
      "54: [32]\n",
      "55: [32]\n",
      "61: [35]\n",
      "62: [36]\n",
      "63: [37]\n",
      "68: [40]\n",
      "69: [41]\n",
      "70: [41]\n",
      "72: [43]\n",
      "74: [44]\n",
      "77: [47]\n",
      "78: [47]\n",
      "80: [49]\n",
      "81: [49]\n",
      "83: [4]\n",
      "85: [9]\n",
      "86: [12]\n",
      "89: [18]\n",
      "90: [51]\n",
      "52: [36]\n",
      "93: [39]\n",
      "94: [40]\n",
      "95: [43]\n",
      "97: [48]\n"
     ]
    }
   ],
   "source": [
    "for nodeidx in G:\n",
    "    connections = [i for i in nx.all_neighbors(G, nodeidx)]\n",
    "    if len(connections) < 2:\n",
    "        print(f'{nodeidx}: {connections}')"
   ]
  },
  {
   "cell_type": "code",
   "execution_count": 31,
   "metadata": {},
   "outputs": [
    {
     "name": "stdout",
     "output_type": "stream",
     "text": [
      "1\n",
      "2\n",
      "3\n",
      "4\n",
      "6\n",
      "5\n",
      "7\n",
      "10\n",
      "8\n",
      "9\n",
      "11\n",
      "15\n",
      "12\n",
      "17\n",
      "13\n",
      "14\n",
      "16\n",
      "22\n",
      "18\n",
      "19\n",
      "20\n",
      "21\n",
      "27\n",
      "23\n",
      "24\n",
      "30\n",
      "31\n",
      "25\n",
      "26\n",
      "34\n",
      "28\n",
      "37\n",
      "38\n",
      "39\n",
      "32\n",
      "42\n",
      "33\n",
      "45\n",
      "29\n",
      "35\n",
      "47\n",
      "36\n",
      "51\n",
      "41\n",
      "43\n",
      "56\n",
      "57\n",
      "58\n",
      "44\n",
      "46\n",
      "62\n",
      "53\n",
      "40\n",
      "48\n",
      "66\n",
      "54\n",
      "49\n",
      "70\n",
      "71\n",
      "72\n",
      "50\n",
      "74\n",
      "75\n",
      "76\n",
      "77\n",
      "79\n",
      "80\n",
      "81\n",
      "52\n",
      "82\n",
      "83\n",
      "86\n",
      "87\n",
      "89\n",
      "90\n",
      "55\n",
      "95\n",
      "96\n",
      "97\n",
      "98\n",
      "-1\n",
      "103\n"
     ]
    }
   ],
   "source": [
    "for node in G.nodes():\n",
    "    print(f'{node}, {nx.}')"
   ]
  },
  {
   "cell_type": "code",
   "execution_count": null,
   "metadata": {},
   "outputs": [],
   "source": [
    "n"
   ]
  },
  {
   "cell_type": "code",
   "execution_count": 30,
   "metadata": {},
   "outputs": [
    {
     "data": {
      "text/plain": [
       "[[(1, 1)],\n",
       " [(2, 2)],\n",
       " [(4, 5), (5, 6), (6, 4)],\n",
       " [(6, 10),\n",
       "  (10, 17),\n",
       "  (17, 21),\n",
       "  (21, 25),\n",
       "  (25, 31),\n",
       "  (31, 20),\n",
       "  (20, 16),\n",
       "  (16, 12),\n",
       "  (12, 9),\n",
       "  (9, 7),\n",
       "  (7, 5)],\n",
       " [(6, 8), (8, 11), (11, 14), (14, 22), (22, 27), (27, 17)],\n",
       " [(7, 10)],\n",
       " [(9, 15), (15, 8)],\n",
       " [(12, 17)],\n",
       " [(20, 29), (29, 35), (35, 56), (56, 28), (28, 23), (23, 18), (18, 15)],\n",
       " [(31, 37), (37, 45), (45, 28)],\n",
       " [(25, 32),\n",
       "  (32, 38),\n",
       "  (38, 24),\n",
       "  (24, 39),\n",
       "  (39, 33),\n",
       "  (33, 26),\n",
       "  (26, 42),\n",
       "  (42, 34),\n",
       "  (34, 41),\n",
       "  (41, 48),\n",
       "  (48, 43),\n",
       "  (43, 35)],\n",
       " [(21, 26)],\n",
       " [(27, 40), (40, 47), (47, 29)],\n",
       " [(27, 34)],\n",
       " [(22, 34)],\n",
       " [(22, 13), (13, 11)],\n",
       " [(15, 19), (19, 24)],\n",
       " [(23, 37)],\n",
       " [(43, 49), (49, 51), (51, 33)],\n",
       " [(41, 49)],\n",
       " [(36, 58), (58, -1), (-1, 57), (57, 36)]]"
      ]
     },
     "execution_count": 30,
     "metadata": {},
     "output_type": "execute_result"
    }
   ],
   "source": [
    "[i for i in C]"
   ]
  },
  {
   "cell_type": "code",
   "execution_count": 26,
   "metadata": {},
   "outputs": [
    {
     "ename": "AttributeError",
     "evalue": "'generator' object has no attribute 'is_directed'",
     "output_type": "error",
     "traceback": [
      "\u001b[0;31m---------------------------------------------------------------------------\u001b[0m",
      "\u001b[0;31mAttributeError\u001b[0m                            Traceback (most recent call last)",
      "\u001b[0;32m<ipython-input-26-50b4c43f0546>\u001b[0m in \u001b[0;36m<module>\u001b[0;34m()\u001b[0m\n\u001b[0;32m----> 1\u001b[0;31m \u001b[0mpos\u001b[0m \u001b[0;34m=\u001b[0m \u001b[0mnx\u001b[0m\u001b[0;34m.\u001b[0m\u001b[0mnx_agraph\u001b[0m\u001b[0;34m.\u001b[0m\u001b[0mgraphviz_layout\u001b[0m\u001b[0;34m(\u001b[0m\u001b[0mC\u001b[0m\u001b[0;34m)\u001b[0m\u001b[0;34m\u001b[0m\u001b[0m\n\u001b[0m\u001b[1;32m      2\u001b[0m \u001b[0mnx\u001b[0m\u001b[0;34m.\u001b[0m\u001b[0mdraw\u001b[0m\u001b[0;34m(\u001b[0m\u001b[0mC\u001b[0m\u001b[0;34m,\u001b[0m \u001b[0mpos\u001b[0m\u001b[0;34m=\u001b[0m\u001b[0mpos\u001b[0m\u001b[0;34m,\u001b[0m \u001b[0mwith_labels\u001b[0m\u001b[0;34m=\u001b[0m\u001b[0;32mTrue\u001b[0m\u001b[0;34m)\u001b[0m\u001b[0;34m\u001b[0m\u001b[0m\n",
      "\u001b[0;32m~/miniconda3/envs/vmtkplayground/lib/python3.6/site-packages/networkx/drawing/nx_agraph.py\u001b[0m in \u001b[0;36mgraphviz_layout\u001b[0;34m(G, prog, root, args)\u001b[0m\n\u001b[1;32m    241\u001b[0m \u001b[0;34m\u001b[0m\u001b[0m\n\u001b[1;32m    242\u001b[0m     \"\"\"\n\u001b[0;32m--> 243\u001b[0;31m     \u001b[0;32mreturn\u001b[0m \u001b[0mpygraphviz_layout\u001b[0m\u001b[0;34m(\u001b[0m\u001b[0mG\u001b[0m\u001b[0;34m,\u001b[0m \u001b[0mprog\u001b[0m\u001b[0;34m=\u001b[0m\u001b[0mprog\u001b[0m\u001b[0;34m,\u001b[0m \u001b[0mroot\u001b[0m\u001b[0;34m=\u001b[0m\u001b[0mroot\u001b[0m\u001b[0;34m,\u001b[0m \u001b[0margs\u001b[0m\u001b[0;34m=\u001b[0m\u001b[0margs\u001b[0m\u001b[0;34m)\u001b[0m\u001b[0;34m\u001b[0m\u001b[0m\n\u001b[0m\u001b[1;32m    244\u001b[0m \u001b[0;34m\u001b[0m\u001b[0m\n\u001b[1;32m    245\u001b[0m \u001b[0;34m\u001b[0m\u001b[0m\n",
      "\u001b[0;32m~/miniconda3/envs/vmtkplayground/lib/python3.6/site-packages/networkx/drawing/nx_agraph.py\u001b[0m in \u001b[0;36mpygraphviz_layout\u001b[0;34m(G, prog, root, args)\u001b[0m\n\u001b[1;32m    275\u001b[0m     \u001b[0;32mif\u001b[0m \u001b[0mroot\u001b[0m \u001b[0;32mis\u001b[0m \u001b[0;32mnot\u001b[0m \u001b[0;32mNone\u001b[0m\u001b[0;34m:\u001b[0m\u001b[0;34m\u001b[0m\u001b[0m\n\u001b[1;32m    276\u001b[0m         \u001b[0margs\u001b[0m \u001b[0;34m+=\u001b[0m \u001b[0;34m\"-Groot=%s\"\u001b[0m \u001b[0;34m%\u001b[0m \u001b[0mroot\u001b[0m\u001b[0;34m\u001b[0m\u001b[0m\n\u001b[0;32m--> 277\u001b[0;31m     \u001b[0mA\u001b[0m \u001b[0;34m=\u001b[0m \u001b[0mto_agraph\u001b[0m\u001b[0;34m(\u001b[0m\u001b[0mG\u001b[0m\u001b[0;34m)\u001b[0m\u001b[0;34m\u001b[0m\u001b[0m\n\u001b[0m\u001b[1;32m    278\u001b[0m     \u001b[0mA\u001b[0m\u001b[0;34m.\u001b[0m\u001b[0mlayout\u001b[0m\u001b[0;34m(\u001b[0m\u001b[0mprog\u001b[0m\u001b[0;34m=\u001b[0m\u001b[0mprog\u001b[0m\u001b[0;34m,\u001b[0m \u001b[0margs\u001b[0m\u001b[0;34m=\u001b[0m\u001b[0margs\u001b[0m\u001b[0;34m)\u001b[0m\u001b[0;34m\u001b[0m\u001b[0m\n\u001b[1;32m    279\u001b[0m     \u001b[0mnode_pos\u001b[0m \u001b[0;34m=\u001b[0m \u001b[0;34m{\u001b[0m\u001b[0;34m}\u001b[0m\u001b[0;34m\u001b[0m\u001b[0m\n",
      "\u001b[0;32m~/miniconda3/envs/vmtkplayground/lib/python3.6/site-packages/networkx/drawing/nx_agraph.py\u001b[0m in \u001b[0;36mto_agraph\u001b[0;34m(N)\u001b[0m\n\u001b[1;32m    137\u001b[0m         raise ImportError('requires pygraphviz ',\n\u001b[1;32m    138\u001b[0m                           'http://pygraphviz.github.io/')\n\u001b[0;32m--> 139\u001b[0;31m     \u001b[0mdirected\u001b[0m \u001b[0;34m=\u001b[0m \u001b[0mN\u001b[0m\u001b[0;34m.\u001b[0m\u001b[0mis_directed\u001b[0m\u001b[0;34m(\u001b[0m\u001b[0;34m)\u001b[0m\u001b[0;34m\u001b[0m\u001b[0m\n\u001b[0m\u001b[1;32m    140\u001b[0m     \u001b[0mstrict\u001b[0m \u001b[0;34m=\u001b[0m \u001b[0mnx\u001b[0m\u001b[0;34m.\u001b[0m\u001b[0mnumber_of_selfloops\u001b[0m\u001b[0;34m(\u001b[0m\u001b[0mN\u001b[0m\u001b[0;34m)\u001b[0m \u001b[0;34m==\u001b[0m \u001b[0;36m0\u001b[0m \u001b[0;32mand\u001b[0m \u001b[0;32mnot\u001b[0m \u001b[0mN\u001b[0m\u001b[0;34m.\u001b[0m\u001b[0mis_multigraph\u001b[0m\u001b[0;34m(\u001b[0m\u001b[0;34m)\u001b[0m\u001b[0;34m\u001b[0m\u001b[0m\n\u001b[1;32m    141\u001b[0m     \u001b[0mA\u001b[0m \u001b[0;34m=\u001b[0m \u001b[0mpygraphviz\u001b[0m\u001b[0;34m.\u001b[0m\u001b[0mAGraph\u001b[0m\u001b[0;34m(\u001b[0m\u001b[0mname\u001b[0m\u001b[0;34m=\u001b[0m\u001b[0mN\u001b[0m\u001b[0;34m.\u001b[0m\u001b[0mname\u001b[0m\u001b[0;34m,\u001b[0m \u001b[0mstrict\u001b[0m\u001b[0;34m=\u001b[0m\u001b[0mstrict\u001b[0m\u001b[0;34m,\u001b[0m \u001b[0mdirected\u001b[0m\u001b[0;34m=\u001b[0m\u001b[0mdirected\u001b[0m\u001b[0;34m)\u001b[0m\u001b[0;34m\u001b[0m\u001b[0m\n",
      "\u001b[0;31mAttributeError\u001b[0m: 'generator' object has no attribute 'is_directed'"
     ]
    }
   ],
   "source": [
    "pos = nx.nx_agraph.graphviz_layout(C)\n",
    "nx.draw(C, pos=pos, with_labels=True)"
   ]
  },
  {
   "cell_type": "code",
   "execution_count": null,
   "metadata": {},
   "outputs": [],
   "source": [
    "endCellIds = []\n",
    "startCellIds = []\n",
    "for cellId, cellTop in enumerate(cellDataTopology):\n",
    "    if cellTop[1] == -1:\n",
    "        endCellIds.append(cellId)"
   ]
  },
  {
   "cell_type": "code",
   "execution_count": null,
   "metadata": {},
   "outputs": [],
   "source": [
    "endCellIds"
   ]
  },
  {
   "cell_type": "code",
   "execution_count": null,
   "metadata": {},
   "outputs": [],
   "source": [
    "endPointIds = []\n",
    "for cellId in endCellIds:  \n",
    "    endPointIds.append(ad['CellData']['CellPointIds'][cellId][-2])\n",
    "\n",
    "endPointCoordinates = []\n",
    "for pointId in endPointIds:\n",
    "    endPointCoordinates.append(ad['Points'][pointId])"
   ]
  },
  {
   "cell_type": "code",
   "execution_count": null,
   "metadata": {},
   "outputs": [],
   "source": [
    "endPointCoordinates"
   ]
  },
  {
   "cell_type": "code",
   "execution_count": null,
   "metadata": {},
   "outputs": [],
   "source": [
    "endPointCoordinates = np.array(endPointCoordinates)"
   ]
  },
  {
   "cell_type": "code",
   "execution_count": null,
   "metadata": {},
   "outputs": [],
   "source": [
    "endPointCoordinates.shape"
   ]
  },
  {
   "cell_type": "code",
   "execution_count": null,
   "metadata": {},
   "outputs": [],
   "source": [
    "sourcePoints = endPointCoordinates[-1]"
   ]
  },
  {
   "cell_type": "code",
   "execution_count": null,
   "metadata": {},
   "outputs": [],
   "source": [
    "sourcePoints.shape"
   ]
  },
  {
   "cell_type": "code",
   "execution_count": null,
   "metadata": {},
   "outputs": [],
   "source": [
    "flatSourcePoints = sourcePoints.flatten(order='C').tolist()"
   ]
  },
  {
   "cell_type": "code",
   "execution_count": null,
   "metadata": {},
   "outputs": [],
   "source": [
    "sourcePoints"
   ]
  },
  {
   "cell_type": "code",
   "execution_count": null,
   "metadata": {},
   "outputs": [],
   "source": [
    "targetPoints = endPointCoordinates[0:-1]"
   ]
  },
  {
   "cell_type": "code",
   "execution_count": null,
   "metadata": {},
   "outputs": [],
   "source": [
    "targetPoints.shape"
   ]
  },
  {
   "cell_type": "code",
   "execution_count": null,
   "metadata": {},
   "outputs": [],
   "source": [
    "flatTargetPoints = targetPoints.flatten(order='C').tolist()"
   ]
  },
  {
   "cell_type": "code",
   "execution_count": null,
   "metadata": {},
   "outputs": [],
   "source": [
    "targetPoints"
   ]
  },
  {
   "cell_type": "code",
   "execution_count": null,
   "metadata": {},
   "outputs": [],
   "source": [
    "cl = vmtkscripts.vmtkCenterlines()\n",
    "cl.Surface = surf\n",
    "cl.SeedSelectorName = 'pointlist'\n",
    "cl.SourcePoints = flatSourcePoints\n",
    "cl.TargetPoints = flatTargetPoints\n",
    "cl.Execute()"
   ]
  },
  {
   "cell_type": "markdown",
   "metadata": {},
   "source": [
    "numberOfCells = surfr.Surface.GetNumberOfCells()\n",
    "cellToRemove = numberOfCells - 10\n",
    "cellIds = vtk.vtkIdTypeArray()\n",
    "cellIds.SetNumberOfComponents(1)\n",
    "cellIds.InsertNextValue(cellToRemove)\n",
    "\n",
    "selectionNode = vtk.vtkSelectionNode()\n",
    "selectionNode.SetFieldType(selectionNode.CELL)\n",
    "selectionNode.SetContentType(selectionNode.INDICES)\n",
    "selectionNode.SetSelectionList(cellIds)\n",
    "\n",
    "selection = vtk.vtkSelection()\n",
    "selection.AddNode(selectionNode)\n",
    "\n",
    "extractSelection = vtk.vtkExtractSelection()\n",
    "extractSelection.SetInputData(0, surf)\n",
    "extractSelection.SetInputData(1, selection)\n",
    "extractSelection.Update()\n",
    "    "
   ]
  },
  {
   "cell_type": "markdown",
   "metadata": {},
   "source": [
    "select = vmtkscripts.vmtkSurfaceConnectivitySelector()\n",
    "select.Surface = surfr.Surface\n",
    "select.Execute()"
   ]
  },
  {
   "cell_type": "code",
   "execution_count": 25,
   "metadata": {},
   "outputs": [
    {
     "name": "stdout",
     "output_type": "stream",
     "text": [
      "Quit renderer\n"
     ]
    }
   ],
   "source": [
    "sv = vmtkscripts.vmtkSurfaceViewer()\n",
    "sv.Surface = surf\n",
    "sv.Execute()"
   ]
  },
  {
   "cell_type": "code",
   "execution_count": null,
   "metadata": {},
   "outputs": [],
   "source": [
    "edit = vmtkscripts.vmtkNetworkEditor()\n",
    "edit.Network = net.Network\n",
    "edit.Execute()"
   ]
  },
  {
   "cell_type": "code",
   "execution_count": 24,
   "metadata": {},
   "outputs": [
    {
     "name": "stdout",
     "output_type": "stream",
     "text": [
      "Quit renderer\n"
     ]
    }
   ],
   "source": [
    "cv = vmtkscripts.vmtkCenterlineViewer()\n",
    "cv.Centerlines = network\n",
    "cv.Execute()"
   ]
  },
  {
   "cell_type": "code",
   "execution_count": null,
   "metadata": {},
   "outputs": [],
   "source": [
    "conver"
   ]
  },
  {
   "cell_type": "code",
   "execution_count": null,
   "metadata": {},
   "outputs": [],
   "source": [
    "rend = vmtkscripts.vmtkRenderer()\n",
    "rend.Execute()\n",
    "\n",
    "view = vmtkscripts.vmtkSurfaceViewer()\n",
    "view.vmtkRenderer = rend.vmtkRenderer\n",
    "view.Opacity = 0.3\n",
    "view.Surface = surf\n",
    "view.Execute()\n",
    "\n",
    "view2 = vmtkscripts.vmtkCenterlineViewer()\n",
    "view2.vmtkRenderer = rend.vmtkRenderer\n",
    "view2.Centerlines = cl.Centerlines\n",
    "view2.Execute()"
   ]
  },
  {
   "cell_type": "code",
   "execution_count": null,
   "metadata": {},
   "outputs": [],
   "source": [
    "write = vmtkscripts.vmtkSurfaceWriter()\n",
    "write.Surface = net.Network\n",
    "write.OutputFileName = os.path.join(os.getcwd(), 'test-multi-hole.vtp')\n",
    "write.Execute()"
   ]
  },
  {
   "cell_type": "code",
   "execution_count": null,
   "metadata": {},
   "outputs": [],
   "source": []
  }
 ],
 "metadata": {
  "kernelspec": {
   "display_name": "Python 3",
   "language": "python",
   "name": "python3"
  },
  "language_info": {
   "codemirror_mode": {
    "name": "ipython",
    "version": 3
   },
   "file_extension": ".py",
   "mimetype": "text/x-python",
   "name": "python",
   "nbconvert_exporter": "python",
   "pygments_lexer": "ipython3",
   "version": "3.6.1"
  }
 },
 "nbformat": 4,
 "nbformat_minor": 2
}
