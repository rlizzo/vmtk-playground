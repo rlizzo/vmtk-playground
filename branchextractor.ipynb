{
 "cells": [
  {
   "cell_type": "code",
   "execution_count": 1,
   "metadata": {},
   "outputs": [],
   "source": [
    "import vtk\n",
    "from vtk.numpy_interface import dataset_adapter as dsa\n",
    "from vmtk import vmtkscripts\n",
    "import numpy as np\n",
    "\n",
    "import os"
   ]
  },
  {
   "cell_type": "code",
   "execution_count": 2,
   "metadata": {},
   "outputs": [],
   "source": [
    "datadir = '/Users/rick/projects/vmtk/vmtk-test-data/input/'"
   ]
  },
  {
   "cell_type": "code",
   "execution_count": 3,
   "metadata": {},
   "outputs": [
    {
     "name": "stdout",
     "output_type": "stream",
     "text": [
      "Reading VTK XML surface file.\n"
     ]
    }
   ],
   "source": [
    "centerlinereader = vmtkscripts.vmtkSurfaceReader()\n",
    "centerlinereader.InputFileName = os.path.join(datadir, 'aorta-centerline.vtp')\n",
    "centerlinereader.Execute()"
   ]
  },
  {
   "cell_type": "code",
   "execution_count": 4,
   "metadata": {},
   "outputs": [],
   "source": [
    "branchextractor = vmtkscripts.vmtkBranchExtractor()\n",
    "branchextractor.Centerlines = centerlinereader.Surface\n",
    "branchextractor.RadiusArrayName = 'MaximumInscribedSphereRadius'\n",
    "branchextractor.Execute()"
   ]
  },
  {
   "cell_type": "code",
   "execution_count": 5,
   "metadata": {},
   "outputs": [],
   "source": [
    "b = branchextractor.Centerlines"
   ]
  },
  {
   "cell_type": "code",
   "execution_count": 6,
   "metadata": {},
   "outputs": [
    {
     "data": {
      "text/plain": [
       "6"
      ]
     },
     "execution_count": 6,
     "metadata": {},
     "output_type": "execute_result"
    }
   ],
   "source": [
    "b.GetNumberOfLines()"
   ]
  },
  {
   "cell_type": "code",
   "execution_count": 7,
   "metadata": {},
   "outputs": [
    {
     "data": {
      "text/plain": [
       "6"
      ]
     },
     "execution_count": 7,
     "metadata": {},
     "output_type": "execute_result"
    }
   ],
   "source": [
    "b.GetNumberOfCells()"
   ]
  },
  {
   "cell_type": "code",
   "execution_count": 8,
   "metadata": {},
   "outputs": [
    {
     "data": {
      "text/plain": [
       "417"
      ]
     },
     "execution_count": 8,
     "metadata": {},
     "output_type": "execute_result"
    }
   ],
   "source": [
    "b.GetNumberOfPoints()"
   ]
  },
  {
   "cell_type": "code",
   "execution_count": 9,
   "metadata": {},
   "outputs": [],
   "source": [
    "bcd = b.GetCellData()"
   ]
  },
  {
   "cell_type": "code",
   "execution_count": 10,
   "metadata": {},
   "outputs": [],
   "source": [
    "bw = dsa.WrapDataObject(b)"
   ]
  },
  {
   "cell_type": "code",
   "execution_count": 11,
   "metadata": {},
   "outputs": [
    {
     "data": {
      "text/plain": [
       "4"
      ]
     },
     "execution_count": 11,
     "metadata": {},
     "output_type": "execute_result"
    }
   ],
   "source": [
    "bcd.GetNumberOfArrays()"
   ]
  },
  {
   "cell_type": "code",
   "execution_count": 12,
   "metadata": {},
   "outputs": [
    {
     "data": {
      "text/plain": [
       "'CenterlineIds'"
      ]
     },
     "execution_count": 12,
     "metadata": {},
     "output_type": "execute_result"
    }
   ],
   "source": [
    "bcd.GetArrayName(0)"
   ]
  },
  {
   "cell_type": "code",
   "execution_count": 23,
   "metadata": {},
   "outputs": [
    {
     "data": {
      "text/plain": [
       "[0, 0, 0, 1, 1, 1]"
      ]
     },
     "execution_count": 23,
     "metadata": {},
     "output_type": "execute_result"
    }
   ],
   "source": [
    "bw.CellData.GetArray(0).tolist()"
   ]
  },
  {
   "cell_type": "code",
   "execution_count": 24,
   "metadata": {},
   "outputs": [
    {
     "data": {
      "text/plain": [
       "'TractIds'"
      ]
     },
     "execution_count": 24,
     "metadata": {},
     "output_type": "execute_result"
    }
   ],
   "source": [
    "bcd.GetArrayName(1)"
   ]
  },
  {
   "cell_type": "code",
   "execution_count": 25,
   "metadata": {},
   "outputs": [
    {
     "data": {
      "text/plain": [
       "[0, 1, 2, 0, 1, 2]"
      ]
     },
     "execution_count": 25,
     "metadata": {},
     "output_type": "execute_result"
    }
   ],
   "source": [
    "bw.CellData.GetArray(1).tolist()"
   ]
  },
  {
   "cell_type": "code",
   "execution_count": 26,
   "metadata": {},
   "outputs": [
    {
     "data": {
      "text/plain": [
       "'Blanking'"
      ]
     },
     "execution_count": 26,
     "metadata": {},
     "output_type": "execute_result"
    }
   ],
   "source": [
    "bcd.GetArrayName(2)"
   ]
  },
  {
   "cell_type": "code",
   "execution_count": 27,
   "metadata": {},
   "outputs": [
    {
     "data": {
      "text/plain": [
       "[0, 1, 0, 0, 1, 0]"
      ]
     },
     "execution_count": 27,
     "metadata": {},
     "output_type": "execute_result"
    }
   ],
   "source": [
    "bw.CellData.GetArray(2).tolist()"
   ]
  },
  {
   "cell_type": "code",
   "execution_count": 28,
   "metadata": {},
   "outputs": [
    {
     "data": {
      "text/plain": [
       "'GroupIds'"
      ]
     },
     "execution_count": 28,
     "metadata": {},
     "output_type": "execute_result"
    }
   ],
   "source": [
    "bcd.GetArrayName(3)"
   ]
  },
  {
   "cell_type": "code",
   "execution_count": 31,
   "metadata": {},
   "outputs": [
    {
     "data": {
      "text/plain": [
       "[0, 1, 2, 0, 1, 3]"
      ]
     },
     "execution_count": 31,
     "metadata": {},
     "output_type": "execute_result"
    }
   ],
   "source": [
    "bw.CellData.GetArray(3).tolist()"
   ]
  },
  {
   "cell_type": "code",
   "execution_count": 20,
   "metadata": {},
   "outputs": [
    {
     "data": {
      "text/plain": [
       "VTKArray([[ 222.09629822,  175.8699646 ,   21.67310715],\n",
       "          [ 221.99838257,  174.74093628,   22.02275085],\n",
       "          [ 221.98518372,  174.30239868,   22.06083298],\n",
       "          ..., \n",
       "          [ 210.42919922,  103.91375732,   31.36408615],\n",
       "          [ 210.40319824,  103.85747528,   31.43470001],\n",
       "          [ 210.20037842,  103.04645538,   31.68768501]], dtype=float32)"
      ]
     },
     "execution_count": 20,
     "metadata": {},
     "output_type": "execute_result"
    }
   ],
   "source": [
    "bw.Points"
   ]
  },
  {
   "cell_type": "code",
   "execution_count": 36,
   "metadata": {},
   "outputs": [
    {
     "name": "stdout",
     "output_type": "stream",
     "text": [
      "For cell: 0\n",
      "Number Of Points: 78 \n",
      " Point Id Start: 0 \n",
      " Point Id End: 77 \n",
      " Point Location Start: [ 222.09629822  175.8699646    21.67310715] \n",
      " Point Location End: [ 222.55067444  140.65298462   23.77128601] \n",
      "\n",
      "For cell: 1\n",
      "Number Of Points: 21 \n",
      " Point Id Start: 78 \n",
      " Point Id End: 98 \n",
      " Point Location Start: [ 222.55067444  140.65298462   23.77128601] \n",
      " Point Location End: [ 225.06373596  134.70544434   23.55709076] \n",
      "\n",
      "For cell: 2\n",
      "Number Of Points: 116 \n",
      " Point Id Start: 99 \n",
      " Point Id End: 214 \n",
      " Point Location Start: [ 225.06373596  134.70544434   23.55709076] \n",
      " Point Location End: [ 234.35397339  101.31446838   28.98675537] \n",
      "\n",
      "For cell: 3\n",
      "Number Of Points: 73 \n",
      " Point Id Start: 215 \n",
      " Point Id End: 287 \n",
      " Point Location Start: [ 222.09629822  175.8699646    21.67310715] \n",
      " Point Location End: [ 220.89038086  140.92050171   23.99687004] \n",
      "\n",
      "For cell: 4\n",
      "Number Of Points: 26 \n",
      " Point Id Start: 288 \n",
      " Point Id End: 313 \n",
      " Point Location Start: [ 220.89038086  140.92050171   23.99687004] \n",
      " Point Location End: [ 218.53140259  134.76171875   24.90955925] \n",
      "\n",
      "For cell: 5\n",
      "Number Of Points: 103 \n",
      " Point Id Start: 314 \n",
      " Point Id End: 416 \n",
      " Point Location Start: [ 218.53140259  134.76171875   24.90955925] \n",
      " Point Location End: [ 210.20037842  103.04645538   31.68768501] \n",
      "\n"
     ]
    }
   ],
   "source": [
    "for idx in range(6):\n",
    "    print(f'For cell: {idx}')\n",
    "    bcx = b.GetCell(idx)\n",
    "    numberOfPoints = bcx.GetNumberOfPoints()\n",
    "    pointIdStart = bcx.GetPointId(0)\n",
    "    pointIdEnd = bcx.GetPointId(numberOfPoints - 1)\n",
    "    pointLocationStart = bw.Points[pointIdStart]\n",
    "    pointLocationEnd = bw.Points[pointIdEnd]\n",
    "    print(f'Number Of Points: {numberOfPoints} \\n',\n",
    "          f'Point Id Start: {pointIdStart} \\n',\n",
    "          f'Point Id End: {pointIdEnd} \\n',\n",
    "          f'Point Location Start: {pointLocationStart} \\n',\n",
    "          f'Point Location End: {pointLocationEnd} \\n')"
   ]
  },
  {
   "cell_type": "code",
   "execution_count": null,
   "metadata": {},
   "outputs": [],
   "source": [
    "print(b)"
   ]
  },
  {
   "cell_type": "code",
   "execution_count": null,
   "metadata": {},
   "outputs": [],
   "source": [
    "centerlineviewer = vmtkscripts.vmtkCenterlineViewer()\n",
    "centerlineviewer.Centerlines = branchextractor.Centerlines\n",
    "centerlineviewer.CellDataArrayName = 'CenterlineIds'\n",
    "centerlineviewer.Execute()"
   ]
  },
  {
   "cell_type": "code",
   "execution_count": null,
   "metadata": {},
   "outputs": [],
   "source": []
  }
 ],
 "metadata": {
  "kernelspec": {
   "display_name": "Python 3",
   "language": "python",
   "name": "python3"
  },
  "language_info": {
   "codemirror_mode": {
    "name": "ipython",
    "version": 3
   },
   "file_extension": ".py",
   "mimetype": "text/x-python",
   "name": "python",
   "nbconvert_exporter": "python",
   "pygments_lexer": "ipython3",
   "version": "3.6.1"
  }
 },
 "nbformat": 4,
 "nbformat_minor": 2
}
